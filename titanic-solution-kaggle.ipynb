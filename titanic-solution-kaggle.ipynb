{
 "cells": [
  {
   "cell_type": "code",
   "execution_count": 1,
   "id": "b0229d49",
   "metadata": {
    "_cell_guid": "b1076dfc-b9ad-4769-8c92-a6c4dae69d19",
    "_uuid": "8f2839f25d086af736a60e9eeb907d3b93b6e0e5",
    "execution": {
     "iopub.execute_input": "2022-01-15T14:56:55.598736Z",
     "iopub.status.busy": "2022-01-15T14:56:55.597623Z",
     "iopub.status.idle": "2022-01-15T14:56:55.611112Z",
     "shell.execute_reply": "2022-01-15T14:56:55.611821Z",
     "shell.execute_reply.started": "2022-01-15T14:48:26.699906Z"
    },
    "papermill": {
     "duration": 0.061526,
     "end_time": "2022-01-15T14:56:55.612138",
     "exception": false,
     "start_time": "2022-01-15T14:56:55.550612",
     "status": "completed"
    },
    "tags": []
   },
   "outputs": [
    {
     "name": "stdout",
     "output_type": "stream",
     "text": [
      "/kaggle/input/titanic/train.csv\n",
      "/kaggle/input/titanic/test.csv\n",
      "/kaggle/input/titanic/gender_submission.csv\n"
     ]
    }
   ],
   "source": [
    "# This Python 3 environment comes with many helpful analytics libraries installed\n",
    "# It is defined by the kaggle/python Docker image: https://github.com/kaggle/docker-python\n",
    "# For example, here's several helpful packages to load\n",
    "\n",
    "import numpy as np # linear algebra\n",
    "import pandas as pd # data processing, CSV file I/O (e.g. pd.read_csv)\n",
    "\n",
    "# Input data files are available in the read-only \"../input/\" directory\n",
    "# For example, running this (by clicking run or pressing Shift+Enter) will list all files under the input directory\n",
    "\n",
    "import os\n",
    "for dirname, _, filenames in os.walk('/kaggle/input'):\n",
    "    for filename in filenames:\n",
    "        print(os.path.join(dirname, filename))\n",
    "\n",
    "# You can write up to 20GB to the current directory (/kaggle/working/) that gets preserved as output when you create a version using \"Save & Run All\" \n",
    "# You can also write temporary files to /kaggle/temp/, but they won't be saved outside of the current session"
   ]
  },
  {
   "cell_type": "code",
   "execution_count": 2,
   "id": "219b0892",
   "metadata": {
    "execution": {
     "iopub.execute_input": "2022-01-15T14:56:55.737328Z",
     "iopub.status.busy": "2022-01-15T14:56:55.736658Z",
     "iopub.status.idle": "2022-01-15T14:56:56.711083Z",
     "shell.execute_reply": "2022-01-15T14:56:56.710584Z",
     "shell.execute_reply.started": "2022-01-15T14:48:26.719425Z"
    },
    "papermill": {
     "duration": 1.038891,
     "end_time": "2022-01-15T14:56:56.711204",
     "exception": false,
     "start_time": "2022-01-15T14:56:55.672313",
     "status": "completed"
    },
    "tags": []
   },
   "outputs": [],
   "source": [
    "import seaborn as sns\n",
    "import matplotlib.pyplot as plt\n",
    "import warnings\n",
    "warnings.filterwarnings('ignore')"
   ]
  },
  {
   "cell_type": "code",
   "execution_count": 3,
   "id": "722f0e6b",
   "metadata": {
    "execution": {
     "iopub.execute_input": "2022-01-15T14:56:56.790229Z",
     "iopub.status.busy": "2022-01-15T14:56:56.789730Z",
     "iopub.status.idle": "2022-01-15T14:56:56.827824Z",
     "shell.execute_reply": "2022-01-15T14:56:56.828231Z",
     "shell.execute_reply.started": "2022-01-15T14:48:27.768569Z"
    },
    "papermill": {
     "duration": 0.078277,
     "end_time": "2022-01-15T14:56:56.828366",
     "exception": false,
     "start_time": "2022-01-15T14:56:56.750089",
     "status": "completed"
    },
    "tags": []
   },
   "outputs": [
    {
     "data": {
      "text/html": [
       "<div>\n",
       "<style scoped>\n",
       "    .dataframe tbody tr th:only-of-type {\n",
       "        vertical-align: middle;\n",
       "    }\n",
       "\n",
       "    .dataframe tbody tr th {\n",
       "        vertical-align: top;\n",
       "    }\n",
       "\n",
       "    .dataframe thead th {\n",
       "        text-align: right;\n",
       "    }\n",
       "</style>\n",
       "<table border=\"1\" class=\"dataframe\">\n",
       "  <thead>\n",
       "    <tr style=\"text-align: right;\">\n",
       "      <th></th>\n",
       "      <th>PassengerId</th>\n",
       "      <th>Survived</th>\n",
       "      <th>Pclass</th>\n",
       "      <th>Name</th>\n",
       "      <th>Sex</th>\n",
       "      <th>Age</th>\n",
       "      <th>SibSp</th>\n",
       "      <th>Parch</th>\n",
       "      <th>Ticket</th>\n",
       "      <th>Fare</th>\n",
       "      <th>Cabin</th>\n",
       "      <th>Embarked</th>\n",
       "    </tr>\n",
       "  </thead>\n",
       "  <tbody>\n",
       "    <tr>\n",
       "      <th>0</th>\n",
       "      <td>1</td>\n",
       "      <td>0</td>\n",
       "      <td>3</td>\n",
       "      <td>Braund, Mr. Owen Harris</td>\n",
       "      <td>male</td>\n",
       "      <td>22.0</td>\n",
       "      <td>1</td>\n",
       "      <td>0</td>\n",
       "      <td>A/5 21171</td>\n",
       "      <td>7.2500</td>\n",
       "      <td>NaN</td>\n",
       "      <td>S</td>\n",
       "    </tr>\n",
       "    <tr>\n",
       "      <th>1</th>\n",
       "      <td>2</td>\n",
       "      <td>1</td>\n",
       "      <td>1</td>\n",
       "      <td>Cumings, Mrs. John Bradley (Florence Briggs Th...</td>\n",
       "      <td>female</td>\n",
       "      <td>38.0</td>\n",
       "      <td>1</td>\n",
       "      <td>0</td>\n",
       "      <td>PC 17599</td>\n",
       "      <td>71.2833</td>\n",
       "      <td>C85</td>\n",
       "      <td>C</td>\n",
       "    </tr>\n",
       "    <tr>\n",
       "      <th>2</th>\n",
       "      <td>3</td>\n",
       "      <td>1</td>\n",
       "      <td>3</td>\n",
       "      <td>Heikkinen, Miss. Laina</td>\n",
       "      <td>female</td>\n",
       "      <td>26.0</td>\n",
       "      <td>0</td>\n",
       "      <td>0</td>\n",
       "      <td>STON/O2. 3101282</td>\n",
       "      <td>7.9250</td>\n",
       "      <td>NaN</td>\n",
       "      <td>S</td>\n",
       "    </tr>\n",
       "    <tr>\n",
       "      <th>3</th>\n",
       "      <td>4</td>\n",
       "      <td>1</td>\n",
       "      <td>1</td>\n",
       "      <td>Futrelle, Mrs. Jacques Heath (Lily May Peel)</td>\n",
       "      <td>female</td>\n",
       "      <td>35.0</td>\n",
       "      <td>1</td>\n",
       "      <td>0</td>\n",
       "      <td>113803</td>\n",
       "      <td>53.1000</td>\n",
       "      <td>C123</td>\n",
       "      <td>S</td>\n",
       "    </tr>\n",
       "    <tr>\n",
       "      <th>4</th>\n",
       "      <td>5</td>\n",
       "      <td>0</td>\n",
       "      <td>3</td>\n",
       "      <td>Allen, Mr. William Henry</td>\n",
       "      <td>male</td>\n",
       "      <td>35.0</td>\n",
       "      <td>0</td>\n",
       "      <td>0</td>\n",
       "      <td>373450</td>\n",
       "      <td>8.0500</td>\n",
       "      <td>NaN</td>\n",
       "      <td>S</td>\n",
       "    </tr>\n",
       "  </tbody>\n",
       "</table>\n",
       "</div>"
      ],
      "text/plain": [
       "   PassengerId  Survived  Pclass  \\\n",
       "0            1         0       3   \n",
       "1            2         1       1   \n",
       "2            3         1       3   \n",
       "3            4         1       1   \n",
       "4            5         0       3   \n",
       "\n",
       "                                                Name     Sex   Age  SibSp  \\\n",
       "0                            Braund, Mr. Owen Harris    male  22.0      1   \n",
       "1  Cumings, Mrs. John Bradley (Florence Briggs Th...  female  38.0      1   \n",
       "2                             Heikkinen, Miss. Laina  female  26.0      0   \n",
       "3       Futrelle, Mrs. Jacques Heath (Lily May Peel)  female  35.0      1   \n",
       "4                           Allen, Mr. William Henry    male  35.0      0   \n",
       "\n",
       "   Parch            Ticket     Fare Cabin Embarked  \n",
       "0      0         A/5 21171   7.2500   NaN        S  \n",
       "1      0          PC 17599  71.2833   C85        C  \n",
       "2      0  STON/O2. 3101282   7.9250   NaN        S  \n",
       "3      0            113803  53.1000  C123        S  \n",
       "4      0            373450   8.0500   NaN        S  "
      ]
     },
     "execution_count": 3,
     "metadata": {},
     "output_type": "execute_result"
    }
   ],
   "source": [
    "#training data\n",
    "df_train = pd.read_csv(\"/kaggle/input/titanic/train.csv\")\n",
    "df_train.head()"
   ]
  },
  {
   "cell_type": "code",
   "execution_count": 4,
   "id": "489d2dd7",
   "metadata": {
    "execution": {
     "iopub.execute_input": "2022-01-15T14:56:56.908929Z",
     "iopub.status.busy": "2022-01-15T14:56:56.908394Z",
     "iopub.status.idle": "2022-01-15T14:56:56.932248Z",
     "shell.execute_reply": "2022-01-15T14:56:56.931810Z",
     "shell.execute_reply.started": "2022-01-15T14:48:27.811624Z"
    },
    "papermill": {
     "duration": 0.066023,
     "end_time": "2022-01-15T14:56:56.932362",
     "exception": false,
     "start_time": "2022-01-15T14:56:56.866339",
     "status": "completed"
    },
    "tags": []
   },
   "outputs": [
    {
     "data": {
      "text/html": [
       "<div>\n",
       "<style scoped>\n",
       "    .dataframe tbody tr th:only-of-type {\n",
       "        vertical-align: middle;\n",
       "    }\n",
       "\n",
       "    .dataframe tbody tr th {\n",
       "        vertical-align: top;\n",
       "    }\n",
       "\n",
       "    .dataframe thead th {\n",
       "        text-align: right;\n",
       "    }\n",
       "</style>\n",
       "<table border=\"1\" class=\"dataframe\">\n",
       "  <thead>\n",
       "    <tr style=\"text-align: right;\">\n",
       "      <th></th>\n",
       "      <th>PassengerId</th>\n",
       "      <th>Pclass</th>\n",
       "      <th>Name</th>\n",
       "      <th>Sex</th>\n",
       "      <th>Age</th>\n",
       "      <th>SibSp</th>\n",
       "      <th>Parch</th>\n",
       "      <th>Ticket</th>\n",
       "      <th>Fare</th>\n",
       "      <th>Cabin</th>\n",
       "      <th>Embarked</th>\n",
       "    </tr>\n",
       "  </thead>\n",
       "  <tbody>\n",
       "    <tr>\n",
       "      <th>0</th>\n",
       "      <td>892</td>\n",
       "      <td>3</td>\n",
       "      <td>Kelly, Mr. James</td>\n",
       "      <td>male</td>\n",
       "      <td>34.5</td>\n",
       "      <td>0</td>\n",
       "      <td>0</td>\n",
       "      <td>330911</td>\n",
       "      <td>7.8292</td>\n",
       "      <td>NaN</td>\n",
       "      <td>Q</td>\n",
       "    </tr>\n",
       "    <tr>\n",
       "      <th>1</th>\n",
       "      <td>893</td>\n",
       "      <td>3</td>\n",
       "      <td>Wilkes, Mrs. James (Ellen Needs)</td>\n",
       "      <td>female</td>\n",
       "      <td>47.0</td>\n",
       "      <td>1</td>\n",
       "      <td>0</td>\n",
       "      <td>363272</td>\n",
       "      <td>7.0000</td>\n",
       "      <td>NaN</td>\n",
       "      <td>S</td>\n",
       "    </tr>\n",
       "    <tr>\n",
       "      <th>2</th>\n",
       "      <td>894</td>\n",
       "      <td>2</td>\n",
       "      <td>Myles, Mr. Thomas Francis</td>\n",
       "      <td>male</td>\n",
       "      <td>62.0</td>\n",
       "      <td>0</td>\n",
       "      <td>0</td>\n",
       "      <td>240276</td>\n",
       "      <td>9.6875</td>\n",
       "      <td>NaN</td>\n",
       "      <td>Q</td>\n",
       "    </tr>\n",
       "    <tr>\n",
       "      <th>3</th>\n",
       "      <td>895</td>\n",
       "      <td>3</td>\n",
       "      <td>Wirz, Mr. Albert</td>\n",
       "      <td>male</td>\n",
       "      <td>27.0</td>\n",
       "      <td>0</td>\n",
       "      <td>0</td>\n",
       "      <td>315154</td>\n",
       "      <td>8.6625</td>\n",
       "      <td>NaN</td>\n",
       "      <td>S</td>\n",
       "    </tr>\n",
       "    <tr>\n",
       "      <th>4</th>\n",
       "      <td>896</td>\n",
       "      <td>3</td>\n",
       "      <td>Hirvonen, Mrs. Alexander (Helga E Lindqvist)</td>\n",
       "      <td>female</td>\n",
       "      <td>22.0</td>\n",
       "      <td>1</td>\n",
       "      <td>1</td>\n",
       "      <td>3101298</td>\n",
       "      <td>12.2875</td>\n",
       "      <td>NaN</td>\n",
       "      <td>S</td>\n",
       "    </tr>\n",
       "  </tbody>\n",
       "</table>\n",
       "</div>"
      ],
      "text/plain": [
       "   PassengerId  Pclass                                          Name     Sex  \\\n",
       "0          892       3                              Kelly, Mr. James    male   \n",
       "1          893       3              Wilkes, Mrs. James (Ellen Needs)  female   \n",
       "2          894       2                     Myles, Mr. Thomas Francis    male   \n",
       "3          895       3                              Wirz, Mr. Albert    male   \n",
       "4          896       3  Hirvonen, Mrs. Alexander (Helga E Lindqvist)  female   \n",
       "\n",
       "    Age  SibSp  Parch   Ticket     Fare Cabin Embarked  \n",
       "0  34.5      0      0   330911   7.8292   NaN        Q  \n",
       "1  47.0      1      0   363272   7.0000   NaN        S  \n",
       "2  62.0      0      0   240276   9.6875   NaN        Q  \n",
       "3  27.0      0      0   315154   8.6625   NaN        S  \n",
       "4  22.0      1      1  3101298  12.2875   NaN        S  "
      ]
     },
     "execution_count": 4,
     "metadata": {},
     "output_type": "execute_result"
    }
   ],
   "source": [
    "#testing data\n",
    "df_test = pd.read_csv(\"/kaggle/input/titanic/test.csv\")\n",
    "df_test.head()"
   ]
  },
  {
   "cell_type": "code",
   "execution_count": 5,
   "id": "f22fe0a1",
   "metadata": {
    "execution": {
     "iopub.execute_input": "2022-01-15T14:56:57.016740Z",
     "iopub.status.busy": "2022-01-15T14:56:57.016158Z",
     "iopub.status.idle": "2022-01-15T14:56:57.017714Z",
     "shell.execute_reply": "2022-01-15T14:56:57.018154Z",
     "shell.execute_reply.started": "2022-01-15T14:48:27.836300Z"
    },
    "papermill": {
     "duration": 0.047296,
     "end_time": "2022-01-15T14:56:57.018284",
     "exception": false,
     "start_time": "2022-01-15T14:56:56.970988",
     "status": "completed"
    },
    "tags": []
   },
   "outputs": [],
   "source": [
    "PassengerId_test = df_test[\"PassengerId\"]"
   ]
  },
  {
   "cell_type": "code",
   "execution_count": 6,
   "id": "6051613f",
   "metadata": {
    "execution": {
     "iopub.execute_input": "2022-01-15T14:56:57.110329Z",
     "iopub.status.busy": "2022-01-15T14:56:57.109652Z",
     "iopub.status.idle": "2022-01-15T14:56:57.112764Z",
     "shell.execute_reply": "2022-01-15T14:56:57.113138Z",
     "shell.execute_reply.started": "2022-01-15T14:48:27.845307Z"
    },
    "papermill": {
     "duration": 0.056463,
     "end_time": "2022-01-15T14:56:57.113292",
     "exception": false,
     "start_time": "2022-01-15T14:56:57.056829",
     "status": "completed"
    },
    "tags": []
   },
   "outputs": [],
   "source": [
    "dataset =  pd.concat(objs=[df_train, df_test], axis=0).reset_index(drop=True)"
   ]
  },
  {
   "cell_type": "code",
   "execution_count": 7,
   "id": "06e34f02",
   "metadata": {
    "execution": {
     "iopub.execute_input": "2022-01-15T14:56:57.201471Z",
     "iopub.status.busy": "2022-01-15T14:56:57.200807Z",
     "iopub.status.idle": "2022-01-15T14:56:57.203699Z",
     "shell.execute_reply": "2022-01-15T14:56:57.204247Z",
     "shell.execute_reply.started": "2022-01-15T14:48:27.868177Z"
    },
    "papermill": {
     "duration": 0.051723,
     "end_time": "2022-01-15T14:56:57.204424",
     "exception": false,
     "start_time": "2022-01-15T14:56:57.152701",
     "status": "completed"
    },
    "tags": []
   },
   "outputs": [
    {
     "data": {
      "text/plain": [
       "PassengerId       0\n",
       "Survived        418\n",
       "Pclass            0\n",
       "Name              0\n",
       "Sex               0\n",
       "Age             263\n",
       "SibSp             0\n",
       "Parch             0\n",
       "Ticket            0\n",
       "Fare              1\n",
       "Cabin          1014\n",
       "Embarked          2\n",
       "dtype: int64"
      ]
     },
     "execution_count": 7,
     "metadata": {},
     "output_type": "execute_result"
    }
   ],
   "source": [
    "dataset.isnull().sum()"
   ]
  },
  {
   "cell_type": "code",
   "execution_count": 8,
   "id": "61f2a8ed",
   "metadata": {
    "execution": {
     "iopub.execute_input": "2022-01-15T14:56:57.331677Z",
     "iopub.status.busy": "2022-01-15T14:56:57.331010Z",
     "iopub.status.idle": "2022-01-15T14:56:57.338399Z",
     "shell.execute_reply": "2022-01-15T14:56:57.339011Z",
     "shell.execute_reply.started": "2022-01-15T14:48:27.878267Z"
    },
    "papermill": {
     "duration": 0.07263,
     "end_time": "2022-01-15T14:56:57.339235",
     "exception": false,
     "start_time": "2022-01-15T14:56:57.266605",
     "status": "completed"
    },
    "tags": []
   },
   "outputs": [
    {
     "data": {
      "text/plain": [
       "PassengerId       0\n",
       "Survived        418\n",
       "Pclass            0\n",
       "Name              0\n",
       "Sex               0\n",
       "Age             263\n",
       "SibSp             0\n",
       "Parch             0\n",
       "Ticket            0\n",
       "Fare              1\n",
       "Cabin          1014\n",
       "Embarked          2\n",
       "dtype: int64"
      ]
     },
     "execution_count": 8,
     "metadata": {},
     "output_type": "execute_result"
    }
   ],
   "source": [
    "dataset = dataset.fillna(np.nan)\n",
    "dataset.isnull().sum()"
   ]
  },
  {
   "cell_type": "code",
   "execution_count": null,
   "id": "f677cf8c",
   "metadata": {
    "papermill": {
     "duration": 0.061683,
     "end_time": "2022-01-15T14:56:57.463541",
     "exception": false,
     "start_time": "2022-01-15T14:56:57.401858",
     "status": "completed"
    },
    "tags": []
   },
   "outputs": [],
   "source": []
  },
  {
   "cell_type": "markdown",
   "id": "4a7396b4",
   "metadata": {
    "papermill": {
     "duration": 0.061652,
     "end_time": "2022-01-15T14:56:57.587240",
     "exception": false,
     "start_time": "2022-01-15T14:56:57.525588",
     "status": "completed"
    },
    "tags": []
   },
   "source": [
    "### **Analyze the features by pivoting techniques**"
   ]
  },
  {
   "cell_type": "code",
   "execution_count": 9,
   "id": "e3a2eaf9",
   "metadata": {
    "execution": {
     "iopub.execute_input": "2022-01-15T14:56:57.715308Z",
     "iopub.status.busy": "2022-01-15T14:56:57.714677Z",
     "iopub.status.idle": "2022-01-15T14:56:57.731414Z",
     "shell.execute_reply": "2022-01-15T14:56:57.732024Z",
     "shell.execute_reply.started": "2022-01-15T14:48:27.897865Z"
    },
    "papermill": {
     "duration": 0.082519,
     "end_time": "2022-01-15T14:56:57.732210",
     "exception": false,
     "start_time": "2022-01-15T14:56:57.649691",
     "status": "completed"
    },
    "tags": []
   },
   "outputs": [
    {
     "data": {
      "text/html": [
       "<div>\n",
       "<style scoped>\n",
       "    .dataframe tbody tr th:only-of-type {\n",
       "        vertical-align: middle;\n",
       "    }\n",
       "\n",
       "    .dataframe tbody tr th {\n",
       "        vertical-align: top;\n",
       "    }\n",
       "\n",
       "    .dataframe thead th {\n",
       "        text-align: right;\n",
       "    }\n",
       "</style>\n",
       "<table border=\"1\" class=\"dataframe\">\n",
       "  <thead>\n",
       "    <tr style=\"text-align: right;\">\n",
       "      <th></th>\n",
       "      <th>Sex</th>\n",
       "      <th>Survived</th>\n",
       "    </tr>\n",
       "  </thead>\n",
       "  <tbody>\n",
       "    <tr>\n",
       "      <th>0</th>\n",
       "      <td>female</td>\n",
       "      <td>0.742038</td>\n",
       "    </tr>\n",
       "    <tr>\n",
       "      <th>1</th>\n",
       "      <td>male</td>\n",
       "      <td>0.188908</td>\n",
       "    </tr>\n",
       "  </tbody>\n",
       "</table>\n",
       "</div>"
      ],
      "text/plain": [
       "      Sex  Survived\n",
       "0  female  0.742038\n",
       "1    male  0.188908"
      ]
     },
     "execution_count": 9,
     "metadata": {},
     "output_type": "execute_result"
    }
   ],
   "source": [
    "#Sex vs Survived\n",
    "df_train[[\"Sex\", \"Survived\"]].groupby(['Sex'], as_index=False).mean().sort_values(by=\"Survived\", ascending=False)"
   ]
  },
  {
   "cell_type": "code",
   "execution_count": 10,
   "id": "74b6beb8",
   "metadata": {
    "execution": {
     "iopub.execute_input": "2022-01-15T14:56:57.863588Z",
     "iopub.status.busy": "2022-01-15T14:56:57.862891Z",
     "iopub.status.idle": "2022-01-15T14:56:57.869450Z",
     "shell.execute_reply": "2022-01-15T14:56:57.870005Z",
     "shell.execute_reply.started": "2022-01-15T14:48:27.919551Z"
    },
    "papermill": {
     "duration": 0.075209,
     "end_time": "2022-01-15T14:56:57.870175",
     "exception": false,
     "start_time": "2022-01-15T14:56:57.794966",
     "status": "completed"
    },
    "tags": []
   },
   "outputs": [
    {
     "data": {
      "text/html": [
       "<div>\n",
       "<style scoped>\n",
       "    .dataframe tbody tr th:only-of-type {\n",
       "        vertical-align: middle;\n",
       "    }\n",
       "\n",
       "    .dataframe tbody tr th {\n",
       "        vertical-align: top;\n",
       "    }\n",
       "\n",
       "    .dataframe thead th {\n",
       "        text-align: right;\n",
       "    }\n",
       "</style>\n",
       "<table border=\"1\" class=\"dataframe\">\n",
       "  <thead>\n",
       "    <tr style=\"text-align: right;\">\n",
       "      <th></th>\n",
       "      <th>Pclass</th>\n",
       "      <th>Survived</th>\n",
       "    </tr>\n",
       "  </thead>\n",
       "  <tbody>\n",
       "    <tr>\n",
       "      <th>0</th>\n",
       "      <td>1</td>\n",
       "      <td>0.629630</td>\n",
       "    </tr>\n",
       "    <tr>\n",
       "      <th>1</th>\n",
       "      <td>2</td>\n",
       "      <td>0.472826</td>\n",
       "    </tr>\n",
       "    <tr>\n",
       "      <th>2</th>\n",
       "      <td>3</td>\n",
       "      <td>0.242363</td>\n",
       "    </tr>\n",
       "  </tbody>\n",
       "</table>\n",
       "</div>"
      ],
      "text/plain": [
       "   Pclass  Survived\n",
       "0       1  0.629630\n",
       "1       2  0.472826\n",
       "2       3  0.242363"
      ]
     },
     "execution_count": 10,
     "metadata": {},
     "output_type": "execute_result"
    }
   ],
   "source": [
    "#Pclass(Ticket class) vs Survived\n",
    "df_train[[\"Pclass\", \"Survived\"]].groupby(['Pclass'], as_index=False).mean().sort_values(by=\"Survived\", ascending=False)"
   ]
  },
  {
   "cell_type": "code",
   "execution_count": 11,
   "id": "69e67755",
   "metadata": {
    "execution": {
     "iopub.execute_input": "2022-01-15T14:56:58.002806Z",
     "iopub.status.busy": "2022-01-15T14:56:58.001721Z",
     "iopub.status.idle": "2022-01-15T14:56:58.008350Z",
     "shell.execute_reply": "2022-01-15T14:56:58.008981Z",
     "shell.execute_reply.started": "2022-01-15T14:48:27.939683Z"
    },
    "papermill": {
     "duration": 0.076107,
     "end_time": "2022-01-15T14:56:58.009148",
     "exception": false,
     "start_time": "2022-01-15T14:56:57.933041",
     "status": "completed"
    },
    "tags": []
   },
   "outputs": [
    {
     "data": {
      "text/html": [
       "<div>\n",
       "<style scoped>\n",
       "    .dataframe tbody tr th:only-of-type {\n",
       "        vertical-align: middle;\n",
       "    }\n",
       "\n",
       "    .dataframe tbody tr th {\n",
       "        vertical-align: top;\n",
       "    }\n",
       "\n",
       "    .dataframe thead th {\n",
       "        text-align: right;\n",
       "    }\n",
       "</style>\n",
       "<table border=\"1\" class=\"dataframe\">\n",
       "  <thead>\n",
       "    <tr style=\"text-align: right;\">\n",
       "      <th></th>\n",
       "      <th>SibSp</th>\n",
       "      <th>Survived</th>\n",
       "    </tr>\n",
       "  </thead>\n",
       "  <tbody>\n",
       "    <tr>\n",
       "      <th>1</th>\n",
       "      <td>1</td>\n",
       "      <td>0.535885</td>\n",
       "    </tr>\n",
       "    <tr>\n",
       "      <th>2</th>\n",
       "      <td>2</td>\n",
       "      <td>0.464286</td>\n",
       "    </tr>\n",
       "    <tr>\n",
       "      <th>0</th>\n",
       "      <td>0</td>\n",
       "      <td>0.345395</td>\n",
       "    </tr>\n",
       "    <tr>\n",
       "      <th>3</th>\n",
       "      <td>3</td>\n",
       "      <td>0.250000</td>\n",
       "    </tr>\n",
       "    <tr>\n",
       "      <th>4</th>\n",
       "      <td>4</td>\n",
       "      <td>0.166667</td>\n",
       "    </tr>\n",
       "    <tr>\n",
       "      <th>5</th>\n",
       "      <td>5</td>\n",
       "      <td>0.000000</td>\n",
       "    </tr>\n",
       "    <tr>\n",
       "      <th>6</th>\n",
       "      <td>8</td>\n",
       "      <td>0.000000</td>\n",
       "    </tr>\n",
       "  </tbody>\n",
       "</table>\n",
       "</div>"
      ],
      "text/plain": [
       "   SibSp  Survived\n",
       "1      1  0.535885\n",
       "2      2  0.464286\n",
       "0      0  0.345395\n",
       "3      3  0.250000\n",
       "4      4  0.166667\n",
       "5      5  0.000000\n",
       "6      8  0.000000"
      ]
     },
     "execution_count": 11,
     "metadata": {},
     "output_type": "execute_result"
    }
   ],
   "source": [
    "#SibSp(siblings / spouses) vs Survived\n",
    "df_train[[\"SibSp\", \"Survived\"]].groupby(['SibSp'], as_index=False).mean().sort_values(by=\"Survived\", ascending=False)"
   ]
  },
  {
   "cell_type": "code",
   "execution_count": 12,
   "id": "50e0f132",
   "metadata": {
    "execution": {
     "iopub.execute_input": "2022-01-15T14:56:58.140955Z",
     "iopub.status.busy": "2022-01-15T14:56:58.140225Z",
     "iopub.status.idle": "2022-01-15T14:56:58.150223Z",
     "shell.execute_reply": "2022-01-15T14:56:58.150687Z",
     "shell.execute_reply.started": "2022-01-15T14:48:27.958217Z"
    },
    "papermill": {
     "duration": 0.077553,
     "end_time": "2022-01-15T14:56:58.150840",
     "exception": false,
     "start_time": "2022-01-15T14:56:58.073287",
     "status": "completed"
    },
    "tags": []
   },
   "outputs": [
    {
     "data": {
      "text/html": [
       "<div>\n",
       "<style scoped>\n",
       "    .dataframe tbody tr th:only-of-type {\n",
       "        vertical-align: middle;\n",
       "    }\n",
       "\n",
       "    .dataframe tbody tr th {\n",
       "        vertical-align: top;\n",
       "    }\n",
       "\n",
       "    .dataframe thead th {\n",
       "        text-align: right;\n",
       "    }\n",
       "</style>\n",
       "<table border=\"1\" class=\"dataframe\">\n",
       "  <thead>\n",
       "    <tr style=\"text-align: right;\">\n",
       "      <th></th>\n",
       "      <th>Parch</th>\n",
       "      <th>Survived</th>\n",
       "    </tr>\n",
       "  </thead>\n",
       "  <tbody>\n",
       "    <tr>\n",
       "      <th>3</th>\n",
       "      <td>3</td>\n",
       "      <td>0.600000</td>\n",
       "    </tr>\n",
       "    <tr>\n",
       "      <th>1</th>\n",
       "      <td>1</td>\n",
       "      <td>0.550847</td>\n",
       "    </tr>\n",
       "    <tr>\n",
       "      <th>2</th>\n",
       "      <td>2</td>\n",
       "      <td>0.500000</td>\n",
       "    </tr>\n",
       "    <tr>\n",
       "      <th>0</th>\n",
       "      <td>0</td>\n",
       "      <td>0.343658</td>\n",
       "    </tr>\n",
       "    <tr>\n",
       "      <th>5</th>\n",
       "      <td>5</td>\n",
       "      <td>0.200000</td>\n",
       "    </tr>\n",
       "    <tr>\n",
       "      <th>4</th>\n",
       "      <td>4</td>\n",
       "      <td>0.000000</td>\n",
       "    </tr>\n",
       "    <tr>\n",
       "      <th>6</th>\n",
       "      <td>6</td>\n",
       "      <td>0.000000</td>\n",
       "    </tr>\n",
       "  </tbody>\n",
       "</table>\n",
       "</div>"
      ],
      "text/plain": [
       "   Parch  Survived\n",
       "3      3  0.600000\n",
       "1      1  0.550847\n",
       "2      2  0.500000\n",
       "0      0  0.343658\n",
       "5      5  0.200000\n",
       "4      4  0.000000\n",
       "6      6  0.000000"
      ]
     },
     "execution_count": 12,
     "metadata": {},
     "output_type": "execute_result"
    }
   ],
   "source": [
    "#Parch(parents / children) vs Survived\n",
    "df_train[[\"Parch\", \"Survived\"]].groupby(['Parch'], as_index=False).mean().sort_values(by=\"Survived\", ascending=False)"
   ]
  },
  {
   "cell_type": "markdown",
   "id": "2dcdb692",
   "metadata": {
    "papermill": {
     "duration": 0.041208,
     "end_time": "2022-01-15T14:56:58.232964",
     "exception": false,
     "start_time": "2022-01-15T14:56:58.191756",
     "status": "completed"
    },
    "tags": []
   },
   "source": [
    "### **Visualization**"
   ]
  },
  {
   "cell_type": "code",
   "execution_count": 13,
   "id": "f04b0c57",
   "metadata": {
    "execution": {
     "iopub.execute_input": "2022-01-15T14:56:58.317925Z",
     "iopub.status.busy": "2022-01-15T14:56:58.317210Z",
     "iopub.status.idle": "2022-01-15T14:56:58.707200Z",
     "shell.execute_reply": "2022-01-15T14:56:58.706683Z",
     "shell.execute_reply.started": "2022-01-15T14:48:27.973410Z"
    },
    "papermill": {
     "duration": 0.433007,
     "end_time": "2022-01-15T14:56:58.707324",
     "exception": false,
     "start_time": "2022-01-15T14:56:58.274317",
     "status": "completed"
    },
    "tags": []
   },
   "outputs": [
    {
     "data": {
      "text/plain": [
       "<seaborn.axisgrid.FacetGrid at 0x7f1afc565790>"
      ]
     },
     "execution_count": 13,
     "metadata": {},
     "output_type": "execute_result"
    },
    {
     "data": {
      "image/png": "[encoded data removed]",
      "text/plain": [
       "<Figure size 432x216 with 2 Axes>"
      ]
     },
     "metadata": {
      "needs_background": "light"
     },
     "output_type": "display_data"
    }
   ],
   "source": [
    "d = sns.FacetGrid(data=df_train, col='Survived')\n",
    "d.map(plt.hist, 'Age', bins=30)"
   ]
  },
  {
   "cell_type": "code",
   "execution_count": 14,
   "id": "9f94dd6f",
   "metadata": {
    "execution": {
     "iopub.execute_input": "2022-01-15T14:56:58.794441Z",
     "iopub.status.busy": "2022-01-15T14:56:58.793977Z",
     "iopub.status.idle": "2022-01-15T14:56:59.735985Z",
     "shell.execute_reply": "2022-01-15T14:56:59.736516Z",
     "shell.execute_reply.started": "2022-01-15T14:48:28.478605Z"
    },
    "papermill": {
     "duration": 0.987733,
     "end_time": "2022-01-15T14:56:59.736699",
     "exception": false,
     "start_time": "2022-01-15T14:56:58.748966",
     "status": "completed"
    },
    "tags": []
   },
   "outputs": [
    {
     "data": {
      "text/plain": [
       "<seaborn.axisgrid.FacetGrid at 0x7f1afc2e15d0>"
      ]
     },
     "execution_count": 14,
     "metadata": {},
     "output_type": "execute_result"
    },
    {
     "data": {
      "image/png": "[encoded data removed]",
      "text/plain": [
       "<Figure size 432x432 with 4 Axes>"
      ]
     },
     "metadata": {
      "needs_background": "light"
     },
     "output_type": "display_data"
    }
   ],
   "source": [
    "d2 = sns.FacetGrid(data=df_train, row='Sex', col='Survived')\n",
    "d2.map(plt.hist, 'Age', bins=30)"
   ]
  },
  {
   "cell_type": "code",
   "execution_count": 15,
   "id": "95628ce8",
   "metadata": {
    "execution": {
     "iopub.execute_input": "2022-01-15T14:56:59.871468Z",
     "iopub.status.busy": "2022-01-15T14:56:59.870856Z",
     "iopub.status.idle": "2022-01-15T14:57:01.078996Z",
     "shell.execute_reply": "2022-01-15T14:57:01.079421Z",
     "shell.execute_reply.started": "2022-01-15T14:48:29.356042Z"
    },
    "papermill": {
     "duration": 1.276689,
     "end_time": "2022-01-15T14:57:01.079587",
     "exception": false,
     "start_time": "2022-01-15T14:56:59.802898",
     "status": "completed"
    },
    "tags": []
   },
   "outputs": [
    {
     "data": {
      "text/plain": [
       "<seaborn.axisgrid.FacetGrid at 0x7f1aeffd7550>"
      ]
     },
     "execution_count": 15,
     "metadata": {},
     "output_type": "execute_result"
    },
    {
     "data": {
      "image/png": "[encoded data removed]",
      "text/plain": [
       "<Figure size 432x648 with 6 Axes>"
      ]
     },
     "metadata": {
      "needs_background": "light"
     },
     "output_type": "display_data"
    }
   ],
   "source": [
    "d3 = sns.FacetGrid(data=df_train, row='Pclass', col='Survived')\n",
    "d3.map(plt.hist, 'Age', bins=30)"
   ]
  },
  {
   "cell_type": "code",
   "execution_count": 16,
   "id": "b79e0d32",
   "metadata": {
    "execution": {
     "iopub.execute_input": "2022-01-15T14:57:01.168728Z",
     "iopub.status.busy": "2022-01-15T14:57:01.168038Z",
     "iopub.status.idle": "2022-01-15T14:57:02.031719Z",
     "shell.execute_reply": "2022-01-15T14:57:02.032137Z",
     "shell.execute_reply.started": "2022-01-15T14:48:30.793860Z"
    },
    "papermill": {
     "duration": 0.90898,
     "end_time": "2022-01-15T14:57:02.032273",
     "exception": false,
     "start_time": "2022-01-15T14:57:01.123293",
     "status": "completed"
    },
    "tags": []
   },
   "outputs": [
    {
     "data": {
      "text/plain": [
       "<seaborn.axisgrid.FacetGrid at 0x7f1afc0315d0>"
      ]
     },
     "execution_count": 16,
     "metadata": {},
     "output_type": "execute_result"
    },
    {
     "data": {
      "image/png": "[encoded data removed]",
      "text/plain": [
       "<Figure size 216x648 with 3 Axes>"
      ]
     },
     "metadata": {
      "needs_background": "light"
     },
     "output_type": "display_data"
    }
   ],
   "source": [
    "d4 = sns.FacetGrid(data=df_train, row='Embarked')\n",
    "d4.map(sns.pointplot, 'Pclass','Survived','Sex', bins=30)"
   ]
  },
  {
   "cell_type": "code",
   "execution_count": 17,
   "id": "78c484e4",
   "metadata": {
    "execution": {
     "iopub.execute_input": "2022-01-15T14:57:02.123621Z",
     "iopub.status.busy": "2022-01-15T14:57:02.122940Z",
     "iopub.status.idle": "2022-01-15T14:57:02.797319Z",
     "shell.execute_reply": "2022-01-15T14:57:02.797906Z",
     "shell.execute_reply.started": "2022-01-15T14:48:31.797190Z"
    },
    "papermill": {
     "duration": 0.721055,
     "end_time": "2022-01-15T14:57:02.798078",
     "exception": false,
     "start_time": "2022-01-15T14:57:02.077023",
     "status": "completed"
    },
    "tags": []
   },
   "outputs": [
    {
     "data": {
      "text/plain": [
       "<seaborn.axisgrid.FacetGrid at 0x7f1aefb94a50>"
      ]
     },
     "execution_count": 17,
     "metadata": {},
     "output_type": "execute_result"
    },
    {
     "data": {
      "image/png": "[encoded data removed]",
      "text/plain": [
       "<Figure size 432x648 with 6 Axes>"
      ]
     },
     "metadata": {
      "needs_background": "light"
     },
     "output_type": "display_data"
    }
   ],
   "source": [
    "d5 = sns.FacetGrid(data=df_train, row='Embarked', col='Survived')\n",
    "d5.map(sns.barplot, 'Sex','Fare', palette='deep', ci=None)"
   ]
  },
  {
   "cell_type": "markdown",
   "id": "4039dc60",
   "metadata": {
    "papermill": {
     "duration": 0.070056,
     "end_time": "2022-01-15T14:57:02.938170",
     "exception": false,
     "start_time": "2022-01-15T14:57:02.868114",
     "status": "completed"
    },
    "tags": []
   },
   "source": [
    "**Interpretation:**\n",
    "1. Oldest passengers survived (Age=80).\n",
    "2. Most passengers are in 17-37 age range approximately.\n",
    "3. Pclass=2 and Pclass=3 passengers are mostly survived.\n",
    "4. Pclass=3 had most passengers but most of the passengers did not survive.\n",
    "5. Most passengers in Pclass=1 survived. \n",
    "6. Higher fare paying passengers had better survival."
   ]
  },
  {
   "cell_type": "code",
   "execution_count": 18,
   "id": "b8276ed5",
   "metadata": {
    "execution": {
     "iopub.execute_input": "2022-01-15T14:57:03.087149Z",
     "iopub.status.busy": "2022-01-15T14:57:03.086403Z",
     "iopub.status.idle": "2022-01-15T14:57:03.314278Z",
     "shell.execute_reply": "2022-01-15T14:57:03.314822Z",
     "shell.execute_reply.started": "2022-01-15T14:48:32.628891Z"
    },
    "papermill": {
     "duration": 0.306154,
     "end_time": "2022-01-15T14:57:03.314998",
     "exception": false,
     "start_time": "2022-01-15T14:57:03.008844",
     "status": "completed"
    },
    "tags": []
   },
   "outputs": [
    {
     "data": {
      "image/png": "[encoded data removed]",
      "text/plain": [
       "<Figure size 432x288 with 2 Axes>"
      ]
     },
     "metadata": {
      "needs_background": "light"
     },
     "output_type": "display_data"
    }
   ],
   "source": [
    "# Correlation matrix between numerical values (SibSp, Parch, Age and Fare values) and Survived \n",
    "d6 = sns.heatmap(df_train[[\"Survived\",\"SibSp\",\"Parch\",\"Age\",\"Fare\"]].corr(),annot=True, fmt = \".2f\")"
   ]
  },
  {
   "cell_type": "code",
   "execution_count": 19,
   "id": "9e902d3e",
   "metadata": {
    "execution": {
     "iopub.execute_input": "2022-01-15T14:57:03.458551Z",
     "iopub.status.busy": "2022-01-15T14:57:03.457936Z",
     "iopub.status.idle": "2022-01-15T14:57:03.805281Z",
     "shell.execute_reply": "2022-01-15T14:57:03.805714Z",
     "shell.execute_reply.started": "2022-01-15T14:48:32.942581Z"
    },
    "papermill": {
     "duration": 0.420105,
     "end_time": "2022-01-15T14:57:03.805869",
     "exception": false,
     "start_time": "2022-01-15T14:57:03.385764",
     "status": "completed"
    },
    "tags": []
   },
   "outputs": [
    {
     "data": {
      "image/png": "[encoded data removed]",
      "text/plain": [
       "<Figure size 432x432 with 1 Axes>"
      ]
     },
     "metadata": {
      "needs_background": "light"
     },
     "output_type": "display_data"
    }
   ],
   "source": [
    "d7 = sns.factorplot(x=\"SibSp\", y=\"Survived\", data=df_train, kind=\"bar\", size = 6)\n",
    "d7.despine(left=True)\n",
    "d7 = d7.set_ylabels(\"survival probability\")"
   ]
  },
  {
   "cell_type": "markdown",
   "id": "1961eb32",
   "metadata": {
    "papermill": {
     "duration": 0.045265,
     "end_time": "2022-01-15T14:57:03.898032",
     "exception": false,
     "start_time": "2022-01-15T14:57:03.852767",
     "status": "completed"
    },
    "tags": []
   },
   "source": [
    "**Interpretation:**\n",
    "It seems that passengers having a lot of siblings/spouses have less chance to survive"
   ]
  },
  {
   "cell_type": "code",
   "execution_count": 20,
   "id": "c7648f21",
   "metadata": {
    "execution": {
     "iopub.execute_input": "2022-01-15T14:57:03.994006Z",
     "iopub.status.busy": "2022-01-15T14:57:03.993313Z",
     "iopub.status.idle": "2022-01-15T14:57:04.099483Z",
     "shell.execute_reply": "2022-01-15T14:57:04.100387Z",
     "shell.execute_reply.started": "2022-01-15T14:48:33.389410Z"
    },
    "papermill": {
     "duration": 0.156712,
     "end_time": "2022-01-15T14:57:04.100611",
     "exception": false,
     "start_time": "2022-01-15T14:57:03.943899",
     "status": "completed"
    },
    "tags": []
   },
   "outputs": [
    {
     "data": {
      "text/plain": [
       "<AxesSubplot:xlabel='Fare'>"
      ]
     },
     "execution_count": 20,
     "metadata": {},
     "output_type": "execute_result"
    },
    {
     "data": {
      "image/png": "[encoded data removed]",
      "text/plain": [
       "<Figure size 432x288 with 1 Axes>"
      ]
     },
     "metadata": {
      "needs_background": "light"
     },
     "output_type": "display_data"
    }
   ],
   "source": [
    "#box plot for fare col\n",
    "sns.boxplot('Fare', data=dataset)"
   ]
  },
  {
   "cell_type": "code",
   "execution_count": 21,
   "id": "78e741f9",
   "metadata": {
    "execution": {
     "iopub.execute_input": "2022-01-15T14:57:04.256731Z",
     "iopub.status.busy": "2022-01-15T14:57:04.256080Z",
     "iopub.status.idle": "2022-01-15T14:57:04.259579Z",
     "shell.execute_reply": "2022-01-15T14:57:04.260065Z",
     "shell.execute_reply.started": "2022-01-15T14:48:33.555564Z"
    },
    "papermill": {
     "duration": 0.080185,
     "end_time": "2022-01-15T14:57:04.260229",
     "exception": false,
     "start_time": "2022-01-15T14:57:04.180044",
     "status": "completed"
    },
    "tags": []
   },
   "outputs": [],
   "source": [
    "#we can consider the median value for imputing the missing Fare \n",
    "dataset[\"Fare\"] = dataset[\"Fare\"].fillna(dataset[\"Fare\"].median())"
   ]
  },
  {
   "cell_type": "code",
   "execution_count": 22,
   "id": "80b81e52",
   "metadata": {
    "execution": {
     "iopub.execute_input": "2022-01-15T14:57:04.410399Z",
     "iopub.status.busy": "2022-01-15T14:57:04.409765Z",
     "iopub.status.idle": "2022-01-15T14:57:04.765529Z",
     "shell.execute_reply": "2022-01-15T14:57:04.766098Z",
     "shell.execute_reply.started": "2022-01-15T14:48:33.562156Z"
    },
    "papermill": {
     "duration": 0.432416,
     "end_time": "2022-01-15T14:57:04.766283",
     "exception": false,
     "start_time": "2022-01-15T14:57:04.333867",
     "status": "completed"
    },
    "tags": []
   },
   "outputs": [
    {
     "data": {
      "image/png": "[encoded data removed]",
      "text/plain": [
       "<Figure size 432x288 with 1 Axes>"
      ]
     },
     "metadata": {
      "needs_background": "light"
     },
     "output_type": "display_data"
    }
   ],
   "source": [
    "# Explore Fare distribution \n",
    "d8 = sns.distplot(dataset[\"Fare\"], color=\"b\", label=\"Skewness : %.2f\"%(dataset[\"Fare\"].skew()))\n",
    "d8 = d8.legend(loc=\"best\")"
   ]
  },
  {
   "cell_type": "markdown",
   "id": "6916d126",
   "metadata": {
    "papermill": {
     "duration": 0.074591,
     "end_time": "2022-01-15T14:57:04.915621",
     "exception": false,
     "start_time": "2022-01-15T14:57:04.841030",
     "status": "completed"
    },
    "tags": []
   },
   "source": [
    "**Interpretation:**\n",
    "Fare distribution is very skewed. This can lead to overweigth very high values in the model. In this case, it is better to transform it with the log function to reduce this skew."
   ]
  },
  {
   "cell_type": "code",
   "execution_count": 23,
   "id": "9cf69a81",
   "metadata": {
    "execution": {
     "iopub.execute_input": "2022-01-15T14:57:05.068823Z",
     "iopub.status.busy": "2022-01-15T14:57:05.067989Z",
     "iopub.status.idle": "2022-01-15T14:57:05.075173Z",
     "shell.execute_reply": "2022-01-15T14:57:05.075807Z",
     "shell.execute_reply.started": "2022-01-15T14:48:33.920201Z"
    },
    "papermill": {
     "duration": 0.085271,
     "end_time": "2022-01-15T14:57:05.075981",
     "exception": false,
     "start_time": "2022-01-15T14:57:04.990710",
     "status": "completed"
    },
    "tags": []
   },
   "outputs": [],
   "source": [
    "# Apply log to Fare to reduce skewness distribution\n",
    "dataset[\"Fare\"] = dataset[\"Fare\"].map(lambda i: np.log(i) if i > 0 else 0)"
   ]
  },
  {
   "cell_type": "code",
   "execution_count": 24,
   "id": "c38bb573",
   "metadata": {
    "execution": {
     "iopub.execute_input": "2022-01-15T14:57:05.230740Z",
     "iopub.status.busy": "2022-01-15T14:57:05.228708Z",
     "iopub.status.idle": "2022-01-15T14:57:05.454064Z",
     "shell.execute_reply": "2022-01-15T14:57:05.454642Z",
     "shell.execute_reply.started": "2022-01-15T14:48:33.928797Z"
    },
    "papermill": {
     "duration": 0.303718,
     "end_time": "2022-01-15T14:57:05.454818",
     "exception": false,
     "start_time": "2022-01-15T14:57:05.151100",
     "status": "completed"
    },
    "tags": []
   },
   "outputs": [
    {
     "data": {
      "image/png": "[encoded data removed]",
      "text/plain": [
       "<Figure size 432x288 with 1 Axes>"
      ]
     },
     "metadata": {
      "needs_background": "light"
     },
     "output_type": "display_data"
    }
   ],
   "source": [
    "d9 = sns.distplot(dataset[\"Fare\"], color=\"b\", label=\"Skewness : %.2f\"%(dataset[\"Fare\"].skew()))\n",
    "d9 = d9.legend(loc=\"best\")"
   ]
  },
  {
   "cell_type": "code",
   "execution_count": 25,
   "id": "163a71b2",
   "metadata": {
    "execution": {
     "iopub.execute_input": "2022-01-15T14:57:05.607743Z",
     "iopub.status.busy": "2022-01-15T14:57:05.607090Z",
     "iopub.status.idle": "2022-01-15T14:57:05.612846Z",
     "shell.execute_reply": "2022-01-15T14:57:05.612409Z",
     "shell.execute_reply.started": "2022-01-15T14:48:34.239524Z"
    },
    "papermill": {
     "duration": 0.08351,
     "end_time": "2022-01-15T14:57:05.612954",
     "exception": false,
     "start_time": "2022-01-15T14:57:05.529444",
     "status": "completed"
    },
    "tags": []
   },
   "outputs": [
    {
     "data": {
      "text/plain": [
       "S    914\n",
       "C    270\n",
       "Q    123\n",
       "Name: Embarked, dtype: int64"
      ]
     },
     "execution_count": 25,
     "metadata": {},
     "output_type": "execute_result"
    }
   ],
   "source": [
    "dataset.Embarked.value_counts()"
   ]
  },
  {
   "cell_type": "code",
   "execution_count": 26,
   "id": "9495ec54",
   "metadata": {
    "execution": {
     "iopub.execute_input": "2022-01-15T14:57:05.719551Z",
     "iopub.status.busy": "2022-01-15T14:57:05.718836Z",
     "iopub.status.idle": "2022-01-15T14:57:05.722472Z",
     "shell.execute_reply": "2022-01-15T14:57:05.722010Z",
     "shell.execute_reply.started": "2022-01-15T14:48:34.248698Z"
    },
    "papermill": {
     "duration": 0.060122,
     "end_time": "2022-01-15T14:57:05.722597",
     "exception": false,
     "start_time": "2022-01-15T14:57:05.662475",
     "status": "completed"
    },
    "tags": []
   },
   "outputs": [
    {
     "data": {
      "text/plain": [
       "0"
      ]
     },
     "execution_count": 26,
     "metadata": {},
     "output_type": "execute_result"
    }
   ],
   "source": [
    "dataset[\"Embarked\"] = dataset[\"Embarked\"].fillna(\"S\")\n",
    "dataset.Embarked.isnull().sum()"
   ]
  },
  {
   "cell_type": "code",
   "execution_count": 27,
   "id": "4438cc97",
   "metadata": {
    "execution": {
     "iopub.execute_input": "2022-01-15T14:57:05.830828Z",
     "iopub.status.busy": "2022-01-15T14:57:05.829359Z",
     "iopub.status.idle": "2022-01-15T14:57:07.458776Z",
     "shell.execute_reply": "2022-01-15T14:57:07.458358Z",
     "shell.execute_reply.started": "2022-01-15T14:48:34.265724Z"
    },
    "papermill": {
     "duration": 1.687042,
     "end_time": "2022-01-15T14:57:07.458886",
     "exception": false,
     "start_time": "2022-01-15T14:57:05.771844",
     "status": "completed"
    },
    "tags": []
   },
   "outputs": [
    {
     "data": {
      "image/png": "[encoded data removed]",
      "text/plain": [
       "<Figure size 360x360 with 1 Axes>"
      ]
     },
     "metadata": {
      "needs_background": "light"
     },
     "output_type": "display_data"
    },
    {
     "data": {
      "image/png": "[encoded data removed]",
      "text/plain": [
       "<Figure size 402.375x360 with 1 Axes>"
      ]
     },
     "metadata": {
      "needs_background": "light"
     },
     "output_type": "display_data"
    },
    {
     "data": {
      "image/png": "[encoded data removed]",
      "text/plain": [
       "<Figure size 360x360 with 1 Axes>"
      ]
     },
     "metadata": {
      "needs_background": "light"
     },
     "output_type": "display_data"
    },
    {
     "data": {
      "image/png": "[encoded data removed]",
      "text/plain": [
       "<Figure size 360x360 with 1 Axes>"
      ]
     },
     "metadata": {
      "needs_background": "light"
     },
     "output_type": "display_data"
    }
   ],
   "source": [
    "# Explore Age vs Sex, Parch , Pclass and SibSP\n",
    "d10 = sns.factorplot(y=\"Age\",x=\"Sex\",data=dataset,kind=\"box\")\n",
    "d11 = sns.factorplot(y=\"Age\",x=\"Sex\", hue=\"Pclass\", data=dataset, kind=\"box\")\n",
    "d12 = sns.factorplot(y=\"Age\",x=\"Parch\", data=dataset,kind=\"box\")\n",
    "d13 = sns.factorplot(y=\"Age\",x=\"SibSp\", data=dataset,kind=\"box\")"
   ]
  },
  {
   "cell_type": "markdown",
   "id": "2289b290",
   "metadata": {
    "papermill": {
     "duration": 0.050644,
     "end_time": "2022-01-15T14:57:07.560024",
     "exception": false,
     "start_time": "2022-01-15T14:57:07.509380",
     "status": "completed"
    },
    "tags": []
   },
   "source": [
    "**Interpretation:**\n",
    "1. Age distribution seems to be the same in Male and Female subpopulations, so Sex is not informative to predict Age. However, 1st class passengers are older than 2nd class passengers who are also older than 3rd class passengers.\n",
    "\n",
    "2. More a passenger has Parch(parents/children) the older he is and the more a passenger has SibSp(siblings/spouses) the younger he is."
   ]
  },
  {
   "cell_type": "code",
   "execution_count": 28,
   "id": "b47baea5",
   "metadata": {
    "execution": {
     "iopub.execute_input": "2022-01-15T14:57:07.669946Z",
     "iopub.status.busy": "2022-01-15T14:57:07.669441Z",
     "iopub.status.idle": "2022-01-15T14:57:07.953488Z",
     "shell.execute_reply": "2022-01-15T14:57:07.954161Z",
     "shell.execute_reply.started": "2022-01-15T14:48:35.809106Z"
    },
    "papermill": {
     "duration": 0.342892,
     "end_time": "2022-01-15T14:57:07.954403",
     "exception": false,
     "start_time": "2022-01-15T14:57:07.611511",
     "status": "completed"
    },
    "tags": []
   },
   "outputs": [
    {
     "data": {
      "image/png": "[encoded data removed]",
      "text/plain": [
       "<Figure size 432x288 with 2 Axes>"
      ]
     },
     "metadata": {
      "needs_background": "light"
     },
     "output_type": "display_data"
    }
   ],
   "source": [
    "# convert Sex into categorical value 0 for male and 1 for female\n",
    "dataset[\"Sex\"] = dataset[\"Sex\"].map({\"male\": 0, \"female\":1})\n",
    "\n",
    "d14 = sns.heatmap(dataset[[\"Age\",\"Sex\",\"SibSp\",\"Parch\",\"Pclass\"]].corr(), annot=True)"
   ]
  },
  {
   "cell_type": "markdown",
   "id": "c65adef0",
   "metadata": {
    "papermill": {
     "duration": 0.07956,
     "end_time": "2022-01-15T14:57:08.114085",
     "exception": false,
     "start_time": "2022-01-15T14:57:08.034525",
     "status": "completed"
    },
    "tags": []
   },
   "source": [
    "**Interpretation:**\n",
    "1. Age is not correlated with Sex, but is negatively correlated with Pclass, Parch and SibSp.\n",
    "2. In the plot of Age in function of Parch and 'Age' is growing with the number of Parch(parents/children). But generily      it is negativly correlated. So, we can use SibSP, Parch and Pclass in order to impute the missing ages."
   ]
  },
  {
   "cell_type": "code",
   "execution_count": 29,
   "id": "9b6b195d",
   "metadata": {
    "execution": {
     "iopub.execute_input": "2022-01-15T14:57:08.278250Z",
     "iopub.status.busy": "2022-01-15T14:57:08.277421Z",
     "iopub.status.idle": "2022-01-15T14:57:09.174933Z",
     "shell.execute_reply": "2022-01-15T14:57:09.174513Z",
     "shell.execute_reply.started": "2022-01-15T14:48:36.135615Z"
    },
    "papermill": {
     "duration": 0.980995,
     "end_time": "2022-01-15T14:57:09.175044",
     "exception": false,
     "start_time": "2022-01-15T14:57:08.194049",
     "status": "completed"
    },
    "tags": []
   },
   "outputs": [
    {
     "data": {
      "image/png": "[encoded data removed]",
      "text/plain": [
       "<Figure size 360x360 with 1 Axes>"
      ]
     },
     "metadata": {
      "needs_background": "light"
     },
     "output_type": "display_data"
    },
    {
     "data": {
      "image/png": "[encoded data removed]",
      "text/plain": [
       "<Figure size 360x360 with 1 Axes>"
      ]
     },
     "metadata": {
      "needs_background": "light"
     },
     "output_type": "display_data"
    }
   ],
   "source": [
    "# Fill Age with the median age of similar rows according to Pclass, Parch and SibSp. Index of NaN age rows\n",
    "index_nan_age = list(dataset[\"Age\"][dataset[\"Age\"].isnull()].index)\n",
    "\n",
    "for i in index_nan_age :\n",
    "    age_median = dataset[\"Age\"].median()\n",
    "    age_pred = dataset[\"Age\"][((dataset['SibSp'] == dataset.iloc[i][\"SibSp\"]) & (dataset['Parch'] == dataset.iloc[i][\"Parch\"]) & (dataset['Pclass'] == dataset.iloc[i][\"Pclass\"]))].median()\n",
    "    if not np.isnan(age_pred) :\n",
    "        dataset['Age'].iloc[i] = age_pred\n",
    "    else :\n",
    "        dataset['Age'].iloc[i] = age_median\n",
    "        \n",
    "        \n",
    "d15 = sns.factorplot(x=\"Survived\", y = \"Age\", data = df_train, kind=\"box\")\n",
    "d16 = sns.factorplot(x=\"Survived\", y = \"Age\", data = df_train, kind=\"violin\")"
   ]
  },
  {
   "cell_type": "markdown",
   "id": "c13a17c8",
   "metadata": {
    "papermill": {
     "duration": 0.052822,
     "end_time": "2022-01-15T14:57:09.281625",
     "exception": false,
     "start_time": "2022-01-15T14:57:09.228803",
     "status": "completed"
    },
    "tags": []
   },
   "source": [
    "**Interpretation:**\n",
    "Violin plot of survived passengers, we still notice that very young passengers have higher survival rate."
   ]
  },
  {
   "cell_type": "code",
   "execution_count": 30,
   "id": "aafa47cb",
   "metadata": {
    "execution": {
     "iopub.execute_input": "2022-01-15T14:57:09.393514Z",
     "iopub.status.busy": "2022-01-15T14:57:09.393044Z",
     "iopub.status.idle": "2022-01-15T14:57:09.395360Z",
     "shell.execute_reply": "2022-01-15T14:57:09.394907Z",
     "shell.execute_reply.started": "2022-01-15T14:48:37.084871Z"
    },
    "papermill": {
     "duration": 0.060607,
     "end_time": "2022-01-15T14:57:09.395459",
     "exception": false,
     "start_time": "2022-01-15T14:57:09.334852",
     "status": "completed"
    },
    "tags": []
   },
   "outputs": [],
   "source": [
    "# Drop Name variable\n",
    "dataset.drop(labels = [\"Name\"], axis = 1, inplace = True)"
   ]
  },
  {
   "cell_type": "code",
   "execution_count": 31,
   "id": "29f7d3b4",
   "metadata": {
    "execution": {
     "iopub.execute_input": "2022-01-15T14:57:09.508119Z",
     "iopub.status.busy": "2022-01-15T14:57:09.507655Z",
     "iopub.status.idle": "2022-01-15T14:57:09.512620Z",
     "shell.execute_reply": "2022-01-15T14:57:09.512118Z",
     "shell.execute_reply.started": "2022-01-15T14:48:37.092143Z"
    },
    "papermill": {
     "duration": 0.063939,
     "end_time": "2022-01-15T14:57:09.512718",
     "exception": false,
     "start_time": "2022-01-15T14:57:09.448779",
     "status": "completed"
    },
    "tags": []
   },
   "outputs": [],
   "source": [
    "# convert to indicator values Embarked \n",
    "dataset = pd.get_dummies(dataset, columns = [\"Embarked\"], prefix=\"Em\")"
   ]
  },
  {
   "cell_type": "code",
   "execution_count": 32,
   "id": "fdd3e1a1",
   "metadata": {
    "execution": {
     "iopub.execute_input": "2022-01-15T14:57:09.625799Z",
     "iopub.status.busy": "2022-01-15T14:57:09.625312Z",
     "iopub.status.idle": "2022-01-15T14:57:09.627901Z",
     "shell.execute_reply": "2022-01-15T14:57:09.628356Z",
     "shell.execute_reply.started": "2022-01-15T14:48:37.110377Z"
    },
    "papermill": {
     "duration": 0.063614,
     "end_time": "2022-01-15T14:57:09.628479",
     "exception": false,
     "start_time": "2022-01-15T14:57:09.564865",
     "status": "completed"
    },
    "tags": []
   },
   "outputs": [
    {
     "data": {
      "text/plain": [
       "count             295\n",
       "unique            186\n",
       "top       C23 C25 C27\n",
       "freq                6\n",
       "Name: Cabin, dtype: object"
      ]
     },
     "execution_count": 32,
     "metadata": {},
     "output_type": "execute_result"
    }
   ],
   "source": [
    "dataset[\"Cabin\"].describe()"
   ]
  },
  {
   "cell_type": "code",
   "execution_count": 33,
   "id": "95c911f2",
   "metadata": {
    "execution": {
     "iopub.execute_input": "2022-01-15T14:57:09.743246Z",
     "iopub.status.busy": "2022-01-15T14:57:09.742767Z",
     "iopub.status.idle": "2022-01-15T14:57:09.744973Z",
     "shell.execute_reply": "2022-01-15T14:57:09.745419Z",
     "shell.execute_reply.started": "2022-01-15T14:48:37.122375Z"
    },
    "papermill": {
     "duration": 0.063264,
     "end_time": "2022-01-15T14:57:09.745537",
     "exception": false,
     "start_time": "2022-01-15T14:57:09.682273",
     "status": "completed"
    },
    "tags": []
   },
   "outputs": [
    {
     "data": {
      "text/plain": [
       "1      C85\n",
       "3     C123\n",
       "6      E46\n",
       "10      G6\n",
       "11    C103\n",
       "Name: Cabin, dtype: object"
      ]
     },
     "execution_count": 33,
     "metadata": {},
     "output_type": "execute_result"
    }
   ],
   "source": [
    "dataset[\"Cabin\"][dataset[\"Cabin\"].notnull()].head()"
   ]
  },
  {
   "cell_type": "code",
   "execution_count": 34,
   "id": "ef5383b7",
   "metadata": {
    "execution": {
     "iopub.execute_input": "2022-01-15T14:57:09.855517Z",
     "iopub.status.busy": "2022-01-15T14:57:09.855051Z",
     "iopub.status.idle": "2022-01-15T14:57:09.860910Z",
     "shell.execute_reply": "2022-01-15T14:57:09.861304Z",
     "shell.execute_reply.started": "2022-01-15T14:48:37.139421Z"
    },
    "papermill": {
     "duration": 0.062173,
     "end_time": "2022-01-15T14:57:09.861422",
     "exception": false,
     "start_time": "2022-01-15T14:57:09.799249",
     "status": "completed"
    },
    "tags": []
   },
   "outputs": [],
   "source": [
    "# Replace the Cabin number by the type of cabin 'X' if not\n",
    "dataset[\"Cabin\"] = pd.Series([i[0] if not pd.isnull(i) else 'X' for i in dataset['Cabin'] ])"
   ]
  },
  {
   "cell_type": "code",
   "execution_count": 35,
   "id": "a82ca29b",
   "metadata": {
    "execution": {
     "iopub.execute_input": "2022-01-15T14:57:09.971016Z",
     "iopub.status.busy": "2022-01-15T14:57:09.970486Z",
     "iopub.status.idle": "2022-01-15T14:57:10.453762Z",
     "shell.execute_reply": "2022-01-15T14:57:10.454284Z",
     "shell.execute_reply.started": "2022-01-15T14:48:37.152885Z"
    },
    "papermill": {
     "duration": 0.539803,
     "end_time": "2022-01-15T14:57:10.454440",
     "exception": false,
     "start_time": "2022-01-15T14:57:09.914637",
     "status": "completed"
    },
    "tags": []
   },
   "outputs": [
    {
     "data": {
      "image/png": "[encoded data removed]",
      "text/plain": [
       "<Figure size 360x360 with 1 Axes>"
      ]
     },
     "metadata": {
      "needs_background": "light"
     },
     "output_type": "display_data"
    }
   ],
   "source": [
    "d17 = sns.factorplot(y=\"Survived\",x=\"Cabin\",data=dataset,kind=\"bar\",order=['A','B','C','D','E','F','G','T','X'])\n",
    "d18 = d17.set_ylabels(\"Survival Probability\")"
   ]
  },
  {
   "cell_type": "markdown",
   "id": "dd772391",
   "metadata": {
    "papermill": {
     "duration": 0.054456,
     "end_time": "2022-01-15T14:57:10.562965",
     "exception": false,
     "start_time": "2022-01-15T14:57:10.508509",
     "status": "completed"
    },
    "tags": []
   },
   "source": [
    "**Interpretation:**\n",
    "Because of the low number of passenger that have a cabin, survival probabilities have an important standard deviation and we can't distinguish between survival probability of passengers in the different desks.\n",
    "\n",
    "But we can see that passengers with a cabin have generally more chance to survive than passengers without (X)."
   ]
  },
  {
   "cell_type": "code",
   "execution_count": 36,
   "id": "42e4dcca",
   "metadata": {
    "execution": {
     "iopub.execute_input": "2022-01-15T14:57:10.675488Z",
     "iopub.status.busy": "2022-01-15T14:57:10.674989Z",
     "iopub.status.idle": "2022-01-15T14:57:10.681672Z",
     "shell.execute_reply": "2022-01-15T14:57:10.682073Z",
     "shell.execute_reply.started": "2022-01-15T14:48:37.621772Z"
    },
    "papermill": {
     "duration": 0.064422,
     "end_time": "2022-01-15T14:57:10.682203",
     "exception": false,
     "start_time": "2022-01-15T14:57:10.617781",
     "status": "completed"
    },
    "tags": []
   },
   "outputs": [],
   "source": [
    "dataset = pd.get_dummies(dataset, columns = [\"Cabin\"],prefix=\"Cabin\")"
   ]
  },
  {
   "cell_type": "code",
   "execution_count": 37,
   "id": "bd90343d",
   "metadata": {
    "execution": {
     "iopub.execute_input": "2022-01-15T14:57:10.796704Z",
     "iopub.status.busy": "2022-01-15T14:57:10.796219Z",
     "iopub.status.idle": "2022-01-15T14:57:10.801687Z",
     "shell.execute_reply": "2022-01-15T14:57:10.802111Z",
     "shell.execute_reply.started": "2022-01-15T14:48:37.631582Z"
    },
    "papermill": {
     "duration": 0.064127,
     "end_time": "2022-01-15T14:57:10.802231",
     "exception": false,
     "start_time": "2022-01-15T14:57:10.738104",
     "status": "completed"
    },
    "tags": []
   },
   "outputs": [
    {
     "data": {
      "text/plain": [
       "0           A/5 21171\n",
       "1            PC 17599\n",
       "2    STON/O2. 3101282\n",
       "3              113803\n",
       "4              373450\n",
       "Name: Ticket, dtype: object"
      ]
     },
     "execution_count": 37,
     "metadata": {},
     "output_type": "execute_result"
    }
   ],
   "source": [
    "dataset[\"Ticket\"].head()"
   ]
  },
  {
   "cell_type": "code",
   "execution_count": 38,
   "id": "930e301d",
   "metadata": {
    "execution": {
     "iopub.execute_input": "2022-01-15T14:57:10.924749Z",
     "iopub.status.busy": "2022-01-15T14:57:10.917059Z",
     "iopub.status.idle": "2022-01-15T14:57:10.926794Z",
     "shell.execute_reply": "2022-01-15T14:57:10.927246Z",
     "shell.execute_reply.started": "2022-01-15T14:48:37.651825Z"
    },
    "papermill": {
     "duration": 0.069194,
     "end_time": "2022-01-15T14:57:10.927378",
     "exception": false,
     "start_time": "2022-01-15T14:57:10.858184",
     "status": "completed"
    },
    "tags": []
   },
   "outputs": [
    {
     "data": {
      "text/plain": [
       "0        A5\n",
       "1        PC\n",
       "2    STONO2\n",
       "3         X\n",
       "4         X\n",
       "Name: Ticket, dtype: object"
      ]
     },
     "execution_count": 38,
     "metadata": {},
     "output_type": "execute_result"
    }
   ],
   "source": [
    "# Treat Ticket by extracting the ticket prefix. When there is no prefix it returns X. \n",
    "\n",
    "ticket = []\n",
    "for t in list(dataset.Ticket):\n",
    "    if not t.isdigit() :\n",
    "        ticket.append(t.replace(\".\",\"\").replace(\"/\",\"\").strip().split(' ')[0]) #Take prefix\n",
    "    else:\n",
    "        ticket.append(\"X\")\n",
    "        \n",
    "dataset[\"Ticket\"] = ticket\n",
    "dataset[\"Ticket\"].head()"
   ]
  },
  {
   "cell_type": "code",
   "execution_count": 39,
   "id": "5ecd9d99",
   "metadata": {
    "execution": {
     "iopub.execute_input": "2022-01-15T14:57:11.041836Z",
     "iopub.status.busy": "2022-01-15T14:57:11.041338Z",
     "iopub.status.idle": "2022-01-15T14:57:11.055180Z",
     "shell.execute_reply": "2022-01-15T14:57:11.055682Z",
     "shell.execute_reply.started": "2022-01-15T14:48:37.669293Z"
    },
    "papermill": {
     "duration": 0.072947,
     "end_time": "2022-01-15T14:57:11.055823",
     "exception": false,
     "start_time": "2022-01-15T14:57:10.982876",
     "status": "completed"
    },
    "tags": []
   },
   "outputs": [],
   "source": [
    "dataset = pd.get_dummies(dataset, columns = [\"Ticket\"], prefix=\"T\")\n",
    "\n",
    "# Create categorical values for Pclass\n",
    "dataset[\"Pclass\"] = dataset[\"Pclass\"].astype(\"category\")\n",
    "dataset = pd.get_dummies(dataset, columns = [\"Pclass\"],prefix=\"Pc\")\n",
    "\n",
    "# Drop useless variables \n",
    "dataset.drop(labels = [\"PassengerId\"], axis = 1, inplace = True)"
   ]
  },
  {
   "cell_type": "code",
   "execution_count": 40,
   "id": "3cf518b3",
   "metadata": {
    "execution": {
     "iopub.execute_input": "2022-01-15T14:57:11.179034Z",
     "iopub.status.busy": "2022-01-15T14:57:11.170975Z",
     "iopub.status.idle": "2022-01-15T14:57:11.190214Z",
     "shell.execute_reply": "2022-01-15T14:57:11.190624Z",
     "shell.execute_reply.started": "2022-01-15T14:48:37.689874Z"
    },
    "papermill": {
     "duration": 0.079813,
     "end_time": "2022-01-15T14:57:11.190755",
     "exception": false,
     "start_time": "2022-01-15T14:57:11.110942",
     "status": "completed"
    },
    "tags": []
   },
   "outputs": [
    {
     "data": {
      "text/html": [
       "<div>\n",
       "<style scoped>\n",
       "    .dataframe tbody tr th:only-of-type {\n",
       "        vertical-align: middle;\n",
       "    }\n",
       "\n",
       "    .dataframe tbody tr th {\n",
       "        vertical-align: top;\n",
       "    }\n",
       "\n",
       "    .dataframe thead th {\n",
       "        text-align: right;\n",
       "    }\n",
       "</style>\n",
       "<table border=\"1\" class=\"dataframe\">\n",
       "  <thead>\n",
       "    <tr style=\"text-align: right;\">\n",
       "      <th></th>\n",
       "      <th>Survived</th>\n",
       "      <th>Sex</th>\n",
       "      <th>Age</th>\n",
       "      <th>SibSp</th>\n",
       "      <th>Parch</th>\n",
       "      <th>Fare</th>\n",
       "      <th>Em_C</th>\n",
       "      <th>Em_Q</th>\n",
       "      <th>Em_S</th>\n",
       "      <th>Cabin_A</th>\n",
       "      <th>...</th>\n",
       "      <th>T_STONO</th>\n",
       "      <th>T_STONO2</th>\n",
       "      <th>T_STONOQ</th>\n",
       "      <th>T_SWPP</th>\n",
       "      <th>T_WC</th>\n",
       "      <th>T_WEP</th>\n",
       "      <th>T_X</th>\n",
       "      <th>Pc_1</th>\n",
       "      <th>Pc_2</th>\n",
       "      <th>Pc_3</th>\n",
       "    </tr>\n",
       "  </thead>\n",
       "  <tbody>\n",
       "    <tr>\n",
       "      <th>0</th>\n",
       "      <td>0.0</td>\n",
       "      <td>0</td>\n",
       "      <td>22.0</td>\n",
       "      <td>1</td>\n",
       "      <td>0</td>\n",
       "      <td>1.981001</td>\n",
       "      <td>0</td>\n",
       "      <td>0</td>\n",
       "      <td>1</td>\n",
       "      <td>0</td>\n",
       "      <td>...</td>\n",
       "      <td>0</td>\n",
       "      <td>0</td>\n",
       "      <td>0</td>\n",
       "      <td>0</td>\n",
       "      <td>0</td>\n",
       "      <td>0</td>\n",
       "      <td>0</td>\n",
       "      <td>0</td>\n",
       "      <td>0</td>\n",
       "      <td>1</td>\n",
       "    </tr>\n",
       "    <tr>\n",
       "      <th>1</th>\n",
       "      <td>1.0</td>\n",
       "      <td>1</td>\n",
       "      <td>38.0</td>\n",
       "      <td>1</td>\n",
       "      <td>0</td>\n",
       "      <td>4.266662</td>\n",
       "      <td>1</td>\n",
       "      <td>0</td>\n",
       "      <td>0</td>\n",
       "      <td>0</td>\n",
       "      <td>...</td>\n",
       "      <td>0</td>\n",
       "      <td>0</td>\n",
       "      <td>0</td>\n",
       "      <td>0</td>\n",
       "      <td>0</td>\n",
       "      <td>0</td>\n",
       "      <td>0</td>\n",
       "      <td>1</td>\n",
       "      <td>0</td>\n",
       "      <td>0</td>\n",
       "    </tr>\n",
       "    <tr>\n",
       "      <th>2</th>\n",
       "      <td>1.0</td>\n",
       "      <td>1</td>\n",
       "      <td>26.0</td>\n",
       "      <td>0</td>\n",
       "      <td>0</td>\n",
       "      <td>2.070022</td>\n",
       "      <td>0</td>\n",
       "      <td>0</td>\n",
       "      <td>1</td>\n",
       "      <td>0</td>\n",
       "      <td>...</td>\n",
       "      <td>0</td>\n",
       "      <td>1</td>\n",
       "      <td>0</td>\n",
       "      <td>0</td>\n",
       "      <td>0</td>\n",
       "      <td>0</td>\n",
       "      <td>0</td>\n",
       "      <td>0</td>\n",
       "      <td>0</td>\n",
       "      <td>1</td>\n",
       "    </tr>\n",
       "    <tr>\n",
       "      <th>3</th>\n",
       "      <td>1.0</td>\n",
       "      <td>1</td>\n",
       "      <td>35.0</td>\n",
       "      <td>1</td>\n",
       "      <td>0</td>\n",
       "      <td>3.972177</td>\n",
       "      <td>0</td>\n",
       "      <td>0</td>\n",
       "      <td>1</td>\n",
       "      <td>0</td>\n",
       "      <td>...</td>\n",
       "      <td>0</td>\n",
       "      <td>0</td>\n",
       "      <td>0</td>\n",
       "      <td>0</td>\n",
       "      <td>0</td>\n",
       "      <td>0</td>\n",
       "      <td>1</td>\n",
       "      <td>1</td>\n",
       "      <td>0</td>\n",
       "      <td>0</td>\n",
       "    </tr>\n",
       "    <tr>\n",
       "      <th>4</th>\n",
       "      <td>0.0</td>\n",
       "      <td>0</td>\n",
       "      <td>35.0</td>\n",
       "      <td>0</td>\n",
       "      <td>0</td>\n",
       "      <td>2.085672</td>\n",
       "      <td>0</td>\n",
       "      <td>0</td>\n",
       "      <td>1</td>\n",
       "      <td>0</td>\n",
       "      <td>...</td>\n",
       "      <td>0</td>\n",
       "      <td>0</td>\n",
       "      <td>0</td>\n",
       "      <td>0</td>\n",
       "      <td>0</td>\n",
       "      <td>0</td>\n",
       "      <td>1</td>\n",
       "      <td>0</td>\n",
       "      <td>0</td>\n",
       "      <td>1</td>\n",
       "    </tr>\n",
       "  </tbody>\n",
       "</table>\n",
       "<p>5 rows × 58 columns</p>\n",
       "</div>"
      ],
      "text/plain": [
       "   Survived  Sex   Age  SibSp  Parch      Fare  Em_C  Em_Q  Em_S  Cabin_A  \\\n",
       "0       0.0    0  22.0      1      0  1.981001     0     0     1        0   \n",
       "1       1.0    1  38.0      1      0  4.266662     1     0     0        0   \n",
       "2       1.0    1  26.0      0      0  2.070022     0     0     1        0   \n",
       "3       1.0    1  35.0      1      0  3.972177     0     0     1        0   \n",
       "4       0.0    0  35.0      0      0  2.085672     0     0     1        0   \n",
       "\n",
       "   ...  T_STONO  T_STONO2  T_STONOQ  T_SWPP  T_WC  T_WEP  T_X  Pc_1  Pc_2  \\\n",
       "0  ...        0         0         0       0     0      0    0     0     0   \n",
       "1  ...        0         0         0       0     0      0    0     1     0   \n",
       "2  ...        0         1         0       0     0      0    0     0     0   \n",
       "3  ...        0         0         0       0     0      0    1     1     0   \n",
       "4  ...        0         0         0       0     0      0    1     0     0   \n",
       "\n",
       "   Pc_3  \n",
       "0     1  \n",
       "1     0  \n",
       "2     1  \n",
       "3     0  \n",
       "4     1  \n",
       "\n",
       "[5 rows x 58 columns]"
      ]
     },
     "execution_count": 40,
     "metadata": {},
     "output_type": "execute_result"
    }
   ],
   "source": [
    "dataset.head()"
   ]
  },
  {
   "cell_type": "code",
   "execution_count": 41,
   "id": "3f7c4fb3",
   "metadata": {
    "execution": {
     "iopub.execute_input": "2022-01-15T14:57:11.306287Z",
     "iopub.status.busy": "2022-01-15T14:57:11.305821Z",
     "iopub.status.idle": "2022-01-15T14:57:11.311606Z",
     "shell.execute_reply": "2022-01-15T14:57:11.312065Z",
     "shell.execute_reply.started": "2022-01-15T14:48:37.713962Z"
    },
    "papermill": {
     "duration": 0.065271,
     "end_time": "2022-01-15T14:57:11.312220",
     "exception": false,
     "start_time": "2022-01-15T14:57:11.246949",
     "status": "completed"
    },
    "tags": []
   },
   "outputs": [],
   "source": [
    "# Separate train dataset and test dataset\n",
    "train_len = len(df_train)\n",
    "train = dataset[:train_len]\n",
    "test = dataset[train_len:]\n",
    "test.drop(labels=[\"Survived\"],axis = 1,inplace=True)"
   ]
  },
  {
   "cell_type": "code",
   "execution_count": 42,
   "id": "e2c73805",
   "metadata": {
    "execution": {
     "iopub.execute_input": "2022-01-15T14:57:11.426285Z",
     "iopub.status.busy": "2022-01-15T14:57:11.425812Z",
     "iopub.status.idle": "2022-01-15T14:57:11.432110Z",
     "shell.execute_reply": "2022-01-15T14:57:11.432482Z",
     "shell.execute_reply.started": "2022-01-15T14:48:37.722019Z"
    },
    "papermill": {
     "duration": 0.064272,
     "end_time": "2022-01-15T14:57:11.432649",
     "exception": false,
     "start_time": "2022-01-15T14:57:11.368377",
     "status": "completed"
    },
    "tags": []
   },
   "outputs": [],
   "source": [
    "# Separate train features and label \n",
    "\n",
    "train[\"Survived\"] = train[\"Survived\"].astype(int)\n",
    "y_train = train[\"Survived\"]\n",
    "x_train = train.drop(labels = [\"Survived\"],axis = 1)"
   ]
  },
  {
   "cell_type": "code",
   "execution_count": 43,
   "id": "bd65c2d5",
   "metadata": {
    "execution": {
     "iopub.execute_input": "2022-01-15T14:57:11.550091Z",
     "iopub.status.busy": "2022-01-15T14:57:11.549380Z",
     "iopub.status.idle": "2022-01-15T14:57:11.850002Z",
     "shell.execute_reply": "2022-01-15T14:57:11.849502Z",
     "shell.execute_reply.started": "2022-01-15T14:48:37.737301Z"
    },
    "papermill": {
     "duration": 0.362044,
     "end_time": "2022-01-15T14:57:11.850130",
     "exception": false,
     "start_time": "2022-01-15T14:57:11.488086",
     "status": "completed"
    },
    "tags": []
   },
   "outputs": [],
   "source": [
    "from sklearn.model_selection import GridSearchCV, cross_val_score, StratifiedKFold, learning_curve\n",
    "from sklearn.svm import SVC\n",
    "from sklearn.linear_model import LogisticRegression\n",
    "from sklearn.neighbors import KNeighborsClassifier\n",
    "from sklearn.ensemble import RandomForestClassifier, AdaBoostClassifier, ExtraTreesClassifier, GradientBoostingClassifier\n",
    "from sklearn.ensemble import VotingClassifier\n",
    "from sklearn.tree import DecisionTreeClassifier"
   ]
  },
  {
   "cell_type": "code",
   "execution_count": 44,
   "id": "a0c92332",
   "metadata": {
    "execution": {
     "iopub.execute_input": "2022-01-15T14:57:11.966866Z",
     "iopub.status.busy": "2022-01-15T14:57:11.966369Z",
     "iopub.status.idle": "2022-01-15T14:57:11.973075Z",
     "shell.execute_reply": "2022-01-15T14:57:11.973478Z",
     "shell.execute_reply.started": "2022-01-15T14:48:38.121595Z"
    },
    "papermill": {
     "duration": 0.066592,
     "end_time": "2022-01-15T14:57:11.973618",
     "exception": false,
     "start_time": "2022-01-15T14:57:11.907026",
     "status": "completed"
    },
    "tags": []
   },
   "outputs": [],
   "source": [
    "k_fold = StratifiedKFold(n_splits=10)\n",
    "\n",
    "random_state = 40\n",
    "classifiers  = []\n",
    "\n",
    "classifiers.append(KNeighborsClassifier())\n",
    "classifiers.append(SVC(random_state=random_state))\n",
    "classifiers.append(RandomForestClassifier(random_state=random_state))\n",
    "classifiers.append(DecisionTreeClassifier(random_state=random_state))\n",
    "classifiers.append(ExtraTreesClassifier(random_state=random_state))\n",
    "\n",
    "classifiers.append(AdaBoostClassifier(DecisionTreeClassifier(random_state=random_state), \n",
    "                                      random_state=random_state, \n",
    "                                      learning_rate=0.001))\n",
    "\n",
    "classifiers.append(GradientBoostingClassifier(random_state=random_state))"
   ]
  },
  {
   "cell_type": "code",
   "execution_count": 45,
   "id": "0483a71c",
   "metadata": {
    "execution": {
     "iopub.execute_input": "2022-01-15T14:57:12.088445Z",
     "iopub.status.busy": "2022-01-15T14:57:12.087750Z",
     "iopub.status.idle": "2022-01-15T14:57:18.398803Z",
     "shell.execute_reply": "2022-01-15T14:57:18.399468Z",
     "shell.execute_reply.started": "2022-01-15T14:48:38.131362Z"
    },
    "papermill": {
     "duration": 6.370779,
     "end_time": "2022-01-15T14:57:18.399669",
     "exception": false,
     "start_time": "2022-01-15T14:57:12.028890",
     "status": "completed"
    },
    "tags": []
   },
   "outputs": [
    {
     "data": {
      "image/png": "[encoded data removed]",
      "text/plain": [
       "<Figure size 432x288 with 1 Axes>"
      ]
     },
     "metadata": {
      "needs_background": "light"
     },
     "output_type": "display_data"
    }
   ],
   "source": [
    "cv_results = []\n",
    "for classifier in classifiers :\n",
    "    cv_results.append(cross_val_score(classifier, x_train, y = y_train, scoring = \"accuracy\", cv = k_fold, n_jobs=2))\n",
    "\n",
    "cv_means = []\n",
    "cv_std = []\n",
    "for cv_result in cv_results:\n",
    "    cv_means.append(cv_result.mean())\n",
    "    cv_std.append(cv_result.std())\n",
    "\n",
    "cv_res = pd.DataFrame({\"CrossValMeans\":cv_means,\n",
    "                       \"CrossValerrors\": cv_std,\n",
    "                       \"Algorithm\":[\"KNeighborsClassifier\", \n",
    "                                    \"SVC\", \n",
    "                                    \"RandomForestClassifier\",\n",
    "                                    \"DecisionTreeClassifier\",\n",
    "                                    \"ExtraTreesClassifier\",\n",
    "                                    \"AdaBoostClassifier\",\n",
    "                                    \"GradientBoostingClassifier\"]})\n",
    "\n",
    "d = sns.barplot(\"CrossValMeans\",\"Algorithm\", data = cv_res, orient = \"h\",**{'xerr':cv_std})\n",
    "d.set_xlabel(\"Mean Accuracy\")\n",
    "d = d.set_title(\"Cross validation scores\")"
   ]
  },
  {
   "cell_type": "markdown",
   "id": "4b9df705",
   "metadata": {
    "papermill": {
     "duration": 0.086485,
     "end_time": "2022-01-15T14:57:18.572750",
     "exception": false,
     "start_time": "2022-01-15T14:57:18.486265",
     "status": "completed"
    },
    "tags": []
   },
   "source": [
    "### Random Forest"
   ]
  },
  {
   "cell_type": "code",
   "execution_count": 46,
   "id": "c4548128",
   "metadata": {
    "execution": {
     "iopub.execute_input": "2022-01-15T14:57:18.748774Z",
     "iopub.status.busy": "2022-01-15T14:57:18.747951Z",
     "iopub.status.idle": "2022-01-15T14:58:50.880522Z",
     "shell.execute_reply": "2022-01-15T14:58:50.879990Z",
     "shell.execute_reply.started": "2022-01-15T14:48:44.806960Z"
    },
    "papermill": {
     "duration": 92.221419,
     "end_time": "2022-01-15T14:58:50.880678",
     "exception": false,
     "start_time": "2022-01-15T14:57:18.659259",
     "status": "completed"
    },
    "tags": []
   },
   "outputs": [
    {
     "name": "stdout",
     "output_type": "stream",
     "text": [
      "Fitting 10 folds for each of 54 candidates, totalling 540 fits\n"
     ]
    },
    {
     "name": "stderr",
     "output_type": "stream",
     "text": [
      "[Parallel(n_jobs=2)]: Using backend LokyBackend with 2 concurrent workers.\n",
      "[Parallel(n_jobs=2)]: Done  88 tasks      | elapsed:   14.4s\n",
      "[Parallel(n_jobs=2)]: Done 386 tasks      | elapsed:   59.0s\n",
      "[Parallel(n_jobs=2)]: Done 540 out of 540 | elapsed:  1.5min finished\n"
     ]
    },
    {
     "data": {
      "text/plain": [
       "0.8295006242197254"
      ]
     },
     "execution_count": 46,
     "metadata": {},
     "output_type": "execute_result"
    }
   ],
   "source": [
    "rfc = RandomForestClassifier()\n",
    "\n",
    "rfc_param_grid = {\"max_depth\":[None],\n",
    "                  \"max_features\":[1, 3, 20],\n",
    "                  \"min_samples_split\": [2, 3, 20],\n",
    "                  \"min_samples_leaf\": [1, 3, 20],\n",
    "                  \"bootstrap\": [False],\n",
    "                  \"n_estimators\" :[100,300],\n",
    "                  \"criterion\": [\"gini\"]}\n",
    "\n",
    "grid_search_rfc = GridSearchCV(rfc, \n",
    "                               param_grid=rfc_param_grid, \n",
    "                               cv=k_fold, \n",
    "                               scoring=\"accuracy\", \n",
    "                               n_jobs=2, \n",
    "                               verbose=1)\n",
    "\n",
    "grid_search_rfc.fit(x_train, y_train)\n",
    "rfc_best_estimator = grid_search_rfc.best_estimator_\n",
    "grid_search_rfc.best_score_"
   ]
  },
  {
   "cell_type": "markdown",
   "id": "dc64769a",
   "metadata": {
    "papermill": {
     "duration": 0.087427,
     "end_time": "2022-01-15T14:58:51.056514",
     "exception": false,
     "start_time": "2022-01-15T14:58:50.969087",
     "status": "completed"
    },
    "tags": []
   },
   "source": [
    "### Gradient Boosting"
   ]
  },
  {
   "cell_type": "code",
   "execution_count": 47,
   "id": "969eea8d",
   "metadata": {
    "execution": {
     "iopub.execute_input": "2022-01-15T14:58:51.236979Z",
     "iopub.status.busy": "2022-01-15T14:58:51.236171Z",
     "iopub.status.idle": "2022-01-15T14:59:30.455876Z",
     "shell.execute_reply": "2022-01-15T14:59:30.455435Z",
     "shell.execute_reply.started": "2022-01-15T14:50:12.152400Z"
    },
    "papermill": {
     "duration": 39.310662,
     "end_time": "2022-01-15T14:59:30.455982",
     "exception": false,
     "start_time": "2022-01-15T14:58:51.145320",
     "status": "completed"
    },
    "tags": []
   },
   "outputs": [
    {
     "name": "stdout",
     "output_type": "stream",
     "text": [
      "Fitting 10 folds for each of 72 candidates, totalling 720 fits\n"
     ]
    },
    {
     "name": "stderr",
     "output_type": "stream",
     "text": [
      "[Parallel(n_jobs=2)]: Using backend LokyBackend with 2 concurrent workers.\n",
      "[Parallel(n_jobs=2)]: Done  88 tasks      | elapsed:    5.2s\n",
      "[Parallel(n_jobs=2)]: Done 388 tasks      | elapsed:   21.6s\n",
      "[Parallel(n_jobs=2)]: Done 720 out of 720 | elapsed:   39.0s finished\n"
     ]
    },
    {
     "data": {
      "text/plain": [
       "0.8148439450686642"
      ]
     },
     "execution_count": 47,
     "metadata": {},
     "output_type": "execute_result"
    }
   ],
   "source": [
    "gbm = GradientBoostingClassifier()\n",
    "\n",
    "gbm_param_grid = {'loss' : [\"deviance\"],\n",
    "                 'n_estimators' : [100, 200, 300],\n",
    "                 'learning_rate': [0.1, 0.05, 0.01],\n",
    "                 'max_depth': [4, 8],\n",
    "                 'min_samples_leaf': [100, 200],\n",
    "                 'max_features': [0.3, 0.1] \n",
    "                 }\n",
    "\n",
    "grid_search_gbm = GridSearchCV(gbm, \n",
    "                     param_grid = gbm_param_grid, \n",
    "                     cv=k_fold, \n",
    "                     scoring=\"accuracy\", \n",
    "                     n_jobs=2, \n",
    "                     verbose=1)\n",
    "\n",
    "grid_search_gbm.fit(x_train, y_train)\n",
    "gbm_best_estimator = grid_search_gbm.best_estimator_\n",
    "grid_search_gbm.best_score_"
   ]
  },
  {
   "cell_type": "markdown",
   "id": "8de260a4",
   "metadata": {
    "papermill": {
     "duration": 0.058856,
     "end_time": "2022-01-15T14:59:30.574033",
     "exception": false,
     "start_time": "2022-01-15T14:59:30.515177",
     "status": "completed"
    },
    "tags": []
   },
   "source": [
    "### Extra Tree Classifier"
   ]
  },
  {
   "cell_type": "code",
   "execution_count": 48,
   "id": "6ff037f1",
   "metadata": {
    "execution": {
     "iopub.execute_input": "2022-01-15T14:59:30.694952Z",
     "iopub.status.busy": "2022-01-15T14:59:30.694387Z",
     "iopub.status.idle": "2022-01-15T15:00:52.672536Z",
     "shell.execute_reply": "2022-01-15T15:00:52.673216Z",
     "shell.execute_reply.started": "2022-01-15T14:50:58.200239Z"
    },
    "papermill": {
     "duration": 82.04042,
     "end_time": "2022-01-15T15:00:52.673381",
     "exception": false,
     "start_time": "2022-01-15T14:59:30.632961",
     "status": "completed"
    },
    "tags": []
   },
   "outputs": [
    {
     "name": "stdout",
     "output_type": "stream",
     "text": [
      "Fitting 10 folds for each of 54 candidates, totalling 540 fits\n"
     ]
    },
    {
     "name": "stderr",
     "output_type": "stream",
     "text": [
      "[Parallel(n_jobs=2)]: Using backend LokyBackend with 2 concurrent workers.\n",
      "[Parallel(n_jobs=2)]: Done  88 tasks      | elapsed:   13.5s\n",
      "[Parallel(n_jobs=2)]: Done 388 tasks      | elapsed:   55.4s\n",
      "[Parallel(n_jobs=2)]: Done 540 out of 540 | elapsed:  1.4min finished\n"
     ]
    },
    {
     "data": {
      "text/plain": [
       "0.8193757802746567"
      ]
     },
     "execution_count": 48,
     "metadata": {},
     "output_type": "execute_result"
    }
   ],
   "source": [
    "etc = ExtraTreesClassifier()\n",
    "\n",
    "# Search grid for optimal parameters\n",
    "et_param_grid = {\"max_depth\": [None],\n",
    "                 \"max_features\": [1, 3, 20],\n",
    "                 \"min_samples_split\": [2, 3, 20],\n",
    "                 \"min_samples_leaf\": [1, 3, 20],\n",
    "                 \"bootstrap\": [False],\n",
    "                 \"n_estimators\" :[100,300],\n",
    "                 \"criterion\": [\"gini\"]}\n",
    "\n",
    "\n",
    "grid_search_etc = GridSearchCV(etc,\n",
    "                               param_grid = et_param_grid, \n",
    "                               cv=k_fold, \n",
    "                               scoring=\"accuracy\", \n",
    "                               n_jobs=2, \n",
    "                               verbose = 1)\n",
    "\n",
    "grid_search_etc.fit(x_train, y_train)\n",
    "etc_best_estimator = grid_search_etc.best_estimator_\n",
    "grid_search_etc.best_score_"
   ]
  },
  {
   "cell_type": "code",
   "execution_count": 49,
   "id": "b8934502",
   "metadata": {
    "execution": {
     "iopub.execute_input": "2022-01-15T15:00:52.863229Z",
     "iopub.status.busy": "2022-01-15T15:00:52.862606Z",
     "iopub.status.idle": "2022-01-15T15:00:54.208374Z",
     "shell.execute_reply": "2022-01-15T15:00:54.208773Z",
     "shell.execute_reply.started": "2022-01-15T14:52:14.896706Z"
    },
    "papermill": {
     "duration": 1.443233,
     "end_time": "2022-01-15T15:00:54.208933",
     "exception": false,
     "start_time": "2022-01-15T15:00:52.765700",
     "status": "completed"
    },
    "tags": []
   },
   "outputs": [
    {
     "data": {
      "text/plain": [
       "VotingClassifier(estimators=[('RandomForest',\n",
       "                              RandomForestClassifier(bootstrap=False,\n",
       "                                                     max_features=20,\n",
       "                                                     n_estimators=300)),\n",
       "                             ('GradientBoosting',\n",
       "                              GradientBoostingClassifier(max_depth=8,\n",
       "                                                         max_features=0.3,\n",
       "                                                         min_samples_leaf=100,\n",
       "                                                         n_estimators=200)),\n",
       "                             ('ExtraTree',\n",
       "                              ExtraTreesClassifier(max_features=20,\n",
       "                                                   min_samples_split=3,\n",
       "                                                   n_estimators=300))])"
      ]
     },
     "execution_count": 49,
     "metadata": {},
     "output_type": "execute_result"
    }
   ],
   "source": [
    "voting_classifier = VotingClassifier(estimators=[('RandomForest', rfc_best_estimator),\n",
    "                                                 ('GradientBoosting', gbm_best_estimator),\n",
    "                                                 ('ExtraTree', etc_best_estimator)])\n",
    "\n",
    "voting_classifier.fit(x_train, y_train)"
   ]
  },
  {
   "cell_type": "code",
   "execution_count": 50,
   "id": "5369913d",
   "metadata": {
    "execution": {
     "iopub.execute_input": "2022-01-15T15:00:54.335955Z",
     "iopub.status.busy": "2022-01-15T15:00:54.335389Z",
     "iopub.status.idle": "2022-01-15T15:00:54.464482Z",
     "shell.execute_reply": "2022-01-15T15:00:54.464957Z",
     "shell.execute_reply.started": "2022-01-15T14:56:22.503032Z"
    },
    "papermill": {
     "duration": 0.19379,
     "end_time": "2022-01-15T15:00:54.465108",
     "exception": false,
     "start_time": "2022-01-15T15:00:54.271318",
     "status": "completed"
    },
    "tags": []
   },
   "outputs": [],
   "source": [
    "test_survived = pd.Series(voting_classifier.predict(test), name=\"Survived\")\n",
    "pred = pd.concat([PassengerId_test,test_survived],axis=1)\n",
    "pred.to_csv(\"./titanic_pred2.csv\",index=False)"
   ]
  }
 ],
 "metadata": {
  "kernelspec": {
   "display_name": "Python 3",
   "language": "python",
   "name": "python3"
  },
  "language_info": {
   "codemirror_mode": {
    "name": "ipython",
    "version": 3
   },
   "file_extension": ".py",
   "mimetype": "text/x-python",
   "name": "python",
   "nbconvert_exporter": "python",
   "pygments_lexer": "ipython3",
   "version": "3.7.12"
  },
  "papermill": {
   "default_parameters": {},
   "duration": 249.865811,
   "end_time": "2022-01-15T15:00:55.436727",
   "environment_variables": {},
   "exception": null,
   "input_path": "__notebook__.ipynb",
   "output_path": "__notebook__.ipynb",
   "parameters": {},
   "start_time": "2022-01-15T14:56:45.570916",
   "version": "2.3.3"
  }
 },
 "nbformat": 4,
 "nbformat_minor": 5
}
