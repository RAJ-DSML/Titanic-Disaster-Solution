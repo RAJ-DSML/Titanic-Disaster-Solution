{
 "cells": [
  {
   "cell_type": "code",
   "execution_count": 1,
   "id": "2202213a",
   "metadata": {
    "_cell_guid": "b1076dfc-b9ad-4769-8c92-a6c4dae69d19",
    "_uuid": "8f2839f25d086af736a60e9eeb907d3b93b6e0e5",
    "execution": {
     "iopub.execute_input": "2022-01-13T15:38:57.365567Z",
     "iopub.status.busy": "2022-01-13T15:38:57.364360Z",
     "iopub.status.idle": "2022-01-13T15:38:57.385846Z",
     "shell.execute_reply": "2022-01-13T15:38:57.384939Z",
     "shell.execute_reply.started": "2022-01-13T15:29:24.890674Z"
    },
    "papermill": {
     "duration": 0.054369,
     "end_time": "2022-01-13T15:38:57.386088",
     "exception": false,
     "start_time": "2022-01-13T15:38:57.331719",
     "status": "completed"
    },
    "tags": []
   },
   "outputs": [
    {
     "name": "stdout",
     "output_type": "stream",
     "text": [
      "/kaggle/input/titanic/train.csv\n",
      "/kaggle/input/titanic/test.csv\n",
      "/kaggle/input/titanic/gender_submission.csv\n"
     ]
    }
   ],
   "source": [
    "# This Python 3 environment comes with many helpful analytics libraries installed\n",
    "# It is defined by the kaggle/python Docker image: https://github.com/kaggle/docker-python\n",
    "# For example, here's several helpful packages to load\n",
    "\n",
    "import numpy as np # linear algebra\n",
    "import pandas as pd # data processing, CSV file I/O (e.g. pd.read_csv)\n",
    "\n",
    "# Input data files are available in the read-only \"../input/\" directory\n",
    "# For example, running this (by clicking run or pressing Shift+Enter) will list all files under the input directory\n",
    "\n",
    "import os\n",
    "for dirname, _, filenames in os.walk('/kaggle/input'):\n",
    "    for filename in filenames:\n",
    "        print(os.path.join(dirname, filename))\n",
    "\n",
    "# You can write up to 20GB to the current directory (/kaggle/working/) that gets preserved as output when you create a version using \"Save & Run All\" \n",
    "# You can also write temporary files to /kaggle/temp/, but they won't be saved outside of the current session"
   ]
  },
  {
   "cell_type": "code",
   "execution_count": 2,
   "id": "61bca78e",
   "metadata": {
    "execution": {
     "iopub.execute_input": "2022-01-13T15:38:57.449530Z",
     "iopub.status.busy": "2022-01-13T15:38:57.448855Z",
     "iopub.status.idle": "2022-01-13T15:38:58.454454Z",
     "shell.execute_reply": "2022-01-13T15:38:58.453818Z",
     "shell.execute_reply.started": "2022-01-13T15:29:24.905553Z"
    },
    "papermill": {
     "duration": 1.038701,
     "end_time": "2022-01-13T15:38:58.454605",
     "exception": false,
     "start_time": "2022-01-13T15:38:57.415904",
     "status": "completed"
    },
    "tags": []
   },
   "outputs": [],
   "source": [
    "import seaborn as sns\n",
    "import matplotlib.pyplot as plt\n",
    "import warnings\n",
    "warnings.filterwarnings('ignore')"
   ]
  },
  {
   "cell_type": "code",
   "execution_count": 3,
   "id": "0243dc68",
   "metadata": {
    "execution": {
     "iopub.execute_input": "2022-01-13T15:38:58.517771Z",
     "iopub.status.busy": "2022-01-13T15:38:58.517030Z",
     "iopub.status.idle": "2022-01-13T15:38:58.557469Z",
     "shell.execute_reply": "2022-01-13T15:38:58.558000Z",
     "shell.execute_reply.started": "2022-01-13T15:29:24.924521Z"
    },
    "papermill": {
     "duration": 0.074202,
     "end_time": "2022-01-13T15:38:58.558168",
     "exception": false,
     "start_time": "2022-01-13T15:38:58.483966",
     "status": "completed"
    },
    "tags": []
   },
   "outputs": [
    {
     "data": {
      "text/html": [
       "<div>\n",
       "<style scoped>\n",
       "    .dataframe tbody tr th:only-of-type {\n",
       "        vertical-align: middle;\n",
       "    }\n",
       "\n",
       "    .dataframe tbody tr th {\n",
       "        vertical-align: top;\n",
       "    }\n",
       "\n",
       "    .dataframe thead th {\n",
       "        text-align: right;\n",
       "    }\n",
       "</style>\n",
       "<table border=\"1\" class=\"dataframe\">\n",
       "  <thead>\n",
       "    <tr style=\"text-align: right;\">\n",
       "      <th></th>\n",
       "      <th>PassengerId</th>\n",
       "      <th>Survived</th>\n",
       "      <th>Pclass</th>\n",
       "      <th>Name</th>\n",
       "      <th>Sex</th>\n",
       "      <th>Age</th>\n",
       "      <th>SibSp</th>\n",
       "      <th>Parch</th>\n",
       "      <th>Ticket</th>\n",
       "      <th>Fare</th>\n",
       "      <th>Cabin</th>\n",
       "      <th>Embarked</th>\n",
       "    </tr>\n",
       "  </thead>\n",
       "  <tbody>\n",
       "    <tr>\n",
       "      <th>0</th>\n",
       "      <td>1</td>\n",
       "      <td>0</td>\n",
       "      <td>3</td>\n",
       "      <td>Braund, Mr. Owen Harris</td>\n",
       "      <td>male</td>\n",
       "      <td>22.0</td>\n",
       "      <td>1</td>\n",
       "      <td>0</td>\n",
       "      <td>A/5 21171</td>\n",
       "      <td>7.2500</td>\n",
       "      <td>NaN</td>\n",
       "      <td>S</td>\n",
       "    </tr>\n",
       "    <tr>\n",
       "      <th>1</th>\n",
       "      <td>2</td>\n",
       "      <td>1</td>\n",
       "      <td>1</td>\n",
       "      <td>Cumings, Mrs. John Bradley (Florence Briggs Th...</td>\n",
       "      <td>female</td>\n",
       "      <td>38.0</td>\n",
       "      <td>1</td>\n",
       "      <td>0</td>\n",
       "      <td>PC 17599</td>\n",
       "      <td>71.2833</td>\n",
       "      <td>C85</td>\n",
       "      <td>C</td>\n",
       "    </tr>\n",
       "    <tr>\n",
       "      <th>2</th>\n",
       "      <td>3</td>\n",
       "      <td>1</td>\n",
       "      <td>3</td>\n",
       "      <td>Heikkinen, Miss. Laina</td>\n",
       "      <td>female</td>\n",
       "      <td>26.0</td>\n",
       "      <td>0</td>\n",
       "      <td>0</td>\n",
       "      <td>STON/O2. 3101282</td>\n",
       "      <td>7.9250</td>\n",
       "      <td>NaN</td>\n",
       "      <td>S</td>\n",
       "    </tr>\n",
       "    <tr>\n",
       "      <th>3</th>\n",
       "      <td>4</td>\n",
       "      <td>1</td>\n",
       "      <td>1</td>\n",
       "      <td>Futrelle, Mrs. Jacques Heath (Lily May Peel)</td>\n",
       "      <td>female</td>\n",
       "      <td>35.0</td>\n",
       "      <td>1</td>\n",
       "      <td>0</td>\n",
       "      <td>113803</td>\n",
       "      <td>53.1000</td>\n",
       "      <td>C123</td>\n",
       "      <td>S</td>\n",
       "    </tr>\n",
       "    <tr>\n",
       "      <th>4</th>\n",
       "      <td>5</td>\n",
       "      <td>0</td>\n",
       "      <td>3</td>\n",
       "      <td>Allen, Mr. William Henry</td>\n",
       "      <td>male</td>\n",
       "      <td>35.0</td>\n",
       "      <td>0</td>\n",
       "      <td>0</td>\n",
       "      <td>373450</td>\n",
       "      <td>8.0500</td>\n",
       "      <td>NaN</td>\n",
       "      <td>S</td>\n",
       "    </tr>\n",
       "  </tbody>\n",
       "</table>\n",
       "</div>"
      ],
      "text/plain": [
       "   PassengerId  Survived  Pclass  \\\n",
       "0            1         0       3   \n",
       "1            2         1       1   \n",
       "2            3         1       3   \n",
       "3            4         1       1   \n",
       "4            5         0       3   \n",
       "\n",
       "                                                Name     Sex   Age  SibSp  \\\n",
       "0                            Braund, Mr. Owen Harris    male  22.0      1   \n",
       "1  Cumings, Mrs. John Bradley (Florence Briggs Th...  female  38.0      1   \n",
       "2                             Heikkinen, Miss. Laina  female  26.0      0   \n",
       "3       Futrelle, Mrs. Jacques Heath (Lily May Peel)  female  35.0      1   \n",
       "4                           Allen, Mr. William Henry    male  35.0      0   \n",
       "\n",
       "   Parch            Ticket     Fare Cabin Embarked  \n",
       "0      0         A/5 21171   7.2500   NaN        S  \n",
       "1      0          PC 17599  71.2833   C85        C  \n",
       "2      0  STON/O2. 3101282   7.9250   NaN        S  \n",
       "3      0            113803  53.1000  C123        S  \n",
       "4      0            373450   8.0500   NaN        S  "
      ]
     },
     "execution_count": 3,
     "metadata": {},
     "output_type": "execute_result"
    }
   ],
   "source": [
    "#training data\n",
    "df_train = pd.read_csv(\"/kaggle/input/titanic/train.csv\")\n",
    "df_train.head()"
   ]
  },
  {
   "cell_type": "code",
   "execution_count": 4,
   "id": "8caa6256",
   "metadata": {
    "execution": {
     "iopub.execute_input": "2022-01-13T15:38:58.622136Z",
     "iopub.status.busy": "2022-01-13T15:38:58.621472Z",
     "iopub.status.idle": "2022-01-13T15:38:58.644383Z",
     "shell.execute_reply": "2022-01-13T15:38:58.645013Z",
     "shell.execute_reply.started": "2022-01-13T15:29:24.959129Z"
    },
    "papermill": {
     "duration": 0.05744,
     "end_time": "2022-01-13T15:38:58.645187",
     "exception": false,
     "start_time": "2022-01-13T15:38:58.587747",
     "status": "completed"
    },
    "tags": []
   },
   "outputs": [
    {
     "data": {
      "text/html": [
       "<div>\n",
       "<style scoped>\n",
       "    .dataframe tbody tr th:only-of-type {\n",
       "        vertical-align: middle;\n",
       "    }\n",
       "\n",
       "    .dataframe tbody tr th {\n",
       "        vertical-align: top;\n",
       "    }\n",
       "\n",
       "    .dataframe thead th {\n",
       "        text-align: right;\n",
       "    }\n",
       "</style>\n",
       "<table border=\"1\" class=\"dataframe\">\n",
       "  <thead>\n",
       "    <tr style=\"text-align: right;\">\n",
       "      <th></th>\n",
       "      <th>PassengerId</th>\n",
       "      <th>Pclass</th>\n",
       "      <th>Name</th>\n",
       "      <th>Sex</th>\n",
       "      <th>Age</th>\n",
       "      <th>SibSp</th>\n",
       "      <th>Parch</th>\n",
       "      <th>Ticket</th>\n",
       "      <th>Fare</th>\n",
       "      <th>Cabin</th>\n",
       "      <th>Embarked</th>\n",
       "    </tr>\n",
       "  </thead>\n",
       "  <tbody>\n",
       "    <tr>\n",
       "      <th>0</th>\n",
       "      <td>892</td>\n",
       "      <td>3</td>\n",
       "      <td>Kelly, Mr. James</td>\n",
       "      <td>male</td>\n",
       "      <td>34.5</td>\n",
       "      <td>0</td>\n",
       "      <td>0</td>\n",
       "      <td>330911</td>\n",
       "      <td>7.8292</td>\n",
       "      <td>NaN</td>\n",
       "      <td>Q</td>\n",
       "    </tr>\n",
       "    <tr>\n",
       "      <th>1</th>\n",
       "      <td>893</td>\n",
       "      <td>3</td>\n",
       "      <td>Wilkes, Mrs. James (Ellen Needs)</td>\n",
       "      <td>female</td>\n",
       "      <td>47.0</td>\n",
       "      <td>1</td>\n",
       "      <td>0</td>\n",
       "      <td>363272</td>\n",
       "      <td>7.0000</td>\n",
       "      <td>NaN</td>\n",
       "      <td>S</td>\n",
       "    </tr>\n",
       "    <tr>\n",
       "      <th>2</th>\n",
       "      <td>894</td>\n",
       "      <td>2</td>\n",
       "      <td>Myles, Mr. Thomas Francis</td>\n",
       "      <td>male</td>\n",
       "      <td>62.0</td>\n",
       "      <td>0</td>\n",
       "      <td>0</td>\n",
       "      <td>240276</td>\n",
       "      <td>9.6875</td>\n",
       "      <td>NaN</td>\n",
       "      <td>Q</td>\n",
       "    </tr>\n",
       "    <tr>\n",
       "      <th>3</th>\n",
       "      <td>895</td>\n",
       "      <td>3</td>\n",
       "      <td>Wirz, Mr. Albert</td>\n",
       "      <td>male</td>\n",
       "      <td>27.0</td>\n",
       "      <td>0</td>\n",
       "      <td>0</td>\n",
       "      <td>315154</td>\n",
       "      <td>8.6625</td>\n",
       "      <td>NaN</td>\n",
       "      <td>S</td>\n",
       "    </tr>\n",
       "    <tr>\n",
       "      <th>4</th>\n",
       "      <td>896</td>\n",
       "      <td>3</td>\n",
       "      <td>Hirvonen, Mrs. Alexander (Helga E Lindqvist)</td>\n",
       "      <td>female</td>\n",
       "      <td>22.0</td>\n",
       "      <td>1</td>\n",
       "      <td>1</td>\n",
       "      <td>3101298</td>\n",
       "      <td>12.2875</td>\n",
       "      <td>NaN</td>\n",
       "      <td>S</td>\n",
       "    </tr>\n",
       "  </tbody>\n",
       "</table>\n",
       "</div>"
      ],
      "text/plain": [
       "   PassengerId  Pclass                                          Name     Sex  \\\n",
       "0          892       3                              Kelly, Mr. James    male   \n",
       "1          893       3              Wilkes, Mrs. James (Ellen Needs)  female   \n",
       "2          894       2                     Myles, Mr. Thomas Francis    male   \n",
       "3          895       3                              Wirz, Mr. Albert    male   \n",
       "4          896       3  Hirvonen, Mrs. Alexander (Helga E Lindqvist)  female   \n",
       "\n",
       "    Age  SibSp  Parch   Ticket     Fare Cabin Embarked  \n",
       "0  34.5      0      0   330911   7.8292   NaN        Q  \n",
       "1  47.0      1      0   363272   7.0000   NaN        S  \n",
       "2  62.0      0      0   240276   9.6875   NaN        Q  \n",
       "3  27.0      0      0   315154   8.6625   NaN        S  \n",
       "4  22.0      1      1  3101298  12.2875   NaN        S  "
      ]
     },
     "execution_count": 4,
     "metadata": {},
     "output_type": "execute_result"
    }
   ],
   "source": [
    "#testing data\n",
    "df_test = pd.read_csv(\"/kaggle/input/titanic/test.csv\")\n",
    "df_test.head()"
   ]
  },
  {
   "cell_type": "code",
   "execution_count": 5,
   "id": "6ca80cfb",
   "metadata": {
    "execution": {
     "iopub.execute_input": "2022-01-13T15:38:58.710591Z",
     "iopub.status.busy": "2022-01-13T15:38:58.709530Z",
     "iopub.status.idle": "2022-01-13T15:38:58.717349Z",
     "shell.execute_reply": "2022-01-13T15:38:58.717971Z",
     "shell.execute_reply.started": "2022-01-13T15:29:24.979297Z"
    },
    "papermill": {
     "duration": 0.041668,
     "end_time": "2022-01-13T15:38:58.718141",
     "exception": false,
     "start_time": "2022-01-13T15:38:58.676473",
     "status": "completed"
    },
    "tags": []
   },
   "outputs": [],
   "source": [
    "PassengerId_test = df_test[\"PassengerId\"]"
   ]
  },
  {
   "cell_type": "code",
   "execution_count": 6,
   "id": "5f57a721",
   "metadata": {
    "execution": {
     "iopub.execute_input": "2022-01-13T15:38:58.783956Z",
     "iopub.status.busy": "2022-01-13T15:38:58.782925Z",
     "iopub.status.idle": "2022-01-13T15:38:58.798085Z",
     "shell.execute_reply": "2022-01-13T15:38:58.797497Z",
     "shell.execute_reply.started": "2022-01-13T15:29:24.985881Z"
    },
    "papermill": {
     "duration": 0.047782,
     "end_time": "2022-01-13T15:38:58.798249",
     "exception": false,
     "start_time": "2022-01-13T15:38:58.750467",
     "status": "completed"
    },
    "tags": []
   },
   "outputs": [],
   "source": [
    "dataset =  pd.concat(objs=[df_train, df_test], axis=0).reset_index(drop=True)"
   ]
  },
  {
   "cell_type": "code",
   "execution_count": 7,
   "id": "cefa0c98",
   "metadata": {
    "execution": {
     "iopub.execute_input": "2022-01-13T15:38:58.861416Z",
     "iopub.status.busy": "2022-01-13T15:38:58.860757Z",
     "iopub.status.idle": "2022-01-13T15:38:58.870160Z",
     "shell.execute_reply": "2022-01-13T15:38:58.869642Z",
     "shell.execute_reply.started": "2022-01-13T15:29:25.009762Z"
    },
    "papermill": {
     "duration": 0.041768,
     "end_time": "2022-01-13T15:38:58.870322",
     "exception": false,
     "start_time": "2022-01-13T15:38:58.828554",
     "status": "completed"
    },
    "tags": []
   },
   "outputs": [
    {
     "data": {
      "text/plain": [
       "PassengerId       0\n",
       "Survived        418\n",
       "Pclass            0\n",
       "Name              0\n",
       "Sex               0\n",
       "Age             263\n",
       "SibSp             0\n",
       "Parch             0\n",
       "Ticket            0\n",
       "Fare              1\n",
       "Cabin          1014\n",
       "Embarked          2\n",
       "dtype: int64"
      ]
     },
     "execution_count": 7,
     "metadata": {},
     "output_type": "execute_result"
    }
   ],
   "source": [
    "dataset.isnull().sum()"
   ]
  },
  {
   "cell_type": "code",
   "execution_count": 8,
   "id": "f0f96f47",
   "metadata": {
    "execution": {
     "iopub.execute_input": "2022-01-13T15:38:58.933591Z",
     "iopub.status.busy": "2022-01-13T15:38:58.932946Z",
     "iopub.status.idle": "2022-01-13T15:38:58.943469Z",
     "shell.execute_reply": "2022-01-13T15:38:58.943959Z",
     "shell.execute_reply.started": "2022-01-13T15:29:25.030503Z"
    },
    "papermill": {
     "duration": 0.043567,
     "end_time": "2022-01-13T15:38:58.944137",
     "exception": false,
     "start_time": "2022-01-13T15:38:58.900570",
     "status": "completed"
    },
    "tags": []
   },
   "outputs": [
    {
     "data": {
      "text/plain": [
       "PassengerId       0\n",
       "Survived        418\n",
       "Pclass            0\n",
       "Name              0\n",
       "Sex               0\n",
       "Age             263\n",
       "SibSp             0\n",
       "Parch             0\n",
       "Ticket            0\n",
       "Fare              1\n",
       "Cabin          1014\n",
       "Embarked          2\n",
       "dtype: int64"
      ]
     },
     "execution_count": 8,
     "metadata": {},
     "output_type": "execute_result"
    }
   ],
   "source": [
    "dataset = dataset.fillna(np.nan)\n",
    "dataset.isnull().sum()"
   ]
  },
  {
   "cell_type": "code",
   "execution_count": null,
   "id": "b25dee1d",
   "metadata": {
    "papermill": {
     "duration": 0.029589,
     "end_time": "2022-01-13T15:38:59.004837",
     "exception": false,
     "start_time": "2022-01-13T15:38:58.975248",
     "status": "completed"
    },
    "tags": []
   },
   "outputs": [],
   "source": []
  },
  {
   "cell_type": "markdown",
   "id": "0a4ec91c",
   "metadata": {
    "papermill": {
     "duration": 0.030728,
     "end_time": "2022-01-13T15:38:59.066776",
     "exception": false,
     "start_time": "2022-01-13T15:38:59.036048",
     "status": "completed"
    },
    "tags": []
   },
   "source": [
    "### **Analyze the features by pivoting techniques**"
   ]
  },
  {
   "cell_type": "code",
   "execution_count": 9,
   "id": "105e7efe",
   "metadata": {
    "execution": {
     "iopub.execute_input": "2022-01-13T15:38:59.130255Z",
     "iopub.status.busy": "2022-01-13T15:38:59.129585Z",
     "iopub.status.idle": "2022-01-13T15:38:59.146438Z",
     "shell.execute_reply": "2022-01-13T15:38:59.146902Z",
     "shell.execute_reply.started": "2022-01-13T15:29:25.052592Z"
    },
    "papermill": {
     "duration": 0.050349,
     "end_time": "2022-01-13T15:38:59.147076",
     "exception": false,
     "start_time": "2022-01-13T15:38:59.096727",
     "status": "completed"
    },
    "tags": []
   },
   "outputs": [
    {
     "data": {
      "text/html": [
       "<div>\n",
       "<style scoped>\n",
       "    .dataframe tbody tr th:only-of-type {\n",
       "        vertical-align: middle;\n",
       "    }\n",
       "\n",
       "    .dataframe tbody tr th {\n",
       "        vertical-align: top;\n",
       "    }\n",
       "\n",
       "    .dataframe thead th {\n",
       "        text-align: right;\n",
       "    }\n",
       "</style>\n",
       "<table border=\"1\" class=\"dataframe\">\n",
       "  <thead>\n",
       "    <tr style=\"text-align: right;\">\n",
       "      <th></th>\n",
       "      <th>Sex</th>\n",
       "      <th>Survived</th>\n",
       "    </tr>\n",
       "  </thead>\n",
       "  <tbody>\n",
       "    <tr>\n",
       "      <th>0</th>\n",
       "      <td>female</td>\n",
       "      <td>0.742038</td>\n",
       "    </tr>\n",
       "    <tr>\n",
       "      <th>1</th>\n",
       "      <td>male</td>\n",
       "      <td>0.188908</td>\n",
       "    </tr>\n",
       "  </tbody>\n",
       "</table>\n",
       "</div>"
      ],
      "text/plain": [
       "      Sex  Survived\n",
       "0  female  0.742038\n",
       "1    male  0.188908"
      ]
     },
     "execution_count": 9,
     "metadata": {},
     "output_type": "execute_result"
    }
   ],
   "source": [
    "#Sex vs Survived\n",
    "df_train[[\"Sex\", \"Survived\"]].groupby(['Sex'], as_index=False).mean().sort_values(by=\"Survived\", ascending=False)"
   ]
  },
  {
   "cell_type": "code",
   "execution_count": 10,
   "id": "d8feadeb",
   "metadata": {
    "execution": {
     "iopub.execute_input": "2022-01-13T15:38:59.211353Z",
     "iopub.status.busy": "2022-01-13T15:38:59.210698Z",
     "iopub.status.idle": "2022-01-13T15:38:59.223772Z",
     "shell.execute_reply": "2022-01-13T15:38:59.224381Z",
     "shell.execute_reply.started": "2022-01-13T15:29:25.084312Z"
    },
    "papermill": {
     "duration": 0.046766,
     "end_time": "2022-01-13T15:38:59.224558",
     "exception": false,
     "start_time": "2022-01-13T15:38:59.177792",
     "status": "completed"
    },
    "tags": []
   },
   "outputs": [
    {
     "data": {
      "text/html": [
       "<div>\n",
       "<style scoped>\n",
       "    .dataframe tbody tr th:only-of-type {\n",
       "        vertical-align: middle;\n",
       "    }\n",
       "\n",
       "    .dataframe tbody tr th {\n",
       "        vertical-align: top;\n",
       "    }\n",
       "\n",
       "    .dataframe thead th {\n",
       "        text-align: right;\n",
       "    }\n",
       "</style>\n",
       "<table border=\"1\" class=\"dataframe\">\n",
       "  <thead>\n",
       "    <tr style=\"text-align: right;\">\n",
       "      <th></th>\n",
       "      <th>Pclass</th>\n",
       "      <th>Survived</th>\n",
       "    </tr>\n",
       "  </thead>\n",
       "  <tbody>\n",
       "    <tr>\n",
       "      <th>0</th>\n",
       "      <td>1</td>\n",
       "      <td>0.629630</td>\n",
       "    </tr>\n",
       "    <tr>\n",
       "      <th>1</th>\n",
       "      <td>2</td>\n",
       "      <td>0.472826</td>\n",
       "    </tr>\n",
       "    <tr>\n",
       "      <th>2</th>\n",
       "      <td>3</td>\n",
       "      <td>0.242363</td>\n",
       "    </tr>\n",
       "  </tbody>\n",
       "</table>\n",
       "</div>"
      ],
      "text/plain": [
       "   Pclass  Survived\n",
       "0       1  0.629630\n",
       "1       2  0.472826\n",
       "2       3  0.242363"
      ]
     },
     "execution_count": 10,
     "metadata": {},
     "output_type": "execute_result"
    }
   ],
   "source": [
    "#Pclass(Ticket class) vs Survived\n",
    "df_train[[\"Pclass\", \"Survived\"]].groupby(['Pclass'], as_index=False).mean().sort_values(by=\"Survived\", ascending=False)"
   ]
  },
  {
   "cell_type": "code",
   "execution_count": 11,
   "id": "66aad646",
   "metadata": {
    "execution": {
     "iopub.execute_input": "2022-01-13T15:38:59.292151Z",
     "iopub.status.busy": "2022-01-13T15:38:59.291546Z",
     "iopub.status.idle": "2022-01-13T15:38:59.306257Z",
     "shell.execute_reply": "2022-01-13T15:38:59.306786Z",
     "shell.execute_reply.started": "2022-01-13T15:29:25.105358Z"
    },
    "papermill": {
     "duration": 0.049219,
     "end_time": "2022-01-13T15:38:59.306967",
     "exception": false,
     "start_time": "2022-01-13T15:38:59.257748",
     "status": "completed"
    },
    "tags": []
   },
   "outputs": [
    {
     "data": {
      "text/html": [
       "<div>\n",
       "<style scoped>\n",
       "    .dataframe tbody tr th:only-of-type {\n",
       "        vertical-align: middle;\n",
       "    }\n",
       "\n",
       "    .dataframe tbody tr th {\n",
       "        vertical-align: top;\n",
       "    }\n",
       "\n",
       "    .dataframe thead th {\n",
       "        text-align: right;\n",
       "    }\n",
       "</style>\n",
       "<table border=\"1\" class=\"dataframe\">\n",
       "  <thead>\n",
       "    <tr style=\"text-align: right;\">\n",
       "      <th></th>\n",
       "      <th>SibSp</th>\n",
       "      <th>Survived</th>\n",
       "    </tr>\n",
       "  </thead>\n",
       "  <tbody>\n",
       "    <tr>\n",
       "      <th>1</th>\n",
       "      <td>1</td>\n",
       "      <td>0.535885</td>\n",
       "    </tr>\n",
       "    <tr>\n",
       "      <th>2</th>\n",
       "      <td>2</td>\n",
       "      <td>0.464286</td>\n",
       "    </tr>\n",
       "    <tr>\n",
       "      <th>0</th>\n",
       "      <td>0</td>\n",
       "      <td>0.345395</td>\n",
       "    </tr>\n",
       "    <tr>\n",
       "      <th>3</th>\n",
       "      <td>3</td>\n",
       "      <td>0.250000</td>\n",
       "    </tr>\n",
       "    <tr>\n",
       "      <th>4</th>\n",
       "      <td>4</td>\n",
       "      <td>0.166667</td>\n",
       "    </tr>\n",
       "    <tr>\n",
       "      <th>5</th>\n",
       "      <td>5</td>\n",
       "      <td>0.000000</td>\n",
       "    </tr>\n",
       "    <tr>\n",
       "      <th>6</th>\n",
       "      <td>8</td>\n",
       "      <td>0.000000</td>\n",
       "    </tr>\n",
       "  </tbody>\n",
       "</table>\n",
       "</div>"
      ],
      "text/plain": [
       "   SibSp  Survived\n",
       "1      1  0.535885\n",
       "2      2  0.464286\n",
       "0      0  0.345395\n",
       "3      3  0.250000\n",
       "4      4  0.166667\n",
       "5      5  0.000000\n",
       "6      8  0.000000"
      ]
     },
     "execution_count": 11,
     "metadata": {},
     "output_type": "execute_result"
    }
   ],
   "source": [
    "#SibSp(siblings / spouses) vs Survived\n",
    "df_train[[\"SibSp\", \"Survived\"]].groupby(['SibSp'], as_index=False).mean().sort_values(by=\"Survived\", ascending=False)"
   ]
  },
  {
   "cell_type": "code",
   "execution_count": 12,
   "id": "c0984f79",
   "metadata": {
    "execution": {
     "iopub.execute_input": "2022-01-13T15:38:59.375506Z",
     "iopub.status.busy": "2022-01-13T15:38:59.374796Z",
     "iopub.status.idle": "2022-01-13T15:38:59.387372Z",
     "shell.execute_reply": "2022-01-13T15:38:59.387910Z",
     "shell.execute_reply.started": "2022-01-13T15:29:25.126959Z"
    },
    "papermill": {
     "duration": 0.047747,
     "end_time": "2022-01-13T15:38:59.388081",
     "exception": false,
     "start_time": "2022-01-13T15:38:59.340334",
     "status": "completed"
    },
    "tags": []
   },
   "outputs": [
    {
     "data": {
      "text/html": [
       "<div>\n",
       "<style scoped>\n",
       "    .dataframe tbody tr th:only-of-type {\n",
       "        vertical-align: middle;\n",
       "    }\n",
       "\n",
       "    .dataframe tbody tr th {\n",
       "        vertical-align: top;\n",
       "    }\n",
       "\n",
       "    .dataframe thead th {\n",
       "        text-align: right;\n",
       "    }\n",
       "</style>\n",
       "<table border=\"1\" class=\"dataframe\">\n",
       "  <thead>\n",
       "    <tr style=\"text-align: right;\">\n",
       "      <th></th>\n",
       "      <th>Parch</th>\n",
       "      <th>Survived</th>\n",
       "    </tr>\n",
       "  </thead>\n",
       "  <tbody>\n",
       "    <tr>\n",
       "      <th>3</th>\n",
       "      <td>3</td>\n",
       "      <td>0.600000</td>\n",
       "    </tr>\n",
       "    <tr>\n",
       "      <th>1</th>\n",
       "      <td>1</td>\n",
       "      <td>0.550847</td>\n",
       "    </tr>\n",
       "    <tr>\n",
       "      <th>2</th>\n",
       "      <td>2</td>\n",
       "      <td>0.500000</td>\n",
       "    </tr>\n",
       "    <tr>\n",
       "      <th>0</th>\n",
       "      <td>0</td>\n",
       "      <td>0.343658</td>\n",
       "    </tr>\n",
       "    <tr>\n",
       "      <th>5</th>\n",
       "      <td>5</td>\n",
       "      <td>0.200000</td>\n",
       "    </tr>\n",
       "    <tr>\n",
       "      <th>4</th>\n",
       "      <td>4</td>\n",
       "      <td>0.000000</td>\n",
       "    </tr>\n",
       "    <tr>\n",
       "      <th>6</th>\n",
       "      <td>6</td>\n",
       "      <td>0.000000</td>\n",
       "    </tr>\n",
       "  </tbody>\n",
       "</table>\n",
       "</div>"
      ],
      "text/plain": [
       "   Parch  Survived\n",
       "3      3  0.600000\n",
       "1      1  0.550847\n",
       "2      2  0.500000\n",
       "0      0  0.343658\n",
       "5      5  0.200000\n",
       "4      4  0.000000\n",
       "6      6  0.000000"
      ]
     },
     "execution_count": 12,
     "metadata": {},
     "output_type": "execute_result"
    }
   ],
   "source": [
    "#Parch(parents / children) vs Survived\n",
    "df_train[[\"Parch\", \"Survived\"]].groupby(['Parch'], as_index=False).mean().sort_values(by=\"Survived\", ascending=False)"
   ]
  },
  {
   "cell_type": "markdown",
   "id": "e79b7195",
   "metadata": {
    "papermill": {
     "duration": 0.031657,
     "end_time": "2022-01-13T15:38:59.452924",
     "exception": false,
     "start_time": "2022-01-13T15:38:59.421267",
     "status": "completed"
    },
    "tags": []
   },
   "source": [
    "### **Visualization**"
   ]
  },
  {
   "cell_type": "code",
   "execution_count": 13,
   "id": "8b211728",
   "metadata": {
    "execution": {
     "iopub.execute_input": "2022-01-13T15:38:59.520042Z",
     "iopub.status.busy": "2022-01-13T15:38:59.519410Z",
     "iopub.status.idle": "2022-01-13T15:39:00.091963Z",
     "shell.execute_reply": "2022-01-13T15:39:00.091343Z",
     "shell.execute_reply.started": "2022-01-13T15:29:25.154512Z"
    },
    "papermill": {
     "duration": 0.607292,
     "end_time": "2022-01-13T15:39:00.092107",
     "exception": false,
     "start_time": "2022-01-13T15:38:59.484815",
     "status": "completed"
    },
    "tags": []
   },
   "outputs": [
    {
     "data": {
      "text/plain": [
       "<seaborn.axisgrid.FacetGrid at 0x7fc6e2cbf5d0>"
      ]
     },
     "execution_count": 13,
     "metadata": {},
     "output_type": "execute_result"
    },
    {
     "data": {
      "image/png": "[encoded data removed]",
      "text/plain": [
       "<Figure size 432x216 with 2 Axes>"
      ]
     },
     "metadata": {
      "needs_background": "light"
     },
     "output_type": "display_data"
    }
   ],
   "source": [
    "d = sns.FacetGrid(data=df_train, col='Survived')\n",
    "d.map(plt.hist, 'Age', bins=30)"
   ]
  },
  {
   "cell_type": "code",
   "execution_count": 14,
   "id": "0d3d98bd",
   "metadata": {
    "execution": {
     "iopub.execute_input": "2022-01-13T15:39:00.165725Z",
     "iopub.status.busy": "2022-01-13T15:39:00.165042Z",
     "iopub.status.idle": "2022-01-13T15:39:01.175035Z",
     "shell.execute_reply": "2022-01-13T15:39:01.174510Z",
     "shell.execute_reply.started": "2022-01-13T15:29:25.621241Z"
    },
    "papermill": {
     "duration": 1.04983,
     "end_time": "2022-01-13T15:39:01.175181",
     "exception": false,
     "start_time": "2022-01-13T15:39:00.125351",
     "status": "completed"
    },
    "tags": []
   },
   "outputs": [
    {
     "data": {
      "text/plain": [
       "<seaborn.axisgrid.FacetGrid at 0x7fc6daa71f90>"
      ]
     },
     "execution_count": 14,
     "metadata": {},
     "output_type": "execute_result"
    },
    {
     "data": {
      "image/png": "[encoded data removed]",
      "text/plain": [
       "<Figure size 432x432 with 4 Axes>"
      ]
     },
     "metadata": {
      "needs_background": "light"
     },
     "output_type": "display_data"
    }
   ],
   "source": [
    "d2 = sns.FacetGrid(data=df_train, row='Sex', col='Survived')\n",
    "d2.map(plt.hist, 'Age', bins=30)"
   ]
  },
  {
   "cell_type": "code",
   "execution_count": 15,
   "id": "467b6610",
   "metadata": {
    "execution": {
     "iopub.execute_input": "2022-01-13T15:39:01.255642Z",
     "iopub.status.busy": "2022-01-13T15:39:01.254944Z",
     "iopub.status.idle": "2022-01-13T15:39:02.897370Z",
     "shell.execute_reply": "2022-01-13T15:39:02.896695Z",
     "shell.execute_reply.started": "2022-01-13T15:29:26.453959Z"
    },
    "papermill": {
     "duration": 1.685981,
     "end_time": "2022-01-13T15:39:02.897518",
     "exception": false,
     "start_time": "2022-01-13T15:39:01.211537",
     "status": "completed"
    },
    "tags": []
   },
   "outputs": [
    {
     "data": {
      "text/plain": [
       "<seaborn.axisgrid.FacetGrid at 0x7fc6da77cad0>"
      ]
     },
     "execution_count": 15,
     "metadata": {},
     "output_type": "execute_result"
    },
    {
     "data": {
      "image/png": "[encoded data removed]",
      "text/plain": [
       "<Figure size 432x648 with 6 Axes>"
      ]
     },
     "metadata": {
      "needs_background": "light"
     },
     "output_type": "display_data"
    }
   ],
   "source": [
    "d3 = sns.FacetGrid(data=df_train, row='Pclass', col='Survived')\n",
    "d3.map(plt.hist, 'Age', bins=30)"
   ]
  },
  {
   "cell_type": "code",
   "execution_count": 16,
   "id": "508b1761",
   "metadata": {
    "execution": {
     "iopub.execute_input": "2022-01-13T15:39:03.005396Z",
     "iopub.status.busy": "2022-01-13T15:39:02.990068Z",
     "iopub.status.idle": "2022-01-13T15:39:04.148836Z",
     "shell.execute_reply": "2022-01-13T15:39:04.149343Z",
     "shell.execute_reply.started": "2022-01-13T15:29:27.963733Z"
    },
    "papermill": {
     "duration": 1.21625,
     "end_time": "2022-01-13T15:39:04.149519",
     "exception": false,
     "start_time": "2022-01-13T15:39:02.933269",
     "status": "completed"
    },
    "tags": []
   },
   "outputs": [
    {
     "data": {
      "text/plain": [
       "<seaborn.axisgrid.FacetGrid at 0x7fc6da618050>"
      ]
     },
     "execution_count": 16,
     "metadata": {},
     "output_type": "execute_result"
    },
    {
     "data": {
      "image/png": "[encoded data removed]",
      "text/plain": [
       "<Figure size 216x648 with 3 Axes>"
      ]
     },
     "metadata": {
      "needs_background": "light"
     },
     "output_type": "display_data"
    }
   ],
   "source": [
    "d4 = sns.FacetGrid(data=df_train, row='Embarked')\n",
    "d4.map(sns.pointplot, 'Pclass','Survived','Sex', bins=30)"
   ]
  },
  {
   "cell_type": "code",
   "execution_count": 17,
   "id": "6a8df11a",
   "metadata": {
    "execution": {
     "iopub.execute_input": "2022-01-13T15:39:04.226811Z",
     "iopub.status.busy": "2022-01-13T15:39:04.226149Z",
     "iopub.status.idle": "2022-01-13T15:39:05.155078Z",
     "shell.execute_reply": "2022-01-13T15:39:05.155660Z",
     "shell.execute_reply.started": "2022-01-13T15:29:28.823728Z"
    },
    "papermill": {
     "duration": 0.969787,
     "end_time": "2022-01-13T15:39:05.155833",
     "exception": false,
     "start_time": "2022-01-13T15:39:04.186046",
     "status": "completed"
    },
    "tags": []
   },
   "outputs": [
    {
     "data": {
      "text/plain": [
       "<seaborn.axisgrid.FacetGrid at 0x7fc6da1a8d50>"
      ]
     },
     "execution_count": 17,
     "metadata": {},
     "output_type": "execute_result"
    },
    {
     "data": {
      "image/png": "[encoded data removed]",
      "text/plain": [
       "<Figure size 432x648 with 6 Axes>"
      ]
     },
     "metadata": {
      "needs_background": "light"
     },
     "output_type": "display_data"
    }
   ],
   "source": [
    "d5 = sns.FacetGrid(data=df_train, row='Embarked', col='Survived')\n",
    "d5.map(sns.barplot, 'Sex','Fare', palette='deep', ci=None)"
   ]
  },
  {
   "cell_type": "markdown",
   "id": "89413031",
   "metadata": {
    "papermill": {
     "duration": 0.038076,
     "end_time": "2022-01-13T15:39:05.231808",
     "exception": false,
     "start_time": "2022-01-13T15:39:05.193732",
     "status": "completed"
    },
    "tags": []
   },
   "source": [
    "**Interpretation:**\n",
    "1. Oldest passengers survived (Age=80).\n",
    "2. Most passengers are in 17-37 age range approximately.\n",
    "3. Pclass=2 and Pclass=3 passengers are mostly survived.\n",
    "4. Pclass=3 had most passengers but most of the passengers did not survive.\n",
    "5. Most passengers in Pclass=1 survived. \n",
    "6. Higher fare paying passengers had better survival."
   ]
  },
  {
   "cell_type": "code",
   "execution_count": 18,
   "id": "3eead883",
   "metadata": {
    "execution": {
     "iopub.execute_input": "2022-01-13T15:39:05.311285Z",
     "iopub.status.busy": "2022-01-13T15:39:05.310314Z",
     "iopub.status.idle": "2022-01-13T15:39:05.647512Z",
     "shell.execute_reply": "2022-01-13T15:39:05.646732Z",
     "shell.execute_reply.started": "2022-01-13T15:29:29.560411Z"
    },
    "papermill": {
     "duration": 0.378208,
     "end_time": "2022-01-13T15:39:05.647665",
     "exception": false,
     "start_time": "2022-01-13T15:39:05.269457",
     "status": "completed"
    },
    "tags": []
   },
   "outputs": [
    {
     "data": {
      "image/png": "[encoded data removed]",
      "text/plain": [
       "<Figure size 432x288 with 2 Axes>"
      ]
     },
     "metadata": {
      "needs_background": "light"
     },
     "output_type": "display_data"
    }
   ],
   "source": [
    "# Correlation matrix between numerical values (SibSp, Parch, Age and Fare values) and Survived \n",
    "d6 = sns.heatmap(df_train[[\"Survived\",\"SibSp\",\"Parch\",\"Age\",\"Fare\"]].corr(),annot=True, fmt = \".2f\")"
   ]
  },
  {
   "cell_type": "code",
   "execution_count": 19,
   "id": "f2368ea0",
   "metadata": {
    "execution": {
     "iopub.execute_input": "2022-01-13T15:39:05.732701Z",
     "iopub.status.busy": "2022-01-13T15:39:05.731870Z",
     "iopub.status.idle": "2022-01-13T15:39:06.257436Z",
     "shell.execute_reply": "2022-01-13T15:39:06.256716Z",
     "shell.execute_reply.started": "2022-01-13T15:29:29.833953Z"
    },
    "papermill": {
     "duration": 0.57102,
     "end_time": "2022-01-13T15:39:06.257578",
     "exception": false,
     "start_time": "2022-01-13T15:39:05.686558",
     "status": "completed"
    },
    "tags": []
   },
   "outputs": [
    {
     "data": {
      "image/png": "[encoded data removed]",
      "text/plain": [
       "<Figure size 432x432 with 1 Axes>"
      ]
     },
     "metadata": {
      "needs_background": "light"
     },
     "output_type": "display_data"
    }
   ],
   "source": [
    "d7 = sns.factorplot(x=\"SibSp\", y=\"Survived\", data=df_train, kind=\"bar\", size = 6)\n",
    "d7.despine(left=True)\n",
    "d7 = d7.set_ylabels(\"survival probability\")"
   ]
  },
  {
   "cell_type": "markdown",
   "id": "3a6f3bd6",
   "metadata": {
    "papermill": {
     "duration": 0.039578,
     "end_time": "2022-01-13T15:39:06.336787",
     "exception": false,
     "start_time": "2022-01-13T15:39:06.297209",
     "status": "completed"
    },
    "tags": []
   },
   "source": [
    "**Interpretation:**\n",
    "It seems that passengers having a lot of siblings/spouses have less chance to survive"
   ]
  },
  {
   "cell_type": "code",
   "execution_count": 20,
   "id": "c0f009cb",
   "metadata": {
    "execution": {
     "iopub.execute_input": "2022-01-13T15:39:06.434031Z",
     "iopub.status.busy": "2022-01-13T15:39:06.420407Z",
     "iopub.status.idle": "2022-01-13T15:39:06.586079Z",
     "shell.execute_reply": "2022-01-13T15:39:06.585462Z",
     "shell.execute_reply.started": "2022-01-13T15:29:30.339944Z"
    },
    "papermill": {
     "duration": 0.210168,
     "end_time": "2022-01-13T15:39:06.586227",
     "exception": false,
     "start_time": "2022-01-13T15:39:06.376059",
     "status": "completed"
    },
    "tags": []
   },
   "outputs": [
    {
     "data": {
      "text/plain": [
       "<AxesSubplot:xlabel='Fare'>"
      ]
     },
     "execution_count": 20,
     "metadata": {},
     "output_type": "execute_result"
    },
    {
     "data": {
      "image/png": "[encoded data removed]",
      "text/plain": [
       "<Figure size 432x288 with 1 Axes>"
      ]
     },
     "metadata": {
      "needs_background": "light"
     },
     "output_type": "display_data"
    }
   ],
   "source": [
    "#box plot for fare col\n",
    "sns.boxplot('Fare', data=dataset)"
   ]
  },
  {
   "cell_type": "code",
   "execution_count": 21,
   "id": "d24bb7ed",
   "metadata": {
    "execution": {
     "iopub.execute_input": "2022-01-13T15:39:06.673516Z",
     "iopub.status.busy": "2022-01-13T15:39:06.672809Z",
     "iopub.status.idle": "2022-01-13T15:39:06.676171Z",
     "shell.execute_reply": "2022-01-13T15:39:06.675664Z",
     "shell.execute_reply.started": "2022-01-13T15:29:30.456797Z"
    },
    "papermill": {
     "duration": 0.049083,
     "end_time": "2022-01-13T15:39:06.676359",
     "exception": false,
     "start_time": "2022-01-13T15:39:06.627276",
     "status": "completed"
    },
    "tags": []
   },
   "outputs": [],
   "source": [
    "#we can consider the median value for imputing the missing Fare \n",
    "dataset[\"Fare\"] = dataset[\"Fare\"].fillna(dataset[\"Fare\"].median())"
   ]
  },
  {
   "cell_type": "code",
   "execution_count": 22,
   "id": "2e3edf7a",
   "metadata": {
    "execution": {
     "iopub.execute_input": "2022-01-13T15:39:06.774609Z",
     "iopub.status.busy": "2022-01-13T15:39:06.773861Z",
     "iopub.status.idle": "2022-01-13T15:39:07.165305Z",
     "shell.execute_reply": "2022-01-13T15:39:07.165778Z",
     "shell.execute_reply.started": "2022-01-13T15:29:30.462947Z"
    },
    "papermill": {
     "duration": 0.447518,
     "end_time": "2022-01-13T15:39:07.165949",
     "exception": false,
     "start_time": "2022-01-13T15:39:06.718431",
     "status": "completed"
    },
    "tags": []
   },
   "outputs": [
    {
     "data": {
      "image/png": "[encoded data removed]",
      "text/plain": [
       "<Figure size 432x288 with 1 Axes>"
      ]
     },
     "metadata": {
      "needs_background": "light"
     },
     "output_type": "display_data"
    }
   ],
   "source": [
    "# Explore Fare distribution \n",
    "d8 = sns.distplot(dataset[\"Fare\"], color=\"b\", label=\"Skewness : %.2f\"%(dataset[\"Fare\"].skew()))\n",
    "d8 = d8.legend(loc=\"best\")"
   ]
  },
  {
   "cell_type": "markdown",
   "id": "5b029bce",
   "metadata": {
    "papermill": {
     "duration": 0.04173,
     "end_time": "2022-01-13T15:39:07.248731",
     "exception": false,
     "start_time": "2022-01-13T15:39:07.207001",
     "status": "completed"
    },
    "tags": []
   },
   "source": [
    "**Interpretation:**\n",
    "Fare distribution is very skewed. This can lead to overweigth very high values in the model. In this case, it is better to transform it with the log function to reduce this skew."
   ]
  },
  {
   "cell_type": "code",
   "execution_count": 23,
   "id": "3f7acf5e",
   "metadata": {
    "execution": {
     "iopub.execute_input": "2022-01-13T15:39:07.335862Z",
     "iopub.status.busy": "2022-01-13T15:39:07.334244Z",
     "iopub.status.idle": "2022-01-13T15:39:07.341331Z",
     "shell.execute_reply": "2022-01-13T15:39:07.341874Z",
     "shell.execute_reply.started": "2022-01-13T15:29:30.792480Z"
    },
    "papermill": {
     "duration": 0.051969,
     "end_time": "2022-01-13T15:39:07.342035",
     "exception": false,
     "start_time": "2022-01-13T15:39:07.290066",
     "status": "completed"
    },
    "tags": []
   },
   "outputs": [],
   "source": [
    "# Apply log to Fare to reduce skewness distribution\n",
    "dataset[\"Fare\"] = dataset[\"Fare\"].map(lambda i: np.log(i) if i > 0 else 0)"
   ]
  },
  {
   "cell_type": "code",
   "execution_count": 24,
   "id": "e3a9c0f7",
   "metadata": {
    "execution": {
     "iopub.execute_input": "2022-01-13T15:39:07.429699Z",
     "iopub.status.busy": "2022-01-13T15:39:07.429017Z",
     "iopub.status.idle": "2022-01-13T15:39:07.742236Z",
     "shell.execute_reply": "2022-01-13T15:39:07.742743Z",
     "shell.execute_reply.started": "2022-01-13T15:29:30.801447Z"
    },
    "papermill": {
     "duration": 0.359119,
     "end_time": "2022-01-13T15:39:07.742920",
     "exception": false,
     "start_time": "2022-01-13T15:39:07.383801",
     "status": "completed"
    },
    "tags": []
   },
   "outputs": [
    {
     "data": {
      "image/png": "[encoded data removed]",
      "text/plain": [
       "<Figure size 432x288 with 1 Axes>"
      ]
     },
     "metadata": {
      "needs_background": "light"
     },
     "output_type": "display_data"
    }
   ],
   "source": [
    "d9 = sns.distplot(dataset[\"Fare\"], color=\"b\", label=\"Skewness : %.2f\"%(dataset[\"Fare\"].skew()))\n",
    "d9 = d9.legend(loc=\"best\")"
   ]
  },
  {
   "cell_type": "code",
   "execution_count": 25,
   "id": "5e6c8792",
   "metadata": {
    "execution": {
     "iopub.execute_input": "2022-01-13T15:39:07.851913Z",
     "iopub.status.busy": "2022-01-13T15:39:07.850941Z",
     "iopub.status.idle": "2022-01-13T15:39:07.858184Z",
     "shell.execute_reply": "2022-01-13T15:39:07.857567Z",
     "shell.execute_reply.started": "2022-01-13T15:29:31.116411Z"
    },
    "papermill": {
     "duration": 0.06394,
     "end_time": "2022-01-13T15:39:07.858382",
     "exception": false,
     "start_time": "2022-01-13T15:39:07.794442",
     "status": "completed"
    },
    "tags": []
   },
   "outputs": [
    {
     "data": {
      "text/plain": [
       "S    914\n",
       "C    270\n",
       "Q    123\n",
       "Name: Embarked, dtype: int64"
      ]
     },
     "execution_count": 25,
     "metadata": {},
     "output_type": "execute_result"
    }
   ],
   "source": [
    "dataset.Embarked.value_counts()"
   ]
  },
  {
   "cell_type": "code",
   "execution_count": 26,
   "id": "157d3fed",
   "metadata": {
    "execution": {
     "iopub.execute_input": "2022-01-13T15:39:07.952642Z",
     "iopub.status.busy": "2022-01-13T15:39:07.951660Z",
     "iopub.status.idle": "2022-01-13T15:39:07.959627Z",
     "shell.execute_reply": "2022-01-13T15:39:07.960237Z",
     "shell.execute_reply.started": "2022-01-13T15:29:31.124901Z"
    },
    "papermill": {
     "duration": 0.054494,
     "end_time": "2022-01-13T15:39:07.960418",
     "exception": false,
     "start_time": "2022-01-13T15:39:07.905924",
     "status": "completed"
    },
    "tags": []
   },
   "outputs": [
    {
     "data": {
      "text/plain": [
       "0"
      ]
     },
     "execution_count": 26,
     "metadata": {},
     "output_type": "execute_result"
    }
   ],
   "source": [
    "dataset[\"Embarked\"] = dataset[\"Embarked\"].fillna(\"S\")\n",
    "dataset.Embarked.isnull().sum()"
   ]
  },
  {
   "cell_type": "code",
   "execution_count": 27,
   "id": "9fb23d08",
   "metadata": {
    "execution": {
     "iopub.execute_input": "2022-01-13T15:39:08.055305Z",
     "iopub.status.busy": "2022-01-13T15:39:08.053543Z",
     "iopub.status.idle": "2022-01-13T15:39:09.726857Z",
     "shell.execute_reply": "2022-01-13T15:39:09.726164Z",
     "shell.execute_reply.started": "2022-01-13T15:29:31.145432Z"
    },
    "papermill": {
     "duration": 1.724136,
     "end_time": "2022-01-13T15:39:09.726995",
     "exception": false,
     "start_time": "2022-01-13T15:39:08.002859",
     "status": "completed"
    },
    "tags": []
   },
   "outputs": [
    {
     "data": {
      "image/png": "[encoded data removed]",
      "text/plain": [
       "<Figure size 360x360 with 1 Axes>"
      ]
     },
     "metadata": {
      "needs_background": "light"
     },
     "output_type": "display_data"
    },
    {
     "data": {
      "image/png": "[encoded data removed]",
      "text/plain": [
       "<Figure size 402.375x360 with 1 Axes>"
      ]
     },
     "metadata": {
      "needs_background": "light"
     },
     "output_type": "display_data"
    },
    {
     "data": {
      "image/png": "[encoded data removed]",
      "text/plain": [
       "<Figure size 360x360 with 1 Axes>"
      ]
     },
     "metadata": {
      "needs_background": "light"
     },
     "output_type": "display_data"
    },
    {
     "data": {
      "image/png": "[encoded data removed]",
      "text/plain": [
       "<Figure size 360x360 with 1 Axes>"
      ]
     },
     "metadata": {
      "needs_background": "light"
     },
     "output_type": "display_data"
    }
   ],
   "source": [
    "# Explore Age vs Sex, Parch , Pclass and SibSP\n",
    "d10 = sns.factorplot(y=\"Age\",x=\"Sex\",data=dataset,kind=\"box\")\n",
    "d11 = sns.factorplot(y=\"Age\",x=\"Sex\", hue=\"Pclass\", data=dataset, kind=\"box\")\n",
    "d12 = sns.factorplot(y=\"Age\",x=\"Parch\", data=dataset,kind=\"box\")\n",
    "d13 = sns.factorplot(y=\"Age\",x=\"SibSp\", data=dataset,kind=\"box\")"
   ]
  },
  {
   "cell_type": "markdown",
   "id": "ec7edee6",
   "metadata": {
    "papermill": {
     "duration": 0.045333,
     "end_time": "2022-01-13T15:39:09.818404",
     "exception": false,
     "start_time": "2022-01-13T15:39:09.773071",
     "status": "completed"
    },
    "tags": []
   },
   "source": [
    "**Interpretation:**\n",
    "1. Age distribution seems to be the same in Male and Female subpopulations, so Sex is not informative to predict Age. However, 1st class passengers are older than 2nd class passengers who are also older than 3rd class passengers.\n",
    "\n",
    "2. More a passenger has Parch(parents/children) the older he is and the more a passenger has SibSp(siblings/spouses) the younger he is."
   ]
  },
  {
   "cell_type": "code",
   "execution_count": 28,
   "id": "4314ecca",
   "metadata": {
    "execution": {
     "iopub.execute_input": "2022-01-13T15:39:09.912828Z",
     "iopub.status.busy": "2022-01-13T15:39:09.912119Z",
     "iopub.status.idle": "2022-01-13T15:39:10.249715Z",
     "shell.execute_reply": "2022-01-13T15:39:10.250197Z",
     "shell.execute_reply.started": "2022-01-13T15:29:32.673535Z"
    },
    "papermill": {
     "duration": 0.386056,
     "end_time": "2022-01-13T15:39:10.250393",
     "exception": false,
     "start_time": "2022-01-13T15:39:09.864337",
     "status": "completed"
    },
    "tags": []
   },
   "outputs": [
    {
     "data": {
      "image/png": "[encoded data removed]",
      "text/plain": [
       "<Figure size 432x288 with 2 Axes>"
      ]
     },
     "metadata": {
      "needs_background": "light"
     },
     "output_type": "display_data"
    }
   ],
   "source": [
    "# convert Sex into categorical value 0 for male and 1 for female\n",
    "dataset[\"Sex\"] = dataset[\"Sex\"].map({\"male\": 0, \"female\":1})\n",
    "\n",
    "d14 = sns.heatmap(dataset[[\"Age\",\"Sex\",\"SibSp\",\"Parch\",\"Pclass\"]].corr(), annot=True)"
   ]
  },
  {
   "cell_type": "markdown",
   "id": "c8094b68",
   "metadata": {
    "papermill": {
     "duration": 0.046072,
     "end_time": "2022-01-13T15:39:10.343392",
     "exception": false,
     "start_time": "2022-01-13T15:39:10.297320",
     "status": "completed"
    },
    "tags": []
   },
   "source": [
    "**Interpretation:**\n",
    "1. Age is not correlated with Sex, but is negatively correlated with Pclass, Parch and SibSp.\n",
    "2. In the plot of Age in function of Parch and 'Age' is growing with the number of Parch(parents/children). But generily      it is negativly correlated. So, we can use SibSP, Parch and Pclass in order to impute the missing ages."
   ]
  },
  {
   "cell_type": "code",
   "execution_count": 29,
   "id": "5a510e14",
   "metadata": {
    "execution": {
     "iopub.execute_input": "2022-01-13T15:39:10.440266Z",
     "iopub.status.busy": "2022-01-13T15:39:10.439283Z",
     "iopub.status.idle": "2022-01-13T15:39:11.436693Z",
     "shell.execute_reply": "2022-01-13T15:39:11.437187Z",
     "shell.execute_reply.started": "2022-01-13T15:29:32.967773Z"
    },
    "papermill": {
     "duration": 1.047309,
     "end_time": "2022-01-13T15:39:11.437465",
     "exception": false,
     "start_time": "2022-01-13T15:39:10.390156",
     "status": "completed"
    },
    "tags": []
   },
   "outputs": [
    {
     "data": {
      "image/png": "[encoded data removed]",
      "text/plain": [
       "<Figure size 360x360 with 1 Axes>"
      ]
     },
     "metadata": {
      "needs_background": "light"
     },
     "output_type": "display_data"
    },
    {
     "data": {
      "image/png": "[encoded data removed]",
      "text/plain": [
       "<Figure size 360x360 with 1 Axes>"
      ]
     },
     "metadata": {
      "needs_background": "light"
     },
     "output_type": "display_data"
    }
   ],
   "source": [
    "# Fill Age with the median age of similar rows according to Pclass, Parch and SibSp. Index of NaN age rows\n",
    "index_nan_age = list(dataset[\"Age\"][dataset[\"Age\"].isnull()].index)\n",
    "\n",
    "for i in index_nan_age :\n",
    "    age_median = dataset[\"Age\"].median()\n",
    "    age_pred = dataset[\"Age\"][((dataset['SibSp'] == dataset.iloc[i][\"SibSp\"]) & (dataset['Parch'] == dataset.iloc[i][\"Parch\"]) & (dataset['Pclass'] == dataset.iloc[i][\"Pclass\"]))].median()\n",
    "    if not np.isnan(age_pred) :\n",
    "        dataset['Age'].iloc[i] = age_pred\n",
    "    else :\n",
    "        dataset['Age'].iloc[i] = age_median\n",
    "        \n",
    "        \n",
    "d15 = sns.factorplot(x=\"Survived\", y = \"Age\", data = df_train, kind=\"box\")\n",
    "d16 = sns.factorplot(x=\"Survived\", y = \"Age\", data = df_train, kind=\"violin\")"
   ]
  },
  {
   "cell_type": "code",
   "execution_count": null,
   "id": "d690b6ed",
   "metadata": {
    "papermill": {
     "duration": 0.048421,
     "end_time": "2022-01-13T15:39:11.534757",
     "exception": false,
     "start_time": "2022-01-13T15:39:11.486336",
     "status": "completed"
    },
    "tags": []
   },
   "outputs": [],
   "source": []
  }
 ],
 "metadata": {
  "kernelspec": {
   "display_name": "Python 3",
   "language": "python",
   "name": "python3"
  },
  "language_info": {
   "codemirror_mode": {
    "name": "ipython",
    "version": 3
   },
   "file_extension": ".py",
   "mimetype": "text/x-python",
   "name": "python",
   "nbconvert_exporter": "python",
   "pygments_lexer": "ipython3",
   "version": "3.7.12"
  },
  "papermill": {
   "default_parameters": {},
   "duration": 24.831568,
   "end_time": "2022-01-13T15:39:12.393272",
   "environment_variables": {},
   "exception": null,
   "input_path": "__notebook__.ipynb",
   "output_path": "__notebook__.ipynb",
   "parameters": {},
   "start_time": "2022-01-13T15:38:47.561704",
   "version": "2.3.3"
  }
 },
 "nbformat": 4,
 "nbformat_minor": 5
}
