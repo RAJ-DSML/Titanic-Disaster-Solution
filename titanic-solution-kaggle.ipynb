{
 "cells": [
  {
   "cell_type": "code",
   "execution_count": 1,
   "id": "6766ba0e",
   "metadata": {
    "_cell_guid": "b1076dfc-b9ad-4769-8c92-a6c4dae69d19",
    "_uuid": "8f2839f25d086af736a60e9eeb907d3b93b6e0e5",
    "execution": {
     "iopub.execute_input": "2022-01-14T14:34:37.412011Z",
     "iopub.status.busy": "2022-01-14T14:34:37.410911Z",
     "iopub.status.idle": "2022-01-14T14:34:37.428409Z",
     "shell.execute_reply": "2022-01-14T14:34:37.429141Z",
     "shell.execute_reply.started": "2022-01-14T14:27:31.986545Z"
    },
    "papermill": {
     "duration": 0.054385,
     "end_time": "2022-01-14T14:34:37.429531",
     "exception": false,
     "start_time": "2022-01-14T14:34:37.375146",
     "status": "completed"
    },
    "tags": []
   },
   "outputs": [
    {
     "name": "stdout",
     "output_type": "stream",
     "text": [
      "/kaggle/input/titanic/train.csv\n",
      "/kaggle/input/titanic/test.csv\n",
      "/kaggle/input/titanic/gender_submission.csv\n"
     ]
    }
   ],
   "source": [
    "# This Python 3 environment comes with many helpful analytics libraries installed\n",
    "# It is defined by the kaggle/python Docker image: https://github.com/kaggle/docker-python\n",
    "# For example, here's several helpful packages to load\n",
    "\n",
    "import numpy as np # linear algebra\n",
    "import pandas as pd # data processing, CSV file I/O (e.g. pd.read_csv)\n",
    "\n",
    "# Input data files are available in the read-only \"../input/\" directory\n",
    "# For example, running this (by clicking run or pressing Shift+Enter) will list all files under the input directory\n",
    "\n",
    "import os\n",
    "for dirname, _, filenames in os.walk('/kaggle/input'):\n",
    "    for filename in filenames:\n",
    "        print(os.path.join(dirname, filename))\n",
    "\n",
    "# You can write up to 20GB to the current directory (/kaggle/working/) that gets preserved as output when you create a version using \"Save & Run All\" \n",
    "# You can also write temporary files to /kaggle/temp/, but they won't be saved outside of the current session"
   ]
  },
  {
   "cell_type": "code",
   "execution_count": 2,
   "id": "5f0e2bba",
   "metadata": {
    "execution": {
     "iopub.execute_input": "2022-01-14T14:34:37.497390Z",
     "iopub.status.busy": "2022-01-14T14:34:37.496819Z",
     "iopub.status.idle": "2022-01-14T14:34:38.469604Z",
     "shell.execute_reply": "2022-01-14T14:34:38.469092Z",
     "shell.execute_reply.started": "2022-01-14T14:27:32.021412Z"
    },
    "papermill": {
     "duration": 1.008199,
     "end_time": "2022-01-14T14:34:38.469750",
     "exception": false,
     "start_time": "2022-01-14T14:34:37.461551",
     "status": "completed"
    },
    "tags": []
   },
   "outputs": [],
   "source": [
    "import seaborn as sns\n",
    "import matplotlib.pyplot as plt\n",
    "import warnings\n",
    "warnings.filterwarnings('ignore')"
   ]
  },
  {
   "cell_type": "code",
   "execution_count": 3,
   "id": "e017f11c",
   "metadata": {
    "execution": {
     "iopub.execute_input": "2022-01-14T14:34:38.536996Z",
     "iopub.status.busy": "2022-01-14T14:34:38.536377Z",
     "iopub.status.idle": "2022-01-14T14:34:38.567563Z",
     "shell.execute_reply": "2022-01-14T14:34:38.568037Z",
     "shell.execute_reply.started": "2022-01-14T14:27:33.030730Z"
    },
    "papermill": {
     "duration": 0.067064,
     "end_time": "2022-01-14T14:34:38.568206",
     "exception": false,
     "start_time": "2022-01-14T14:34:38.501142",
     "status": "completed"
    },
    "tags": []
   },
   "outputs": [
    {
     "data": {
      "text/html": [
       "<div>\n",
       "<style scoped>\n",
       "    .dataframe tbody tr th:only-of-type {\n",
       "        vertical-align: middle;\n",
       "    }\n",
       "\n",
       "    .dataframe tbody tr th {\n",
       "        vertical-align: top;\n",
       "    }\n",
       "\n",
       "    .dataframe thead th {\n",
       "        text-align: right;\n",
       "    }\n",
       "</style>\n",
       "<table border=\"1\" class=\"dataframe\">\n",
       "  <thead>\n",
       "    <tr style=\"text-align: right;\">\n",
       "      <th></th>\n",
       "      <th>PassengerId</th>\n",
       "      <th>Survived</th>\n",
       "      <th>Pclass</th>\n",
       "      <th>Name</th>\n",
       "      <th>Sex</th>\n",
       "      <th>Age</th>\n",
       "      <th>SibSp</th>\n",
       "      <th>Parch</th>\n",
       "      <th>Ticket</th>\n",
       "      <th>Fare</th>\n",
       "      <th>Cabin</th>\n",
       "      <th>Embarked</th>\n",
       "    </tr>\n",
       "  </thead>\n",
       "  <tbody>\n",
       "    <tr>\n",
       "      <th>0</th>\n",
       "      <td>1</td>\n",
       "      <td>0</td>\n",
       "      <td>3</td>\n",
       "      <td>Braund, Mr. Owen Harris</td>\n",
       "      <td>male</td>\n",
       "      <td>22.0</td>\n",
       "      <td>1</td>\n",
       "      <td>0</td>\n",
       "      <td>A/5 21171</td>\n",
       "      <td>7.2500</td>\n",
       "      <td>NaN</td>\n",
       "      <td>S</td>\n",
       "    </tr>\n",
       "    <tr>\n",
       "      <th>1</th>\n",
       "      <td>2</td>\n",
       "      <td>1</td>\n",
       "      <td>1</td>\n",
       "      <td>Cumings, Mrs. John Bradley (Florence Briggs Th...</td>\n",
       "      <td>female</td>\n",
       "      <td>38.0</td>\n",
       "      <td>1</td>\n",
       "      <td>0</td>\n",
       "      <td>PC 17599</td>\n",
       "      <td>71.2833</td>\n",
       "      <td>C85</td>\n",
       "      <td>C</td>\n",
       "    </tr>\n",
       "    <tr>\n",
       "      <th>2</th>\n",
       "      <td>3</td>\n",
       "      <td>1</td>\n",
       "      <td>3</td>\n",
       "      <td>Heikkinen, Miss. Laina</td>\n",
       "      <td>female</td>\n",
       "      <td>26.0</td>\n",
       "      <td>0</td>\n",
       "      <td>0</td>\n",
       "      <td>STON/O2. 3101282</td>\n",
       "      <td>7.9250</td>\n",
       "      <td>NaN</td>\n",
       "      <td>S</td>\n",
       "    </tr>\n",
       "    <tr>\n",
       "      <th>3</th>\n",
       "      <td>4</td>\n",
       "      <td>1</td>\n",
       "      <td>1</td>\n",
       "      <td>Futrelle, Mrs. Jacques Heath (Lily May Peel)</td>\n",
       "      <td>female</td>\n",
       "      <td>35.0</td>\n",
       "      <td>1</td>\n",
       "      <td>0</td>\n",
       "      <td>113803</td>\n",
       "      <td>53.1000</td>\n",
       "      <td>C123</td>\n",
       "      <td>S</td>\n",
       "    </tr>\n",
       "    <tr>\n",
       "      <th>4</th>\n",
       "      <td>5</td>\n",
       "      <td>0</td>\n",
       "      <td>3</td>\n",
       "      <td>Allen, Mr. William Henry</td>\n",
       "      <td>male</td>\n",
       "      <td>35.0</td>\n",
       "      <td>0</td>\n",
       "      <td>0</td>\n",
       "      <td>373450</td>\n",
       "      <td>8.0500</td>\n",
       "      <td>NaN</td>\n",
       "      <td>S</td>\n",
       "    </tr>\n",
       "  </tbody>\n",
       "</table>\n",
       "</div>"
      ],
      "text/plain": [
       "   PassengerId  Survived  Pclass  \\\n",
       "0            1         0       3   \n",
       "1            2         1       1   \n",
       "2            3         1       3   \n",
       "3            4         1       1   \n",
       "4            5         0       3   \n",
       "\n",
       "                                                Name     Sex   Age  SibSp  \\\n",
       "0                            Braund, Mr. Owen Harris    male  22.0      1   \n",
       "1  Cumings, Mrs. John Bradley (Florence Briggs Th...  female  38.0      1   \n",
       "2                             Heikkinen, Miss. Laina  female  26.0      0   \n",
       "3       Futrelle, Mrs. Jacques Heath (Lily May Peel)  female  35.0      1   \n",
       "4                           Allen, Mr. William Henry    male  35.0      0   \n",
       "\n",
       "   Parch            Ticket     Fare Cabin Embarked  \n",
       "0      0         A/5 21171   7.2500   NaN        S  \n",
       "1      0          PC 17599  71.2833   C85        C  \n",
       "2      0  STON/O2. 3101282   7.9250   NaN        S  \n",
       "3      0            113803  53.1000  C123        S  \n",
       "4      0            373450   8.0500   NaN        S  "
      ]
     },
     "execution_count": 3,
     "metadata": {},
     "output_type": "execute_result"
    }
   ],
   "source": [
    "#training data\n",
    "df_train = pd.read_csv(\"/kaggle/input/titanic/train.csv\")\n",
    "df_train.head()"
   ]
  },
  {
   "cell_type": "code",
   "execution_count": 4,
   "id": "9173489a",
   "metadata": {
    "execution": {
     "iopub.execute_input": "2022-01-14T14:34:38.635269Z",
     "iopub.status.busy": "2022-01-14T14:34:38.634573Z",
     "iopub.status.idle": "2022-01-14T14:34:38.654443Z",
     "shell.execute_reply": "2022-01-14T14:34:38.653897Z",
     "shell.execute_reply.started": "2022-01-14T14:27:33.075354Z"
    },
    "papermill": {
     "duration": 0.054721,
     "end_time": "2022-01-14T14:34:38.654584",
     "exception": false,
     "start_time": "2022-01-14T14:34:38.599863",
     "status": "completed"
    },
    "tags": []
   },
   "outputs": [
    {
     "data": {
      "text/html": [
       "<div>\n",
       "<style scoped>\n",
       "    .dataframe tbody tr th:only-of-type {\n",
       "        vertical-align: middle;\n",
       "    }\n",
       "\n",
       "    .dataframe tbody tr th {\n",
       "        vertical-align: top;\n",
       "    }\n",
       "\n",
       "    .dataframe thead th {\n",
       "        text-align: right;\n",
       "    }\n",
       "</style>\n",
       "<table border=\"1\" class=\"dataframe\">\n",
       "  <thead>\n",
       "    <tr style=\"text-align: right;\">\n",
       "      <th></th>\n",
       "      <th>PassengerId</th>\n",
       "      <th>Pclass</th>\n",
       "      <th>Name</th>\n",
       "      <th>Sex</th>\n",
       "      <th>Age</th>\n",
       "      <th>SibSp</th>\n",
       "      <th>Parch</th>\n",
       "      <th>Ticket</th>\n",
       "      <th>Fare</th>\n",
       "      <th>Cabin</th>\n",
       "      <th>Embarked</th>\n",
       "    </tr>\n",
       "  </thead>\n",
       "  <tbody>\n",
       "    <tr>\n",
       "      <th>0</th>\n",
       "      <td>892</td>\n",
       "      <td>3</td>\n",
       "      <td>Kelly, Mr. James</td>\n",
       "      <td>male</td>\n",
       "      <td>34.5</td>\n",
       "      <td>0</td>\n",
       "      <td>0</td>\n",
       "      <td>330911</td>\n",
       "      <td>7.8292</td>\n",
       "      <td>NaN</td>\n",
       "      <td>Q</td>\n",
       "    </tr>\n",
       "    <tr>\n",
       "      <th>1</th>\n",
       "      <td>893</td>\n",
       "      <td>3</td>\n",
       "      <td>Wilkes, Mrs. James (Ellen Needs)</td>\n",
       "      <td>female</td>\n",
       "      <td>47.0</td>\n",
       "      <td>1</td>\n",
       "      <td>0</td>\n",
       "      <td>363272</td>\n",
       "      <td>7.0000</td>\n",
       "      <td>NaN</td>\n",
       "      <td>S</td>\n",
       "    </tr>\n",
       "    <tr>\n",
       "      <th>2</th>\n",
       "      <td>894</td>\n",
       "      <td>2</td>\n",
       "      <td>Myles, Mr. Thomas Francis</td>\n",
       "      <td>male</td>\n",
       "      <td>62.0</td>\n",
       "      <td>0</td>\n",
       "      <td>0</td>\n",
       "      <td>240276</td>\n",
       "      <td>9.6875</td>\n",
       "      <td>NaN</td>\n",
       "      <td>Q</td>\n",
       "    </tr>\n",
       "    <tr>\n",
       "      <th>3</th>\n",
       "      <td>895</td>\n",
       "      <td>3</td>\n",
       "      <td>Wirz, Mr. Albert</td>\n",
       "      <td>male</td>\n",
       "      <td>27.0</td>\n",
       "      <td>0</td>\n",
       "      <td>0</td>\n",
       "      <td>315154</td>\n",
       "      <td>8.6625</td>\n",
       "      <td>NaN</td>\n",
       "      <td>S</td>\n",
       "    </tr>\n",
       "    <tr>\n",
       "      <th>4</th>\n",
       "      <td>896</td>\n",
       "      <td>3</td>\n",
       "      <td>Hirvonen, Mrs. Alexander (Helga E Lindqvist)</td>\n",
       "      <td>female</td>\n",
       "      <td>22.0</td>\n",
       "      <td>1</td>\n",
       "      <td>1</td>\n",
       "      <td>3101298</td>\n",
       "      <td>12.2875</td>\n",
       "      <td>NaN</td>\n",
       "      <td>S</td>\n",
       "    </tr>\n",
       "  </tbody>\n",
       "</table>\n",
       "</div>"
      ],
      "text/plain": [
       "   PassengerId  Pclass                                          Name     Sex  \\\n",
       "0          892       3                              Kelly, Mr. James    male   \n",
       "1          893       3              Wilkes, Mrs. James (Ellen Needs)  female   \n",
       "2          894       2                     Myles, Mr. Thomas Francis    male   \n",
       "3          895       3                              Wirz, Mr. Albert    male   \n",
       "4          896       3  Hirvonen, Mrs. Alexander (Helga E Lindqvist)  female   \n",
       "\n",
       "    Age  SibSp  Parch   Ticket     Fare Cabin Embarked  \n",
       "0  34.5      0      0   330911   7.8292   NaN        Q  \n",
       "1  47.0      1      0   363272   7.0000   NaN        S  \n",
       "2  62.0      0      0   240276   9.6875   NaN        Q  \n",
       "3  27.0      0      0   315154   8.6625   NaN        S  \n",
       "4  22.0      1      1  3101298  12.2875   NaN        S  "
      ]
     },
     "execution_count": 4,
     "metadata": {},
     "output_type": "execute_result"
    }
   ],
   "source": [
    "#testing data\n",
    "df_test = pd.read_csv(\"/kaggle/input/titanic/test.csv\")\n",
    "df_test.head()"
   ]
  },
  {
   "cell_type": "code",
   "execution_count": 5,
   "id": "371f2196",
   "metadata": {
    "execution": {
     "iopub.execute_input": "2022-01-14T14:34:38.742228Z",
     "iopub.status.busy": "2022-01-14T14:34:38.737546Z",
     "iopub.status.idle": "2022-01-14T14:34:38.743877Z",
     "shell.execute_reply": "2022-01-14T14:34:38.744673Z",
     "shell.execute_reply.started": "2022-01-14T14:27:33.105122Z"
    },
    "papermill": {
     "duration": 0.055282,
     "end_time": "2022-01-14T14:34:38.744885",
     "exception": false,
     "start_time": "2022-01-14T14:34:38.689603",
     "status": "completed"
    },
    "tags": []
   },
   "outputs": [],
   "source": [
    "PassengerId_test = df_test[\"PassengerId\"]"
   ]
  },
  {
   "cell_type": "code",
   "execution_count": 6,
   "id": "e0230147",
   "metadata": {
    "execution": {
     "iopub.execute_input": "2022-01-14T14:34:38.823506Z",
     "iopub.status.busy": "2022-01-14T14:34:38.822939Z",
     "iopub.status.idle": "2022-01-14T14:34:38.834349Z",
     "shell.execute_reply": "2022-01-14T14:34:38.834854Z",
     "shell.execute_reply.started": "2022-01-14T14:27:33.115081Z"
    },
    "papermill": {
     "duration": 0.046677,
     "end_time": "2022-01-14T14:34:38.835027",
     "exception": false,
     "start_time": "2022-01-14T14:34:38.788350",
     "status": "completed"
    },
    "tags": []
   },
   "outputs": [],
   "source": [
    "dataset =  pd.concat(objs=[df_train, df_test], axis=0).reset_index(drop=True)"
   ]
  },
  {
   "cell_type": "code",
   "execution_count": 7,
   "id": "c0c4d160",
   "metadata": {
    "execution": {
     "iopub.execute_input": "2022-01-14T14:34:38.901615Z",
     "iopub.status.busy": "2022-01-14T14:34:38.901072Z",
     "iopub.status.idle": "2022-01-14T14:34:38.907742Z",
     "shell.execute_reply": "2022-01-14T14:34:38.908272Z",
     "shell.execute_reply.started": "2022-01-14T14:27:33.137742Z"
    },
    "papermill": {
     "duration": 0.041531,
     "end_time": "2022-01-14T14:34:38.908425",
     "exception": false,
     "start_time": "2022-01-14T14:34:38.866894",
     "status": "completed"
    },
    "tags": []
   },
   "outputs": [
    {
     "data": {
      "text/plain": [
       "PassengerId       0\n",
       "Survived        418\n",
       "Pclass            0\n",
       "Name              0\n",
       "Sex               0\n",
       "Age             263\n",
       "SibSp             0\n",
       "Parch             0\n",
       "Ticket            0\n",
       "Fare              1\n",
       "Cabin          1014\n",
       "Embarked          2\n",
       "dtype: int64"
      ]
     },
     "execution_count": 7,
     "metadata": {},
     "output_type": "execute_result"
    }
   ],
   "source": [
    "dataset.isnull().sum()"
   ]
  },
  {
   "cell_type": "code",
   "execution_count": 8,
   "id": "93fb8f79",
   "metadata": {
    "execution": {
     "iopub.execute_input": "2022-01-14T14:34:38.975534Z",
     "iopub.status.busy": "2022-01-14T14:34:38.975007Z",
     "iopub.status.idle": "2022-01-14T14:34:38.983076Z",
     "shell.execute_reply": "2022-01-14T14:34:38.983581Z",
     "shell.execute_reply.started": "2022-01-14T14:27:33.148068Z"
    },
    "papermill": {
     "duration": 0.043089,
     "end_time": "2022-01-14T14:34:38.983743",
     "exception": false,
     "start_time": "2022-01-14T14:34:38.940654",
     "status": "completed"
    },
    "tags": []
   },
   "outputs": [
    {
     "data": {
      "text/plain": [
       "PassengerId       0\n",
       "Survived        418\n",
       "Pclass            0\n",
       "Name              0\n",
       "Sex               0\n",
       "Age             263\n",
       "SibSp             0\n",
       "Parch             0\n",
       "Ticket            0\n",
       "Fare              1\n",
       "Cabin          1014\n",
       "Embarked          2\n",
       "dtype: int64"
      ]
     },
     "execution_count": 8,
     "metadata": {},
     "output_type": "execute_result"
    }
   ],
   "source": [
    "dataset = dataset.fillna(np.nan)\n",
    "dataset.isnull().sum()"
   ]
  },
  {
   "cell_type": "code",
   "execution_count": null,
   "id": "b9f5f79a",
   "metadata": {
    "papermill": {
     "duration": 0.032022,
     "end_time": "2022-01-14T14:34:39.048514",
     "exception": false,
     "start_time": "2022-01-14T14:34:39.016492",
     "status": "completed"
    },
    "tags": []
   },
   "outputs": [],
   "source": []
  },
  {
   "cell_type": "markdown",
   "id": "ce1f98ac",
   "metadata": {
    "papermill": {
     "duration": 0.032164,
     "end_time": "2022-01-14T14:34:39.113359",
     "exception": false,
     "start_time": "2022-01-14T14:34:39.081195",
     "status": "completed"
    },
    "tags": []
   },
   "source": [
    "### **Analyze the features by pivoting techniques**"
   ]
  },
  {
   "cell_type": "code",
   "execution_count": 9,
   "id": "4db0eeab",
   "metadata": {
    "execution": {
     "iopub.execute_input": "2022-01-14T14:34:39.181744Z",
     "iopub.status.busy": "2022-01-14T14:34:39.181173Z",
     "iopub.status.idle": "2022-01-14T14:34:39.195813Z",
     "shell.execute_reply": "2022-01-14T14:34:39.196219Z",
     "shell.execute_reply.started": "2022-01-14T14:27:33.161498Z"
    },
    "papermill": {
     "duration": 0.05011,
     "end_time": "2022-01-14T14:34:39.196377",
     "exception": false,
     "start_time": "2022-01-14T14:34:39.146267",
     "status": "completed"
    },
    "tags": []
   },
   "outputs": [
    {
     "data": {
      "text/html": [
       "<div>\n",
       "<style scoped>\n",
       "    .dataframe tbody tr th:only-of-type {\n",
       "        vertical-align: middle;\n",
       "    }\n",
       "\n",
       "    .dataframe tbody tr th {\n",
       "        vertical-align: top;\n",
       "    }\n",
       "\n",
       "    .dataframe thead th {\n",
       "        text-align: right;\n",
       "    }\n",
       "</style>\n",
       "<table border=\"1\" class=\"dataframe\">\n",
       "  <thead>\n",
       "    <tr style=\"text-align: right;\">\n",
       "      <th></th>\n",
       "      <th>Sex</th>\n",
       "      <th>Survived</th>\n",
       "    </tr>\n",
       "  </thead>\n",
       "  <tbody>\n",
       "    <tr>\n",
       "      <th>0</th>\n",
       "      <td>female</td>\n",
       "      <td>0.742038</td>\n",
       "    </tr>\n",
       "    <tr>\n",
       "      <th>1</th>\n",
       "      <td>male</td>\n",
       "      <td>0.188908</td>\n",
       "    </tr>\n",
       "  </tbody>\n",
       "</table>\n",
       "</div>"
      ],
      "text/plain": [
       "      Sex  Survived\n",
       "0  female  0.742038\n",
       "1    male  0.188908"
      ]
     },
     "execution_count": 9,
     "metadata": {},
     "output_type": "execute_result"
    }
   ],
   "source": [
    "#Sex vs Survived\n",
    "df_train[[\"Sex\", \"Survived\"]].groupby(['Sex'], as_index=False).mean().sort_values(by=\"Survived\", ascending=False)"
   ]
  },
  {
   "cell_type": "code",
   "execution_count": 10,
   "id": "951ddcad",
   "metadata": {
    "execution": {
     "iopub.execute_input": "2022-01-14T14:34:39.273845Z",
     "iopub.status.busy": "2022-01-14T14:34:39.269347Z",
     "iopub.status.idle": "2022-01-14T14:34:39.276237Z",
     "shell.execute_reply": "2022-01-14T14:34:39.276689Z",
     "shell.execute_reply.started": "2022-01-14T14:27:33.184943Z"
    },
    "papermill": {
     "duration": 0.047739,
     "end_time": "2022-01-14T14:34:39.276851",
     "exception": false,
     "start_time": "2022-01-14T14:34:39.229112",
     "status": "completed"
    },
    "tags": []
   },
   "outputs": [
    {
     "data": {
      "text/html": [
       "<div>\n",
       "<style scoped>\n",
       "    .dataframe tbody tr th:only-of-type {\n",
       "        vertical-align: middle;\n",
       "    }\n",
       "\n",
       "    .dataframe tbody tr th {\n",
       "        vertical-align: top;\n",
       "    }\n",
       "\n",
       "    .dataframe thead th {\n",
       "        text-align: right;\n",
       "    }\n",
       "</style>\n",
       "<table border=\"1\" class=\"dataframe\">\n",
       "  <thead>\n",
       "    <tr style=\"text-align: right;\">\n",
       "      <th></th>\n",
       "      <th>Pclass</th>\n",
       "      <th>Survived</th>\n",
       "    </tr>\n",
       "  </thead>\n",
       "  <tbody>\n",
       "    <tr>\n",
       "      <th>0</th>\n",
       "      <td>1</td>\n",
       "      <td>0.629630</td>\n",
       "    </tr>\n",
       "    <tr>\n",
       "      <th>1</th>\n",
       "      <td>2</td>\n",
       "      <td>0.472826</td>\n",
       "    </tr>\n",
       "    <tr>\n",
       "      <th>2</th>\n",
       "      <td>3</td>\n",
       "      <td>0.242363</td>\n",
       "    </tr>\n",
       "  </tbody>\n",
       "</table>\n",
       "</div>"
      ],
      "text/plain": [
       "   Pclass  Survived\n",
       "0       1  0.629630\n",
       "1       2  0.472826\n",
       "2       3  0.242363"
      ]
     },
     "execution_count": 10,
     "metadata": {},
     "output_type": "execute_result"
    }
   ],
   "source": [
    "#Pclass(Ticket class) vs Survived\n",
    "df_train[[\"Pclass\", \"Survived\"]].groupby(['Pclass'], as_index=False).mean().sort_values(by=\"Survived\", ascending=False)"
   ]
  },
  {
   "cell_type": "code",
   "execution_count": 11,
   "id": "7feca347",
   "metadata": {
    "execution": {
     "iopub.execute_input": "2022-01-14T14:34:39.356507Z",
     "iopub.status.busy": "2022-01-14T14:34:39.351496Z",
     "iopub.status.idle": "2022-01-14T14:34:39.359091Z",
     "shell.execute_reply": "2022-01-14T14:34:39.359537Z",
     "shell.execute_reply.started": "2022-01-14T14:27:33.200588Z"
    },
    "papermill": {
     "duration": 0.049699,
     "end_time": "2022-01-14T14:34:39.359689",
     "exception": false,
     "start_time": "2022-01-14T14:34:39.309990",
     "status": "completed"
    },
    "tags": []
   },
   "outputs": [
    {
     "data": {
      "text/html": [
       "<div>\n",
       "<style scoped>\n",
       "    .dataframe tbody tr th:only-of-type {\n",
       "        vertical-align: middle;\n",
       "    }\n",
       "\n",
       "    .dataframe tbody tr th {\n",
       "        vertical-align: top;\n",
       "    }\n",
       "\n",
       "    .dataframe thead th {\n",
       "        text-align: right;\n",
       "    }\n",
       "</style>\n",
       "<table border=\"1\" class=\"dataframe\">\n",
       "  <thead>\n",
       "    <tr style=\"text-align: right;\">\n",
       "      <th></th>\n",
       "      <th>SibSp</th>\n",
       "      <th>Survived</th>\n",
       "    </tr>\n",
       "  </thead>\n",
       "  <tbody>\n",
       "    <tr>\n",
       "      <th>1</th>\n",
       "      <td>1</td>\n",
       "      <td>0.535885</td>\n",
       "    </tr>\n",
       "    <tr>\n",
       "      <th>2</th>\n",
       "      <td>2</td>\n",
       "      <td>0.464286</td>\n",
       "    </tr>\n",
       "    <tr>\n",
       "      <th>0</th>\n",
       "      <td>0</td>\n",
       "      <td>0.345395</td>\n",
       "    </tr>\n",
       "    <tr>\n",
       "      <th>3</th>\n",
       "      <td>3</td>\n",
       "      <td>0.250000</td>\n",
       "    </tr>\n",
       "    <tr>\n",
       "      <th>4</th>\n",
       "      <td>4</td>\n",
       "      <td>0.166667</td>\n",
       "    </tr>\n",
       "    <tr>\n",
       "      <th>5</th>\n",
       "      <td>5</td>\n",
       "      <td>0.000000</td>\n",
       "    </tr>\n",
       "    <tr>\n",
       "      <th>6</th>\n",
       "      <td>8</td>\n",
       "      <td>0.000000</td>\n",
       "    </tr>\n",
       "  </tbody>\n",
       "</table>\n",
       "</div>"
      ],
      "text/plain": [
       "   SibSp  Survived\n",
       "1      1  0.535885\n",
       "2      2  0.464286\n",
       "0      0  0.345395\n",
       "3      3  0.250000\n",
       "4      4  0.166667\n",
       "5      5  0.000000\n",
       "6      8  0.000000"
      ]
     },
     "execution_count": 11,
     "metadata": {},
     "output_type": "execute_result"
    }
   ],
   "source": [
    "#SibSp(siblings / spouses) vs Survived\n",
    "df_train[[\"SibSp\", \"Survived\"]].groupby(['SibSp'], as_index=False).mean().sort_values(by=\"Survived\", ascending=False)"
   ]
  },
  {
   "cell_type": "code",
   "execution_count": 12,
   "id": "ba977408",
   "metadata": {
    "execution": {
     "iopub.execute_input": "2022-01-14T14:34:39.429576Z",
     "iopub.status.busy": "2022-01-14T14:34:39.429048Z",
     "iopub.status.idle": "2022-01-14T14:34:39.439874Z",
     "shell.execute_reply": "2022-01-14T14:34:39.440347Z",
     "shell.execute_reply.started": "2022-01-14T14:27:33.215649Z"
    },
    "papermill": {
     "duration": 0.047653,
     "end_time": "2022-01-14T14:34:39.440501",
     "exception": false,
     "start_time": "2022-01-14T14:34:39.392848",
     "status": "completed"
    },
    "tags": []
   },
   "outputs": [
    {
     "data": {
      "text/html": [
       "<div>\n",
       "<style scoped>\n",
       "    .dataframe tbody tr th:only-of-type {\n",
       "        vertical-align: middle;\n",
       "    }\n",
       "\n",
       "    .dataframe tbody tr th {\n",
       "        vertical-align: top;\n",
       "    }\n",
       "\n",
       "    .dataframe thead th {\n",
       "        text-align: right;\n",
       "    }\n",
       "</style>\n",
       "<table border=\"1\" class=\"dataframe\">\n",
       "  <thead>\n",
       "    <tr style=\"text-align: right;\">\n",
       "      <th></th>\n",
       "      <th>Parch</th>\n",
       "      <th>Survived</th>\n",
       "    </tr>\n",
       "  </thead>\n",
       "  <tbody>\n",
       "    <tr>\n",
       "      <th>3</th>\n",
       "      <td>3</td>\n",
       "      <td>0.600000</td>\n",
       "    </tr>\n",
       "    <tr>\n",
       "      <th>1</th>\n",
       "      <td>1</td>\n",
       "      <td>0.550847</td>\n",
       "    </tr>\n",
       "    <tr>\n",
       "      <th>2</th>\n",
       "      <td>2</td>\n",
       "      <td>0.500000</td>\n",
       "    </tr>\n",
       "    <tr>\n",
       "      <th>0</th>\n",
       "      <td>0</td>\n",
       "      <td>0.343658</td>\n",
       "    </tr>\n",
       "    <tr>\n",
       "      <th>5</th>\n",
       "      <td>5</td>\n",
       "      <td>0.200000</td>\n",
       "    </tr>\n",
       "    <tr>\n",
       "      <th>4</th>\n",
       "      <td>4</td>\n",
       "      <td>0.000000</td>\n",
       "    </tr>\n",
       "    <tr>\n",
       "      <th>6</th>\n",
       "      <td>6</td>\n",
       "      <td>0.000000</td>\n",
       "    </tr>\n",
       "  </tbody>\n",
       "</table>\n",
       "</div>"
      ],
      "text/plain": [
       "   Parch  Survived\n",
       "3      3  0.600000\n",
       "1      1  0.550847\n",
       "2      2  0.500000\n",
       "0      0  0.343658\n",
       "5      5  0.200000\n",
       "4      4  0.000000\n",
       "6      6  0.000000"
      ]
     },
     "execution_count": 12,
     "metadata": {},
     "output_type": "execute_result"
    }
   ],
   "source": [
    "#Parch(parents / children) vs Survived\n",
    "df_train[[\"Parch\", \"Survived\"]].groupby(['Parch'], as_index=False).mean().sort_values(by=\"Survived\", ascending=False)"
   ]
  },
  {
   "cell_type": "markdown",
   "id": "9f92f142",
   "metadata": {
    "papermill": {
     "duration": 0.033448,
     "end_time": "2022-01-14T14:34:39.507787",
     "exception": false,
     "start_time": "2022-01-14T14:34:39.474339",
     "status": "completed"
    },
    "tags": []
   },
   "source": [
    "### **Visualization**"
   ]
  },
  {
   "cell_type": "code",
   "execution_count": 13,
   "id": "73dcc010",
   "metadata": {
    "execution": {
     "iopub.execute_input": "2022-01-14T14:34:39.578097Z",
     "iopub.status.busy": "2022-01-14T14:34:39.577539Z",
     "iopub.status.idle": "2022-01-14T14:34:40.080833Z",
     "shell.execute_reply": "2022-01-14T14:34:40.081338Z",
     "shell.execute_reply.started": "2022-01-14T14:27:33.234736Z"
    },
    "papermill": {
     "duration": 0.539876,
     "end_time": "2022-01-14T14:34:40.081500",
     "exception": false,
     "start_time": "2022-01-14T14:34:39.541624",
     "status": "completed"
    },
    "tags": []
   },
   "outputs": [
    {
     "data": {
      "text/plain": [
       "<seaborn.axisgrid.FacetGrid at 0x7fb59c45a850>"
      ]
     },
     "execution_count": 13,
     "metadata": {},
     "output_type": "execute_result"
    },
    {
     "data": {
      "image/png": "[encoded data removed]",
      "text/plain": [
       "<Figure size 432x216 with 2 Axes>"
      ]
     },
     "metadata": {
      "needs_background": "light"
     },
     "output_type": "display_data"
    }
   ],
   "source": [
    "d = sns.FacetGrid(data=df_train, col='Survived')\n",
    "d.map(plt.hist, 'Age', bins=30)"
   ]
  },
  {
   "cell_type": "code",
   "execution_count": 14,
   "id": "c67e2764",
   "metadata": {
    "execution": {
     "iopub.execute_input": "2022-01-14T14:34:40.157993Z",
     "iopub.status.busy": "2022-01-14T14:34:40.157115Z",
     "iopub.status.idle": "2022-01-14T14:34:40.984769Z",
     "shell.execute_reply": "2022-01-14T14:34:40.985277Z",
     "shell.execute_reply.started": "2022-01-14T14:27:33.767497Z"
    },
    "papermill": {
     "duration": 0.869002,
     "end_time": "2022-01-14T14:34:40.985446",
     "exception": false,
     "start_time": "2022-01-14T14:34:40.116444",
     "status": "completed"
    },
    "tags": []
   },
   "outputs": [
    {
     "data": {
      "text/plain": [
       "<seaborn.axisgrid.FacetGrid at 0x7fb59c2b1e90>"
      ]
     },
     "execution_count": 14,
     "metadata": {},
     "output_type": "execute_result"
    },
    {
     "data": {
      "image/png": "[encoded data removed]",
      "text/plain": [
       "<Figure size 432x432 with 4 Axes>"
      ]
     },
     "metadata": {
      "needs_background": "light"
     },
     "output_type": "display_data"
    }
   ],
   "source": [
    "d2 = sns.FacetGrid(data=df_train, row='Sex', col='Survived')\n",
    "d2.map(plt.hist, 'Age', bins=30)"
   ]
  },
  {
   "cell_type": "code",
   "execution_count": 15,
   "id": "9e990d61",
   "metadata": {
    "execution": {
     "iopub.execute_input": "2022-01-14T14:34:41.059554Z",
     "iopub.status.busy": "2022-01-14T14:34:41.058941Z",
     "iopub.status.idle": "2022-01-14T14:34:42.457128Z",
     "shell.execute_reply": "2022-01-14T14:34:42.457597Z",
     "shell.execute_reply.started": "2022-01-14T14:27:34.696895Z"
    },
    "papermill": {
     "duration": 1.436843,
     "end_time": "2022-01-14T14:34:42.457782",
     "exception": false,
     "start_time": "2022-01-14T14:34:41.020939",
     "status": "completed"
    },
    "tags": []
   },
   "outputs": [
    {
     "data": {
      "text/plain": [
       "<seaborn.axisgrid.FacetGrid at 0x7fb58ff39c50>"
      ]
     },
     "execution_count": 15,
     "metadata": {},
     "output_type": "execute_result"
    },
    {
     "data": {
      "image/png": "[encoded data removed]",
      "text/plain": [
       "<Figure size 432x648 with 6 Axes>"
      ]
     },
     "metadata": {
      "needs_background": "light"
     },
     "output_type": "display_data"
    }
   ],
   "source": [
    "d3 = sns.FacetGrid(data=df_train, row='Pclass', col='Survived')\n",
    "d3.map(plt.hist, 'Age', bins=30)"
   ]
  },
  {
   "cell_type": "code",
   "execution_count": 16,
   "id": "9c33f4af",
   "metadata": {
    "execution": {
     "iopub.execute_input": "2022-01-14T14:34:42.537019Z",
     "iopub.status.busy": "2022-01-14T14:34:42.536398Z",
     "iopub.status.idle": "2022-01-14T14:34:43.458184Z",
     "shell.execute_reply": "2022-01-14T14:34:43.458865Z",
     "shell.execute_reply.started": "2022-01-14T14:27:36.200221Z"
    },
    "papermill": {
     "duration": 0.963194,
     "end_time": "2022-01-14T14:34:43.459051",
     "exception": false,
     "start_time": "2022-01-14T14:34:42.495857",
     "status": "completed"
    },
    "tags": []
   },
   "outputs": [
    {
     "data": {
      "text/plain": [
       "<seaborn.axisgrid.FacetGrid at 0x7fb58fed3710>"
      ]
     },
     "execution_count": 16,
     "metadata": {},
     "output_type": "execute_result"
    },
    {
     "data": {
      "image/png": "[encoded data removed]",
      "text/plain": [
       "<Figure size 216x648 with 3 Axes>"
      ]
     },
     "metadata": {
      "needs_background": "light"
     },
     "output_type": "display_data"
    }
   ],
   "source": [
    "d4 = sns.FacetGrid(data=df_train, row='Embarked')\n",
    "d4.map(sns.pointplot, 'Pclass','Survived','Sex', bins=30)"
   ]
  },
  {
   "cell_type": "code",
   "execution_count": 17,
   "id": "8afda2d7",
   "metadata": {
    "execution": {
     "iopub.execute_input": "2022-01-14T14:34:43.555743Z",
     "iopub.status.busy": "2022-01-14T14:34:43.554786Z",
     "iopub.status.idle": "2022-01-14T14:34:44.333155Z",
     "shell.execute_reply": "2022-01-14T14:34:44.333630Z",
     "shell.execute_reply.started": "2022-01-14T14:27:37.205197Z"
    },
    "papermill": {
     "duration": 0.837484,
     "end_time": "2022-01-14T14:34:44.333802",
     "exception": false,
     "start_time": "2022-01-14T14:34:43.496318",
     "status": "completed"
    },
    "tags": []
   },
   "outputs": [
    {
     "data": {
      "text/plain": [
       "<seaborn.axisgrid.FacetGrid at 0x7fb58f8dd950>"
      ]
     },
     "execution_count": 17,
     "metadata": {},
     "output_type": "execute_result"
    },
    {
     "data": {
      "image/png": "[encoded data removed]",
      "text/plain": [
       "<Figure size 432x648 with 6 Axes>"
      ]
     },
     "metadata": {
      "needs_background": "light"
     },
     "output_type": "display_data"
    }
   ],
   "source": [
    "d5 = sns.FacetGrid(data=df_train, row='Embarked', col='Survived')\n",
    "d5.map(sns.barplot, 'Sex','Fare', palette='deep', ci=None)"
   ]
  },
  {
   "cell_type": "markdown",
   "id": "9a7ec460",
   "metadata": {
    "papermill": {
     "duration": 0.038063,
     "end_time": "2022-01-14T14:34:44.410263",
     "exception": false,
     "start_time": "2022-01-14T14:34:44.372200",
     "status": "completed"
    },
    "tags": []
   },
   "source": [
    "**Interpretation:**\n",
    "1. Oldest passengers survived (Age=80).\n",
    "2. Most passengers are in 17-37 age range approximately.\n",
    "3. Pclass=2 and Pclass=3 passengers are mostly survived.\n",
    "4. Pclass=3 had most passengers but most of the passengers did not survive.\n",
    "5. Most passengers in Pclass=1 survived. \n",
    "6. Higher fare paying passengers had better survival."
   ]
  },
  {
   "cell_type": "code",
   "execution_count": 18,
   "id": "8fb2ee78",
   "metadata": {
    "execution": {
     "iopub.execute_input": "2022-01-14T14:34:44.490592Z",
     "iopub.status.busy": "2022-01-14T14:34:44.489671Z",
     "iopub.status.idle": "2022-01-14T14:34:44.787908Z",
     "shell.execute_reply": "2022-01-14T14:34:44.788364Z",
     "shell.execute_reply.started": "2022-01-14T14:27:38.072091Z"
    },
    "papermill": {
     "duration": 0.339829,
     "end_time": "2022-01-14T14:34:44.788526",
     "exception": false,
     "start_time": "2022-01-14T14:34:44.448697",
     "status": "completed"
    },
    "tags": []
   },
   "outputs": [
    {
     "data": {
      "image/png": "[encoded data removed]",
      "text/plain": [
       "<Figure size 432x288 with 2 Axes>"
      ]
     },
     "metadata": {
      "needs_background": "light"
     },
     "output_type": "display_data"
    }
   ],
   "source": [
    "# Correlation matrix between numerical values (SibSp, Parch, Age and Fare values) and Survived \n",
    "d6 = sns.heatmap(df_train[[\"Survived\",\"SibSp\",\"Parch\",\"Age\",\"Fare\"]].corr(),annot=True, fmt = \".2f\")"
   ]
  },
  {
   "cell_type": "code",
   "execution_count": 19,
   "id": "6e16c2ab",
   "metadata": {
    "execution": {
     "iopub.execute_input": "2022-01-14T14:34:44.870752Z",
     "iopub.status.busy": "2022-01-14T14:34:44.869833Z",
     "iopub.status.idle": "2022-01-14T14:34:45.237633Z",
     "shell.execute_reply": "2022-01-14T14:34:45.237123Z",
     "shell.execute_reply.started": "2022-01-14T14:27:38.418475Z"
    },
    "papermill": {
     "duration": 0.409886,
     "end_time": "2022-01-14T14:34:45.237768",
     "exception": false,
     "start_time": "2022-01-14T14:34:44.827882",
     "status": "completed"
    },
    "tags": []
   },
   "outputs": [
    {
     "data": {
      "image/png": "[encoded data removed]",
      "text/plain": [
       "<Figure size 432x432 with 1 Axes>"
      ]
     },
     "metadata": {
      "needs_background": "light"
     },
     "output_type": "display_data"
    }
   ],
   "source": [
    "d7 = sns.factorplot(x=\"SibSp\", y=\"Survived\", data=df_train, kind=\"bar\", size = 6)\n",
    "d7.despine(left=True)\n",
    "d7 = d7.set_ylabels(\"survival probability\")"
   ]
  },
  {
   "cell_type": "markdown",
   "id": "5cf72ca0",
   "metadata": {
    "papermill": {
     "duration": 0.039625,
     "end_time": "2022-01-14T14:34:45.317670",
     "exception": false,
     "start_time": "2022-01-14T14:34:45.278045",
     "status": "completed"
    },
    "tags": []
   },
   "source": [
    "**Interpretation:**\n",
    "It seems that passengers having a lot of siblings/spouses have less chance to survive"
   ]
  },
  {
   "cell_type": "code",
   "execution_count": 20,
   "id": "2da1f97c",
   "metadata": {
    "execution": {
     "iopub.execute_input": "2022-01-14T14:34:45.418746Z",
     "iopub.status.busy": "2022-01-14T14:34:45.418129Z",
     "iopub.status.idle": "2022-01-14T14:34:45.504011Z",
     "shell.execute_reply": "2022-01-14T14:34:45.504506Z",
     "shell.execute_reply.started": "2022-01-14T14:27:38.876139Z"
    },
    "papermill": {
     "duration": 0.146903,
     "end_time": "2022-01-14T14:34:45.504666",
     "exception": false,
     "start_time": "2022-01-14T14:34:45.357763",
     "status": "completed"
    },
    "tags": []
   },
   "outputs": [
    {
     "data": {
      "text/plain": [
       "<AxesSubplot:xlabel='Fare'>"
      ]
     },
     "execution_count": 20,
     "metadata": {},
     "output_type": "execute_result"
    },
    {
     "data": {
      "image/png": "[encoded data removed]",
      "text/plain": [
       "<Figure size 432x288 with 1 Axes>"
      ]
     },
     "metadata": {
      "needs_background": "light"
     },
     "output_type": "display_data"
    }
   ],
   "source": [
    "#box plot for fare col\n",
    "sns.boxplot('Fare', data=dataset)"
   ]
  },
  {
   "cell_type": "code",
   "execution_count": 21,
   "id": "c939774a",
   "metadata": {
    "execution": {
     "iopub.execute_input": "2022-01-14T14:34:45.592736Z",
     "iopub.status.busy": "2022-01-14T14:34:45.592026Z",
     "iopub.status.idle": "2022-01-14T14:34:45.594399Z",
     "shell.execute_reply": "2022-01-14T14:34:45.594787Z",
     "shell.execute_reply.started": "2022-01-14T14:27:39.040611Z"
    },
    "papermill": {
     "duration": 0.04868,
     "end_time": "2022-01-14T14:34:45.594949",
     "exception": false,
     "start_time": "2022-01-14T14:34:45.546269",
     "status": "completed"
    },
    "tags": []
   },
   "outputs": [],
   "source": [
    "#we can consider the median value for imputing the missing Fare \n",
    "dataset[\"Fare\"] = dataset[\"Fare\"].fillna(dataset[\"Fare\"].median())"
   ]
  },
  {
   "cell_type": "code",
   "execution_count": 22,
   "id": "bb70f240",
   "metadata": {
    "execution": {
     "iopub.execute_input": "2022-01-14T14:34:45.680629Z",
     "iopub.status.busy": "2022-01-14T14:34:45.680050Z",
     "iopub.status.idle": "2022-01-14T14:34:45.978029Z",
     "shell.execute_reply": "2022-01-14T14:34:45.977530Z",
     "shell.execute_reply.started": "2022-01-14T14:27:39.048366Z"
    },
    "papermill": {
     "duration": 0.341924,
     "end_time": "2022-01-14T14:34:45.978171",
     "exception": false,
     "start_time": "2022-01-14T14:34:45.636247",
     "status": "completed"
    },
    "tags": []
   },
   "outputs": [
    {
     "data": {
      "image/png": "[encoded data removed]",
      "text/plain": [
       "<Figure size 432x288 with 1 Axes>"
      ]
     },
     "metadata": {
      "needs_background": "light"
     },
     "output_type": "display_data"
    }
   ],
   "source": [
    "# Explore Fare distribution \n",
    "d8 = sns.distplot(dataset[\"Fare\"], color=\"b\", label=\"Skewness : %.2f\"%(dataset[\"Fare\"].skew()))\n",
    "d8 = d8.legend(loc=\"best\")"
   ]
  },
  {
   "cell_type": "markdown",
   "id": "fa095112",
   "metadata": {
    "papermill": {
     "duration": 0.041027,
     "end_time": "2022-01-14T14:34:46.060932",
     "exception": false,
     "start_time": "2022-01-14T14:34:46.019905",
     "status": "completed"
    },
    "tags": []
   },
   "source": [
    "**Interpretation:**\n",
    "Fare distribution is very skewed. This can lead to overweigth very high values in the model. In this case, it is better to transform it with the log function to reduce this skew."
   ]
  },
  {
   "cell_type": "code",
   "execution_count": 23,
   "id": "0b610ede",
   "metadata": {
    "execution": {
     "iopub.execute_input": "2022-01-14T14:34:46.150940Z",
     "iopub.status.busy": "2022-01-14T14:34:46.150357Z",
     "iopub.status.idle": "2022-01-14T14:34:46.152731Z",
     "shell.execute_reply": "2022-01-14T14:34:46.152304Z",
     "shell.execute_reply.started": "2022-01-14T14:27:39.418800Z"
    },
    "papermill": {
     "duration": 0.050195,
     "end_time": "2022-01-14T14:34:46.152862",
     "exception": false,
     "start_time": "2022-01-14T14:34:46.102667",
     "status": "completed"
    },
    "tags": []
   },
   "outputs": [],
   "source": [
    "# Apply log to Fare to reduce skewness distribution\n",
    "dataset[\"Fare\"] = dataset[\"Fare\"].map(lambda i: np.log(i) if i > 0 else 0)"
   ]
  },
  {
   "cell_type": "code",
   "execution_count": 24,
   "id": "45b1a9a0",
   "metadata": {
    "execution": {
     "iopub.execute_input": "2022-01-14T14:34:46.239782Z",
     "iopub.status.busy": "2022-01-14T14:34:46.239194Z",
     "iopub.status.idle": "2022-01-14T14:34:46.466035Z",
     "shell.execute_reply": "2022-01-14T14:34:46.466478Z",
     "shell.execute_reply.started": "2022-01-14T14:27:39.427464Z"
    },
    "papermill": {
     "duration": 0.272208,
     "end_time": "2022-01-14T14:34:46.466634",
     "exception": false,
     "start_time": "2022-01-14T14:34:46.194426",
     "status": "completed"
    },
    "tags": []
   },
   "outputs": [
    {
     "data": {
      "image/png": "[encoded data removed]",
      "text/plain": [
       "<Figure size 432x288 with 1 Axes>"
      ]
     },
     "metadata": {
      "needs_background": "light"
     },
     "output_type": "display_data"
    }
   ],
   "source": [
    "d9 = sns.distplot(dataset[\"Fare\"], color=\"b\", label=\"Skewness : %.2f\"%(dataset[\"Fare\"].skew()))\n",
    "d9 = d9.legend(loc=\"best\")"
   ]
  },
  {
   "cell_type": "code",
   "execution_count": 25,
   "id": "3d99fc86",
   "metadata": {
    "execution": {
     "iopub.execute_input": "2022-01-14T14:34:46.554821Z",
     "iopub.status.busy": "2022-01-14T14:34:46.554268Z",
     "iopub.status.idle": "2022-01-14T14:34:46.560437Z",
     "shell.execute_reply": "2022-01-14T14:34:46.560883Z",
     "shell.execute_reply.started": "2022-01-14T14:27:39.733692Z"
    },
    "papermill": {
     "duration": 0.051911,
     "end_time": "2022-01-14T14:34:46.561057",
     "exception": false,
     "start_time": "2022-01-14T14:34:46.509146",
     "status": "completed"
    },
    "tags": []
   },
   "outputs": [
    {
     "data": {
      "text/plain": [
       "S    914\n",
       "C    270\n",
       "Q    123\n",
       "Name: Embarked, dtype: int64"
      ]
     },
     "execution_count": 25,
     "metadata": {},
     "output_type": "execute_result"
    }
   ],
   "source": [
    "dataset.Embarked.value_counts()"
   ]
  },
  {
   "cell_type": "code",
   "execution_count": 26,
   "id": "ac9ca218",
   "metadata": {
    "execution": {
     "iopub.execute_input": "2022-01-14T14:34:46.648696Z",
     "iopub.status.busy": "2022-01-14T14:34:46.648165Z",
     "iopub.status.idle": "2022-01-14T14:34:46.654693Z",
     "shell.execute_reply": "2022-01-14T14:34:46.655233Z",
     "shell.execute_reply.started": "2022-01-14T14:27:39.742743Z"
    },
    "papermill": {
     "duration": 0.052057,
     "end_time": "2022-01-14T14:34:46.655391",
     "exception": false,
     "start_time": "2022-01-14T14:34:46.603334",
     "status": "completed"
    },
    "tags": []
   },
   "outputs": [
    {
     "data": {
      "text/plain": [
       "0"
      ]
     },
     "execution_count": 26,
     "metadata": {},
     "output_type": "execute_result"
    }
   ],
   "source": [
    "dataset[\"Embarked\"] = dataset[\"Embarked\"].fillna(\"S\")\n",
    "dataset.Embarked.isnull().sum()"
   ]
  },
  {
   "cell_type": "code",
   "execution_count": 27,
   "id": "8836e22c",
   "metadata": {
    "execution": {
     "iopub.execute_input": "2022-01-14T14:34:46.744428Z",
     "iopub.status.busy": "2022-01-14T14:34:46.743771Z",
     "iopub.status.idle": "2022-01-14T14:34:47.958946Z",
     "shell.execute_reply": "2022-01-14T14:34:47.959457Z",
     "shell.execute_reply.started": "2022-01-14T14:27:39.767403Z"
    },
    "papermill": {
     "duration": 1.260947,
     "end_time": "2022-01-14T14:34:47.959638",
     "exception": false,
     "start_time": "2022-01-14T14:34:46.698691",
     "status": "completed"
    },
    "tags": []
   },
   "outputs": [
    {
     "data": {
      "image/png": "[encoded data removed]",
      "text/plain": [
       "<Figure size 360x360 with 1 Axes>"
      ]
     },
     "metadata": {
      "needs_background": "light"
     },
     "output_type": "display_data"
    },
    {
     "data": {
      "image/png": "[encoded data removed]",
      "text/plain": [
       "<Figure size 402.375x360 with 1 Axes>"
      ]
     },
     "metadata": {
      "needs_background": "light"
     },
     "output_type": "display_data"
    },
    {
     "data": {
      "image/png": "[encoded data removed]",
      "text/plain": [
       "<Figure size 360x360 with 1 Axes>"
      ]
     },
     "metadata": {
      "needs_background": "light"
     },
     "output_type": "display_data"
    },
    {
     "data": {
      "image/png": "[encoded data removed]",
      "text/plain": [
       "<Figure size 360x360 with 1 Axes>"
      ]
     },
     "metadata": {
      "needs_background": "light"
     },
     "output_type": "display_data"
    }
   ],
   "source": [
    "# Explore Age vs Sex, Parch , Pclass and SibSP\n",
    "d10 = sns.factorplot(y=\"Age\",x=\"Sex\",data=dataset,kind=\"box\")\n",
    "d11 = sns.factorplot(y=\"Age\",x=\"Sex\", hue=\"Pclass\", data=dataset, kind=\"box\")\n",
    "d12 = sns.factorplot(y=\"Age\",x=\"Parch\", data=dataset,kind=\"box\")\n",
    "d13 = sns.factorplot(y=\"Age\",x=\"SibSp\", data=dataset,kind=\"box\")"
   ]
  },
  {
   "cell_type": "markdown",
   "id": "ee5e3bc2",
   "metadata": {
    "papermill": {
     "duration": 0.045813,
     "end_time": "2022-01-14T14:34:48.052093",
     "exception": false,
     "start_time": "2022-01-14T14:34:48.006280",
     "status": "completed"
    },
    "tags": []
   },
   "source": [
    "**Interpretation:**\n",
    "1. Age distribution seems to be the same in Male and Female subpopulations, so Sex is not informative to predict Age. However, 1st class passengers are older than 2nd class passengers who are also older than 3rd class passengers.\n",
    "\n",
    "2. More a passenger has Parch(parents/children) the older he is and the more a passenger has SibSp(siblings/spouses) the younger he is."
   ]
  },
  {
   "cell_type": "code",
   "execution_count": 28,
   "id": "7bba70d4",
   "metadata": {
    "execution": {
     "iopub.execute_input": "2022-01-14T14:34:48.150847Z",
     "iopub.status.busy": "2022-01-14T14:34:48.150234Z",
     "iopub.status.idle": "2022-01-14T14:34:48.451624Z",
     "shell.execute_reply": "2022-01-14T14:34:48.451142Z",
     "shell.execute_reply.started": "2022-01-14T14:27:41.366864Z"
    },
    "papermill": {
     "duration": 0.35386,
     "end_time": "2022-01-14T14:34:48.451767",
     "exception": false,
     "start_time": "2022-01-14T14:34:48.097907",
     "status": "completed"
    },
    "tags": []
   },
   "outputs": [
    {
     "data": {
      "image/png": "[encoded data removed]",
      "text/plain": [
       "<Figure size 432x288 with 2 Axes>"
      ]
     },
     "metadata": {
      "needs_background": "light"
     },
     "output_type": "display_data"
    }
   ],
   "source": [
    "# convert Sex into categorical value 0 for male and 1 for female\n",
    "dataset[\"Sex\"] = dataset[\"Sex\"].map({\"male\": 0, \"female\":1})\n",
    "\n",
    "d14 = sns.heatmap(dataset[[\"Age\",\"Sex\",\"SibSp\",\"Parch\",\"Pclass\"]].corr(), annot=True)"
   ]
  },
  {
   "cell_type": "markdown",
   "id": "7b39b5da",
   "metadata": {
    "papermill": {
     "duration": 0.046545,
     "end_time": "2022-01-14T14:34:48.545738",
     "exception": false,
     "start_time": "2022-01-14T14:34:48.499193",
     "status": "completed"
    },
    "tags": []
   },
   "source": [
    "**Interpretation:**\n",
    "1. Age is not correlated with Sex, but is negatively correlated with Pclass, Parch and SibSp.\n",
    "2. In the plot of Age in function of Parch and 'Age' is growing with the number of Parch(parents/children). But generily      it is negativly correlated. So, we can use SibSP, Parch and Pclass in order to impute the missing ages."
   ]
  },
  {
   "cell_type": "code",
   "execution_count": 29,
   "id": "140dcbf3",
   "metadata": {
    "execution": {
     "iopub.execute_input": "2022-01-14T14:34:48.642864Z",
     "iopub.status.busy": "2022-01-14T14:34:48.642256Z",
     "iopub.status.idle": "2022-01-14T14:34:49.553599Z",
     "shell.execute_reply": "2022-01-14T14:34:49.553139Z",
     "shell.execute_reply.started": "2022-01-14T14:27:41.698833Z"
    },
    "papermill": {
     "duration": 0.960689,
     "end_time": "2022-01-14T14:34:49.553737",
     "exception": false,
     "start_time": "2022-01-14T14:34:48.593048",
     "status": "completed"
    },
    "tags": []
   },
   "outputs": [
    {
     "data": {
      "image/png": "[encoded data removed]",
      "text/plain": [
       "<Figure size 360x360 with 1 Axes>"
      ]
     },
     "metadata": {
      "needs_background": "light"
     },
     "output_type": "display_data"
    },
    {
     "data": {
      "image/png": "[encoded data removed]",
      "text/plain": [
       "<Figure size 360x360 with 1 Axes>"
      ]
     },
     "metadata": {
      "needs_background": "light"
     },
     "output_type": "display_data"
    }
   ],
   "source": [
    "# Fill Age with the median age of similar rows according to Pclass, Parch and SibSp. Index of NaN age rows\n",
    "index_nan_age = list(dataset[\"Age\"][dataset[\"Age\"].isnull()].index)\n",
    "\n",
    "for i in index_nan_age :\n",
    "    age_median = dataset[\"Age\"].median()\n",
    "    age_pred = dataset[\"Age\"][((dataset['SibSp'] == dataset.iloc[i][\"SibSp\"]) & (dataset['Parch'] == dataset.iloc[i][\"Parch\"]) & (dataset['Pclass'] == dataset.iloc[i][\"Pclass\"]))].median()\n",
    "    if not np.isnan(age_pred) :\n",
    "        dataset['Age'].iloc[i] = age_pred\n",
    "    else :\n",
    "        dataset['Age'].iloc[i] = age_median\n",
    "        \n",
    "        \n",
    "d15 = sns.factorplot(x=\"Survived\", y = \"Age\", data = df_train, kind=\"box\")\n",
    "d16 = sns.factorplot(x=\"Survived\", y = \"Age\", data = df_train, kind=\"violin\")"
   ]
  },
  {
   "cell_type": "markdown",
   "id": "ac3d4691",
   "metadata": {
    "papermill": {
     "duration": 0.047743,
     "end_time": "2022-01-14T14:34:49.648848",
     "exception": false,
     "start_time": "2022-01-14T14:34:49.601105",
     "status": "completed"
    },
    "tags": []
   },
   "source": [
    "**Interpretation:**\n",
    "Violin plot of survived passengers, we still notice that very young passengers have higher survival rate."
   ]
  },
  {
   "cell_type": "code",
   "execution_count": 30,
   "id": "fdd47a15",
   "metadata": {
    "execution": {
     "iopub.execute_input": "2022-01-14T14:34:49.746841Z",
     "iopub.status.busy": "2022-01-14T14:34:49.746234Z",
     "iopub.status.idle": "2022-01-14T14:34:49.750451Z",
     "shell.execute_reply": "2022-01-14T14:34:49.750955Z",
     "shell.execute_reply.started": "2022-01-14T14:28:38.205170Z"
    },
    "papermill": {
     "duration": 0.054847,
     "end_time": "2022-01-14T14:34:49.751140",
     "exception": false,
     "start_time": "2022-01-14T14:34:49.696293",
     "status": "completed"
    },
    "tags": []
   },
   "outputs": [],
   "source": [
    "# Drop Name variable\n",
    "dataset.drop(labels = [\"Name\"], axis = 1, inplace = True)"
   ]
  },
  {
   "cell_type": "code",
   "execution_count": 31,
   "id": "1f1a0200",
   "metadata": {
    "execution": {
     "iopub.execute_input": "2022-01-14T14:34:49.852598Z",
     "iopub.status.busy": "2022-01-14T14:34:49.851955Z",
     "iopub.status.idle": "2022-01-14T14:34:49.859394Z",
     "shell.execute_reply": "2022-01-14T14:34:49.859866Z",
     "shell.execute_reply.started": "2022-01-14T14:28:46.301239Z"
    },
    "papermill": {
     "duration": 0.058684,
     "end_time": "2022-01-14T14:34:49.860060",
     "exception": false,
     "start_time": "2022-01-14T14:34:49.801376",
     "status": "completed"
    },
    "tags": []
   },
   "outputs": [],
   "source": [
    "# convert to indicator values Embarked \n",
    "dataset = pd.get_dummies(dataset, columns = [\"Embarked\"], prefix=\"Em\")"
   ]
  },
  {
   "cell_type": "code",
   "execution_count": 32,
   "id": "a28780c9",
   "metadata": {
    "execution": {
     "iopub.execute_input": "2022-01-14T14:34:49.959628Z",
     "iopub.status.busy": "2022-01-14T14:34:49.959084Z",
     "iopub.status.idle": "2022-01-14T14:34:49.966282Z",
     "shell.execute_reply": "2022-01-14T14:34:49.966758Z",
     "shell.execute_reply.started": "2022-01-14T14:28:56.004472Z"
    },
    "papermill": {
     "duration": 0.058727,
     "end_time": "2022-01-14T14:34:49.966917",
     "exception": false,
     "start_time": "2022-01-14T14:34:49.908190",
     "status": "completed"
    },
    "tags": []
   },
   "outputs": [
    {
     "data": {
      "text/plain": [
       "count             295\n",
       "unique            186\n",
       "top       C23 C25 C27\n",
       "freq                6\n",
       "Name: Cabin, dtype: object"
      ]
     },
     "execution_count": 32,
     "metadata": {},
     "output_type": "execute_result"
    }
   ],
   "source": [
    "dataset[\"Cabin\"].describe()"
   ]
  },
  {
   "cell_type": "code",
   "execution_count": 33,
   "id": "72ff5539",
   "metadata": {
    "execution": {
     "iopub.execute_input": "2022-01-14T14:34:50.065120Z",
     "iopub.status.busy": "2022-01-14T14:34:50.064550Z",
     "iopub.status.idle": "2022-01-14T14:34:50.070647Z",
     "shell.execute_reply": "2022-01-14T14:34:50.071181Z",
     "shell.execute_reply.started": "2022-01-14T14:29:07.631109Z"
    },
    "papermill": {
     "duration": 0.05695,
     "end_time": "2022-01-14T14:34:50.071337",
     "exception": false,
     "start_time": "2022-01-14T14:34:50.014387",
     "status": "completed"
    },
    "tags": []
   },
   "outputs": [
    {
     "data": {
      "text/plain": [
       "1      C85\n",
       "3     C123\n",
       "6      E46\n",
       "10      G6\n",
       "11    C103\n",
       "Name: Cabin, dtype: object"
      ]
     },
     "execution_count": 33,
     "metadata": {},
     "output_type": "execute_result"
    }
   ],
   "source": [
    "dataset[\"Cabin\"][dataset[\"Cabin\"].notnull()].head()"
   ]
  },
  {
   "cell_type": "code",
   "execution_count": 34,
   "id": "ccdef5c5",
   "metadata": {
    "execution": {
     "iopub.execute_input": "2022-01-14T14:34:50.169706Z",
     "iopub.status.busy": "2022-01-14T14:34:50.169150Z",
     "iopub.status.idle": "2022-01-14T14:34:50.173812Z",
     "shell.execute_reply": "2022-01-14T14:34:50.174402Z",
     "shell.execute_reply.started": "2022-01-14T14:29:15.683115Z"
    },
    "papermill": {
     "duration": 0.055509,
     "end_time": "2022-01-14T14:34:50.174571",
     "exception": false,
     "start_time": "2022-01-14T14:34:50.119062",
     "status": "completed"
    },
    "tags": []
   },
   "outputs": [],
   "source": [
    "# Replace the Cabin number by the type of cabin 'X' if not\n",
    "dataset[\"Cabin\"] = pd.Series([i[0] if not pd.isnull(i) else 'X' for i in dataset['Cabin'] ])"
   ]
  },
  {
   "cell_type": "code",
   "execution_count": 35,
   "id": "6e858a30",
   "metadata": {
    "execution": {
     "iopub.execute_input": "2022-01-14T14:34:50.272874Z",
     "iopub.status.busy": "2022-01-14T14:34:50.272309Z",
     "iopub.status.idle": "2022-01-14T14:34:50.712087Z",
     "shell.execute_reply": "2022-01-14T14:34:50.712529Z",
     "shell.execute_reply.started": "2022-01-14T14:29:22.028215Z"
    },
    "papermill": {
     "duration": 0.490827,
     "end_time": "2022-01-14T14:34:50.712694",
     "exception": false,
     "start_time": "2022-01-14T14:34:50.221867",
     "status": "completed"
    },
    "tags": []
   },
   "outputs": [
    {
     "data": {
      "image/png": "[encoded data removed]",
      "text/plain": [
       "<Figure size 360x360 with 1 Axes>"
      ]
     },
     "metadata": {
      "needs_background": "light"
     },
     "output_type": "display_data"
    }
   ],
   "source": [
    "d17 = sns.factorplot(y=\"Survived\",x=\"Cabin\",data=dataset,kind=\"bar\",order=['A','B','C','D','E','F','G','T','X'])\n",
    "d18 = d17.set_ylabels(\"Survival Probability\")"
   ]
  },
  {
   "cell_type": "markdown",
   "id": "82e3e1f0",
   "metadata": {
    "papermill": {
     "duration": 0.060128,
     "end_time": "2022-01-14T14:34:50.823005",
     "exception": false,
     "start_time": "2022-01-14T14:34:50.762877",
     "status": "completed"
    },
    "tags": []
   },
   "source": [
    "**Interpretation:**\n",
    "Because of the low number of passenger that have a cabin, survival probabilities have an important standard deviation and we can't distinguish between survival probability of passengers in the different desks.\n",
    "\n",
    "But we can see that passengers with a cabin have generally more chance to survive than passengers without (X)."
   ]
  },
  {
   "cell_type": "code",
   "execution_count": 36,
   "id": "617726a1",
   "metadata": {
    "execution": {
     "iopub.execute_input": "2022-01-14T14:34:50.933756Z",
     "iopub.status.busy": "2022-01-14T14:34:50.933182Z",
     "iopub.status.idle": "2022-01-14T14:34:50.937439Z",
     "shell.execute_reply": "2022-01-14T14:34:50.937887Z",
     "shell.execute_reply.started": "2022-01-14T14:29:41.051511Z"
    },
    "papermill": {
     "duration": 0.058989,
     "end_time": "2022-01-14T14:34:50.938063",
     "exception": false,
     "start_time": "2022-01-14T14:34:50.879074",
     "status": "completed"
    },
    "tags": []
   },
   "outputs": [],
   "source": [
    "dataset = pd.get_dummies(dataset, columns = [\"Cabin\"],prefix=\"Cabin\")"
   ]
  },
  {
   "cell_type": "code",
   "execution_count": 37,
   "id": "f5585253",
   "metadata": {
    "execution": {
     "iopub.execute_input": "2022-01-14T14:34:51.042001Z",
     "iopub.status.busy": "2022-01-14T14:34:51.041380Z",
     "iopub.status.idle": "2022-01-14T14:34:51.044385Z",
     "shell.execute_reply": "2022-01-14T14:34:51.044827Z",
     "shell.execute_reply.started": "2022-01-14T14:29:47.886498Z"
    },
    "papermill": {
     "duration": 0.058424,
     "end_time": "2022-01-14T14:34:51.045021",
     "exception": false,
     "start_time": "2022-01-14T14:34:50.986597",
     "status": "completed"
    },
    "tags": []
   },
   "outputs": [
    {
     "data": {
      "text/plain": [
       "0           A/5 21171\n",
       "1            PC 17599\n",
       "2    STON/O2. 3101282\n",
       "3              113803\n",
       "4              373450\n",
       "Name: Ticket, dtype: object"
      ]
     },
     "execution_count": 37,
     "metadata": {},
     "output_type": "execute_result"
    }
   ],
   "source": [
    "dataset[\"Ticket\"].head()"
   ]
  },
  {
   "cell_type": "code",
   "execution_count": 38,
   "id": "95844864",
   "metadata": {
    "execution": {
     "iopub.execute_input": "2022-01-14T14:34:51.146900Z",
     "iopub.status.busy": "2022-01-14T14:34:51.146305Z",
     "iopub.status.idle": "2022-01-14T14:34:51.154224Z",
     "shell.execute_reply": "2022-01-14T14:34:51.154735Z",
     "shell.execute_reply.started": "2022-01-14T14:30:03.652758Z"
    },
    "papermill": {
     "duration": 0.060251,
     "end_time": "2022-01-14T14:34:51.154897",
     "exception": false,
     "start_time": "2022-01-14T14:34:51.094646",
     "status": "completed"
    },
    "tags": []
   },
   "outputs": [
    {
     "data": {
      "text/plain": [
       "0        A5\n",
       "1        PC\n",
       "2    STONO2\n",
       "3         X\n",
       "4         X\n",
       "Name: Ticket, dtype: object"
      ]
     },
     "execution_count": 38,
     "metadata": {},
     "output_type": "execute_result"
    }
   ],
   "source": [
    "# Treat Ticket by extracting the ticket prefix. When there is no prefix it returns X. \n",
    "\n",
    "ticket = []\n",
    "for t in list(dataset.Ticket):\n",
    "    if not t.isdigit() :\n",
    "        ticket.append(t.replace(\".\",\"\").replace(\"/\",\"\").strip().split(' ')[0]) #Take prefix\n",
    "    else:\n",
    "        ticket.append(\"X\")\n",
    "        \n",
    "dataset[\"Ticket\"] = ticket\n",
    "dataset[\"Ticket\"].head()"
   ]
  },
  {
   "cell_type": "code",
   "execution_count": 39,
   "id": "2a3914ae",
   "metadata": {
    "execution": {
     "iopub.execute_input": "2022-01-14T14:34:51.256378Z",
     "iopub.status.busy": "2022-01-14T14:34:51.255780Z",
     "iopub.status.idle": "2022-01-14T14:34:51.269132Z",
     "shell.execute_reply": "2022-01-14T14:34:51.269540Z",
     "shell.execute_reply.started": "2022-01-14T14:30:09.981409Z"
    },
    "papermill": {
     "duration": 0.065992,
     "end_time": "2022-01-14T14:34:51.269730",
     "exception": false,
     "start_time": "2022-01-14T14:34:51.203738",
     "status": "completed"
    },
    "tags": []
   },
   "outputs": [],
   "source": [
    "dataset = pd.get_dummies(dataset, columns = [\"Ticket\"], prefix=\"T\")\n",
    "\n",
    "# Create categorical values for Pclass\n",
    "dataset[\"Pclass\"] = dataset[\"Pclass\"].astype(\"category\")\n",
    "dataset = pd.get_dummies(dataset, columns = [\"Pclass\"],prefix=\"Pc\")\n",
    "\n",
    "# Drop useless variables \n",
    "dataset.drop(labels = [\"PassengerId\"], axis = 1, inplace = True)"
   ]
  },
  {
   "cell_type": "code",
   "execution_count": 40,
   "id": "919254ae",
   "metadata": {
    "execution": {
     "iopub.execute_input": "2022-01-14T14:34:51.373598Z",
     "iopub.status.busy": "2022-01-14T14:34:51.373048Z",
     "iopub.status.idle": "2022-01-14T14:34:51.390041Z",
     "shell.execute_reply": "2022-01-14T14:34:51.390491Z",
     "shell.execute_reply.started": "2022-01-14T14:30:18.974418Z"
    },
    "papermill": {
     "duration": 0.070597,
     "end_time": "2022-01-14T14:34:51.390644",
     "exception": false,
     "start_time": "2022-01-14T14:34:51.320047",
     "status": "completed"
    },
    "tags": []
   },
   "outputs": [
    {
     "data": {
      "text/html": [
       "<div>\n",
       "<style scoped>\n",
       "    .dataframe tbody tr th:only-of-type {\n",
       "        vertical-align: middle;\n",
       "    }\n",
       "\n",
       "    .dataframe tbody tr th {\n",
       "        vertical-align: top;\n",
       "    }\n",
       "\n",
       "    .dataframe thead th {\n",
       "        text-align: right;\n",
       "    }\n",
       "</style>\n",
       "<table border=\"1\" class=\"dataframe\">\n",
       "  <thead>\n",
       "    <tr style=\"text-align: right;\">\n",
       "      <th></th>\n",
       "      <th>Survived</th>\n",
       "      <th>Sex</th>\n",
       "      <th>Age</th>\n",
       "      <th>SibSp</th>\n",
       "      <th>Parch</th>\n",
       "      <th>Fare</th>\n",
       "      <th>Em_C</th>\n",
       "      <th>Em_Q</th>\n",
       "      <th>Em_S</th>\n",
       "      <th>Cabin_A</th>\n",
       "      <th>...</th>\n",
       "      <th>T_STONO</th>\n",
       "      <th>T_STONO2</th>\n",
       "      <th>T_STONOQ</th>\n",
       "      <th>T_SWPP</th>\n",
       "      <th>T_WC</th>\n",
       "      <th>T_WEP</th>\n",
       "      <th>T_X</th>\n",
       "      <th>Pc_1</th>\n",
       "      <th>Pc_2</th>\n",
       "      <th>Pc_3</th>\n",
       "    </tr>\n",
       "  </thead>\n",
       "  <tbody>\n",
       "    <tr>\n",
       "      <th>0</th>\n",
       "      <td>0.0</td>\n",
       "      <td>0</td>\n",
       "      <td>22.0</td>\n",
       "      <td>1</td>\n",
       "      <td>0</td>\n",
       "      <td>1.981001</td>\n",
       "      <td>0</td>\n",
       "      <td>0</td>\n",
       "      <td>1</td>\n",
       "      <td>0</td>\n",
       "      <td>...</td>\n",
       "      <td>0</td>\n",
       "      <td>0</td>\n",
       "      <td>0</td>\n",
       "      <td>0</td>\n",
       "      <td>0</td>\n",
       "      <td>0</td>\n",
       "      <td>0</td>\n",
       "      <td>0</td>\n",
       "      <td>0</td>\n",
       "      <td>1</td>\n",
       "    </tr>\n",
       "    <tr>\n",
       "      <th>1</th>\n",
       "      <td>1.0</td>\n",
       "      <td>1</td>\n",
       "      <td>38.0</td>\n",
       "      <td>1</td>\n",
       "      <td>0</td>\n",
       "      <td>4.266662</td>\n",
       "      <td>1</td>\n",
       "      <td>0</td>\n",
       "      <td>0</td>\n",
       "      <td>0</td>\n",
       "      <td>...</td>\n",
       "      <td>0</td>\n",
       "      <td>0</td>\n",
       "      <td>0</td>\n",
       "      <td>0</td>\n",
       "      <td>0</td>\n",
       "      <td>0</td>\n",
       "      <td>0</td>\n",
       "      <td>1</td>\n",
       "      <td>0</td>\n",
       "      <td>0</td>\n",
       "    </tr>\n",
       "    <tr>\n",
       "      <th>2</th>\n",
       "      <td>1.0</td>\n",
       "      <td>1</td>\n",
       "      <td>26.0</td>\n",
       "      <td>0</td>\n",
       "      <td>0</td>\n",
       "      <td>2.070022</td>\n",
       "      <td>0</td>\n",
       "      <td>0</td>\n",
       "      <td>1</td>\n",
       "      <td>0</td>\n",
       "      <td>...</td>\n",
       "      <td>0</td>\n",
       "      <td>1</td>\n",
       "      <td>0</td>\n",
       "      <td>0</td>\n",
       "      <td>0</td>\n",
       "      <td>0</td>\n",
       "      <td>0</td>\n",
       "      <td>0</td>\n",
       "      <td>0</td>\n",
       "      <td>1</td>\n",
       "    </tr>\n",
       "    <tr>\n",
       "      <th>3</th>\n",
       "      <td>1.0</td>\n",
       "      <td>1</td>\n",
       "      <td>35.0</td>\n",
       "      <td>1</td>\n",
       "      <td>0</td>\n",
       "      <td>3.972177</td>\n",
       "      <td>0</td>\n",
       "      <td>0</td>\n",
       "      <td>1</td>\n",
       "      <td>0</td>\n",
       "      <td>...</td>\n",
       "      <td>0</td>\n",
       "      <td>0</td>\n",
       "      <td>0</td>\n",
       "      <td>0</td>\n",
       "      <td>0</td>\n",
       "      <td>0</td>\n",
       "      <td>1</td>\n",
       "      <td>1</td>\n",
       "      <td>0</td>\n",
       "      <td>0</td>\n",
       "    </tr>\n",
       "    <tr>\n",
       "      <th>4</th>\n",
       "      <td>0.0</td>\n",
       "      <td>0</td>\n",
       "      <td>35.0</td>\n",
       "      <td>0</td>\n",
       "      <td>0</td>\n",
       "      <td>2.085672</td>\n",
       "      <td>0</td>\n",
       "      <td>0</td>\n",
       "      <td>1</td>\n",
       "      <td>0</td>\n",
       "      <td>...</td>\n",
       "      <td>0</td>\n",
       "      <td>0</td>\n",
       "      <td>0</td>\n",
       "      <td>0</td>\n",
       "      <td>0</td>\n",
       "      <td>0</td>\n",
       "      <td>1</td>\n",
       "      <td>0</td>\n",
       "      <td>0</td>\n",
       "      <td>1</td>\n",
       "    </tr>\n",
       "  </tbody>\n",
       "</table>\n",
       "<p>5 rows × 58 columns</p>\n",
       "</div>"
      ],
      "text/plain": [
       "   Survived  Sex   Age  SibSp  Parch      Fare  Em_C  Em_Q  Em_S  Cabin_A  \\\n",
       "0       0.0    0  22.0      1      0  1.981001     0     0     1        0   \n",
       "1       1.0    1  38.0      1      0  4.266662     1     0     0        0   \n",
       "2       1.0    1  26.0      0      0  2.070022     0     0     1        0   \n",
       "3       1.0    1  35.0      1      0  3.972177     0     0     1        0   \n",
       "4       0.0    0  35.0      0      0  2.085672     0     0     1        0   \n",
       "\n",
       "   ...  T_STONO  T_STONO2  T_STONOQ  T_SWPP  T_WC  T_WEP  T_X  Pc_1  Pc_2  \\\n",
       "0  ...        0         0         0       0     0      0    0     0     0   \n",
       "1  ...        0         0         0       0     0      0    0     1     0   \n",
       "2  ...        0         1         0       0     0      0    0     0     0   \n",
       "3  ...        0         0         0       0     0      0    1     1     0   \n",
       "4  ...        0         0         0       0     0      0    1     0     0   \n",
       "\n",
       "   Pc_3  \n",
       "0     1  \n",
       "1     0  \n",
       "2     1  \n",
       "3     0  \n",
       "4     1  \n",
       "\n",
       "[5 rows x 58 columns]"
      ]
     },
     "execution_count": 40,
     "metadata": {},
     "output_type": "execute_result"
    }
   ],
   "source": [
    "dataset.head()"
   ]
  },
  {
   "cell_type": "code",
   "execution_count": 41,
   "id": "cf0b2562",
   "metadata": {
    "execution": {
     "iopub.execute_input": "2022-01-14T14:34:51.509401Z",
     "iopub.status.busy": "2022-01-14T14:34:51.508757Z",
     "iopub.status.idle": "2022-01-14T14:34:51.511729Z",
     "shell.execute_reply": "2022-01-14T14:34:51.512221Z",
     "shell.execute_reply.started": "2022-01-14T14:30:33.358062Z"
    },
    "papermill": {
     "duration": 0.071785,
     "end_time": "2022-01-14T14:34:51.512375",
     "exception": false,
     "start_time": "2022-01-14T14:34:51.440590",
     "status": "completed"
    },
    "tags": []
   },
   "outputs": [],
   "source": [
    "# Separate train dataset and test dataset\n",
    "train_len = len(df_train)\n",
    "train = dataset[:train_len]\n",
    "test = dataset[train_len:]\n",
    "test.drop(labels=[\"Survived\"],axis = 1,inplace=True)"
   ]
  },
  {
   "cell_type": "code",
   "execution_count": 42,
   "id": "a3e75f66",
   "metadata": {
    "execution": {
     "iopub.execute_input": "2022-01-14T14:34:51.623575Z",
     "iopub.status.busy": "2022-01-14T14:34:51.622976Z",
     "iopub.status.idle": "2022-01-14T14:34:51.630328Z",
     "shell.execute_reply": "2022-01-14T14:34:51.630861Z",
     "shell.execute_reply.started": "2022-01-14T14:30:44.236517Z"
    },
    "papermill": {
     "duration": 0.06194,
     "end_time": "2022-01-14T14:34:51.631046",
     "exception": false,
     "start_time": "2022-01-14T14:34:51.569106",
     "status": "completed"
    },
    "tags": []
   },
   "outputs": [],
   "source": [
    "# Separate train features and label \n",
    "\n",
    "train[\"Survived\"] = train[\"Survived\"].astype(int)\n",
    "y_train = train[\"Survived\"]\n",
    "x_train = train.drop(labels = [\"Survived\"],axis = 1)"
   ]
  },
  {
   "cell_type": "code",
   "execution_count": 43,
   "id": "6b9a69a8",
   "metadata": {
    "execution": {
     "iopub.execute_input": "2022-01-14T14:34:51.744019Z",
     "iopub.status.busy": "2022-01-14T14:34:51.743300Z",
     "iopub.status.idle": "2022-01-14T14:34:52.064528Z",
     "shell.execute_reply": "2022-01-14T14:34:52.063835Z",
     "shell.execute_reply.started": "2022-01-14T14:30:55.262113Z"
    },
    "papermill": {
     "duration": 0.377266,
     "end_time": "2022-01-14T14:34:52.064673",
     "exception": false,
     "start_time": "2022-01-14T14:34:51.687407",
     "status": "completed"
    },
    "tags": []
   },
   "outputs": [],
   "source": [
    "from sklearn.model_selection import GridSearchCV, cross_val_score, StratifiedKFold, learning_curve\n",
    "from sklearn.svm import SVC\n",
    "from sklearn.linear_model import LogisticRegression\n",
    "from sklearn.neighbors import KNeighborsClassifier\n",
    "from sklearn.ensemble import RandomForestClassifier, AdaBoostClassifier, ExtraTreesClassifier, GradientBoostingClassifier\n",
    "from sklearn.ensemble import VotingClassifier\n",
    "from sklearn.tree import DecisionTreeClassifier"
   ]
  },
  {
   "cell_type": "code",
   "execution_count": 44,
   "id": "1a67deeb",
   "metadata": {
    "execution": {
     "iopub.execute_input": "2022-01-14T14:34:52.167731Z",
     "iopub.status.busy": "2022-01-14T14:34:52.167155Z",
     "iopub.status.idle": "2022-01-14T14:34:52.175452Z",
     "shell.execute_reply": "2022-01-14T14:34:52.176009Z",
     "shell.execute_reply.started": "2022-01-14T14:31:12.909694Z"
    },
    "papermill": {
     "duration": 0.06145,
     "end_time": "2022-01-14T14:34:52.176164",
     "exception": false,
     "start_time": "2022-01-14T14:34:52.114714",
     "status": "completed"
    },
    "tags": []
   },
   "outputs": [],
   "source": [
    "k_fold = StratifiedKFold(n_splits=10)\n",
    "\n",
    "random_state = 40\n",
    "classifiers  = []\n",
    "\n",
    "classifiers.append(KNeighborsClassifier())\n",
    "classifiers.append(SVC(random_state=random_state))\n",
    "classifiers.append(RandomForestClassifier(random_state=random_state))\n",
    "classifiers.append(DecisionTreeClassifier(random_state=random_state))\n",
    "classifiers.append(ExtraTreesClassifier(random_state=random_state))\n",
    "\n",
    "classifiers.append(AdaBoostClassifier(DecisionTreeClassifier(random_state=random_state), \n",
    "                                      random_state=random_state, \n",
    "                                      learning_rate=0.001))\n",
    "\n",
    "classifiers.append(GradientBoostingClassifier(random_state=random_state))"
   ]
  },
  {
   "cell_type": "code",
   "execution_count": 45,
   "id": "1764f498",
   "metadata": {
    "execution": {
     "iopub.execute_input": "2022-01-14T14:34:52.282813Z",
     "iopub.status.busy": "2022-01-14T14:34:52.282220Z",
     "iopub.status.idle": "2022-01-14T14:34:58.495540Z",
     "shell.execute_reply": "2022-01-14T14:34:58.495056Z",
     "shell.execute_reply.started": "2022-01-14T14:31:27.741641Z"
    },
    "papermill": {
     "duration": 6.266033,
     "end_time": "2022-01-14T14:34:58.495681",
     "exception": false,
     "start_time": "2022-01-14T14:34:52.229648",
     "status": "completed"
    },
    "tags": []
   },
   "outputs": [
    {
     "data": {
      "image/png": "[encoded data removed]",
      "text/plain": [
       "<Figure size 432x288 with 1 Axes>"
      ]
     },
     "metadata": {
      "needs_background": "light"
     },
     "output_type": "display_data"
    }
   ],
   "source": [
    "cv_results = []\n",
    "for classifier in classifiers :\n",
    "    cv_results.append(cross_val_score(classifier, x_train, y = y_train, scoring = \"accuracy\", cv = k_fold, n_jobs=2))\n",
    "\n",
    "cv_means = []\n",
    "cv_std = []\n",
    "for cv_result in cv_results:\n",
    "    cv_means.append(cv_result.mean())\n",
    "    cv_std.append(cv_result.std())\n",
    "\n",
    "cv_res = pd.DataFrame({\"CrossValMeans\":cv_means,\n",
    "                       \"CrossValerrors\": cv_std,\n",
    "                       \"Algorithm\":[\"KNeighborsClassifier\", \n",
    "                                    \"SVC\", \n",
    "                                    \"RandomForestClassifier\",\n",
    "                                    \"DecisionTreeClassifier\",\n",
    "                                    \"ExtraTreesClassifier\",\n",
    "                                    \"AdaBoostClassifier\",\n",
    "                                    \"GradientBoostingClassifier\"]})\n",
    "\n",
    "d = sns.barplot(\"CrossValMeans\",\"Algorithm\", data = cv_res, orient = \"h\",**{'xerr':cv_std})\n",
    "d.set_xlabel(\"Mean Accuracy\")\n",
    "d = d.set_title(\"Cross validation scores\")"
   ]
  },
  {
   "cell_type": "markdown",
   "id": "230cacc5",
   "metadata": {
    "papermill": {
     "duration": 0.050496,
     "end_time": "2022-01-14T14:34:58.598080",
     "exception": false,
     "start_time": "2022-01-14T14:34:58.547584",
     "status": "completed"
    },
    "tags": []
   },
   "source": [
    "### Random Forest"
   ]
  },
  {
   "cell_type": "code",
   "execution_count": 46,
   "id": "417edf67",
   "metadata": {
    "execution": {
     "iopub.execute_input": "2022-01-14T14:34:58.711269Z",
     "iopub.status.busy": "2022-01-14T14:34:58.710206Z",
     "iopub.status.idle": "2022-01-14T14:36:24.700467Z",
     "shell.execute_reply": "2022-01-14T14:36:24.700020Z",
     "shell.execute_reply.started": "2022-01-14T14:31:54.700322Z"
    },
    "papermill": {
     "duration": 86.051638,
     "end_time": "2022-01-14T14:36:24.700611",
     "exception": false,
     "start_time": "2022-01-14T14:34:58.648973",
     "status": "completed"
    },
    "tags": []
   },
   "outputs": [
    {
     "name": "stdout",
     "output_type": "stream",
     "text": [
      "Fitting 10 folds for each of 54 candidates, totalling 540 fits\n"
     ]
    },
    {
     "name": "stderr",
     "output_type": "stream",
     "text": [
      "[Parallel(n_jobs=2)]: Using backend LokyBackend with 2 concurrent workers.\n",
      "[Parallel(n_jobs=2)]: Done  46 tasks      | elapsed:    7.8s\n",
      "[Parallel(n_jobs=2)]: Done 196 tasks      | elapsed:   26.4s\n",
      "[Parallel(n_jobs=2)]: Done 446 tasks      | elapsed:  1.1min\n",
      "[Parallel(n_jobs=2)]: Done 540 out of 540 | elapsed:  1.4min finished\n"
     ]
    },
    {
     "data": {
      "text/plain": [
       "0.8339700374531835"
      ]
     },
     "execution_count": 46,
     "metadata": {},
     "output_type": "execute_result"
    }
   ],
   "source": [
    "rfc = RandomForestClassifier()\n",
    "\n",
    "rfc_param_grid = {\"max_depth\":[None],\n",
    "                  \"max_features\":[1, 3, 20],\n",
    "                  \"min_samples_split\": [2, 3, 20],\n",
    "                  \"min_samples_leaf\": [1, 3, 20],\n",
    "                  \"bootstrap\": [False],\n",
    "                  \"n_estimators\" :[100,300],\n",
    "                  \"criterion\": [\"gini\"]}\n",
    "\n",
    "grid_search_rfc = GridSearchCV(rfc, \n",
    "                               param_grid=rfc_param_grid, \n",
    "                               cv=k_fold, \n",
    "                               scoring=\"accuracy\", \n",
    "                               n_jobs=2, \n",
    "                               verbose=1)\n",
    "\n",
    "grid_search_rfc.fit(x_train, y_train)\n",
    "rfc_best_estimator = grid_search_rfc.best_estimator_\n",
    "grid_search_rfc.best_score_"
   ]
  }
 ],
 "metadata": {
  "kernelspec": {
   "display_name": "Python 3",
   "language": "python",
   "name": "python3"
  },
  "language_info": {
   "codemirror_mode": {
    "name": "ipython",
    "version": 3
   },
   "file_extension": ".py",
   "mimetype": "text/x-python",
   "name": "python",
   "nbconvert_exporter": "python",
   "pygments_lexer": "ipython3",
   "version": "3.7.12"
  },
  "papermill": {
   "default_parameters": {},
   "duration": 116.48728,
   "end_time": "2022-01-14T14:36:25.664452",
   "environment_variables": {},
   "exception": null,
   "input_path": "__notebook__.ipynb",
   "output_path": "__notebook__.ipynb",
   "parameters": {},
   "start_time": "2022-01-14T14:34:29.177172",
   "version": "2.3.3"
  }
 },
 "nbformat": 4,
 "nbformat_minor": 5
}
